{
  "nbformat": 4,
  "nbformat_minor": 0,
  "metadata": {
    "colab": {
      "name": "V1_classification_exercise_XGBoost_Bhav_DengueAI_Project.ipynb",
      "provenance": [],
      "collapsed_sections": [],
      "include_colab_link": true
    },
    "kernelspec": {
      "name": "python3",
      "display_name": "Python 3"
    },
    "accelerator": "GPU"
  },
  "cells": [
    {
      "cell_type": "markdown",
      "metadata": {
        "id": "view-in-github",
        "colab_type": "text"
      },
      "source": [
        "<a href=\"https://colab.research.google.com/github/bs3537/DS-Unit-2-Applied-Modeling/blob/master/V1_classification_exercise_XGBoost_Bhav_DengueAI_Project.ipynb\" target=\"_parent\"><img src=\"https://colab.research.google.com/assets/colab-badge.svg\" alt=\"Open In Colab\"/></a>"
      ]
    },
    {
      "cell_type": "code",
      "metadata": {
        "id": "5Ukh8Map-36v",
        "colab_type": "code",
        "colab": {}
      },
      "source": [
        "import numpy as np\n",
        "import matplotlib.pyplot as plt\n",
        "import pandas as pd"
      ],
      "execution_count": 0,
      "outputs": []
    },
    {
      "cell_type": "code",
      "metadata": {
        "id": "bNfkOBCy_Jou",
        "colab_type": "code",
        "colab": {}
      },
      "source": [
        "#https://www.drivendata.org/competitions/44/dengai-predicting-disease-spread/page/80/"
      ],
      "execution_count": 0,
      "outputs": []
    },
    {
      "cell_type": "code",
      "metadata": {
        "id": "ffADrian_pCI",
        "colab_type": "code",
        "colab": {}
      },
      "source": [
        "#Your goal is to predict the total_cases label for each (city, year, weekofyear) in the test set. "
      ],
      "execution_count": 0,
      "outputs": []
    },
    {
      "cell_type": "code",
      "metadata": {
        "id": "NwxEGb6g_wbd",
        "colab_type": "code",
        "colab": {}
      },
      "source": [
        "#Performance metric = mean absolute error"
      ],
      "execution_count": 0,
      "outputs": []
    },
    {
      "cell_type": "markdown",
      "metadata": {
        "id": "-C1DncwC_72L",
        "colab_type": "text"
      },
      "source": [
        "##LIST OF FEATURES:\n",
        "You are provided the following set of information on a (year, weekofyear) timescale:\n",
        "\n",
        "(Where appropriate, units are provided as a _unit suffix on the feature name.)\n",
        "\n",
        "###City and date indicators\n",
        "1. city – City abbreviations: sj for San Juan and iq for Iquitos\n",
        "2. week_start_date – Date given in yyyy-mm-dd format\n",
        "###NOAA's GHCN daily climate data weather station measurements\n",
        "1. station_max_temp_c – Maximum temperature\n",
        "2. station_min_temp_c – Minimum temperature\n",
        "3. station_avg_temp_c – Average temperature\n",
        "4. station_precip_mm – Total precipitation\n",
        "5. station_diur_temp_rng_c – Diurnal temperature range\n",
        "\n",
        "###PERSIANN satellite precipitation measurements (0.25x0.25 degree scale)\n",
        "\n",
        "6. precipitation_amt_mm – Total precipitation\n",
        "\n",
        "###NOAA's NCEP Climate Forecast System Reanalysis measurements (0.5x0.5 degree scale)\n",
        "\n",
        "7. reanalysis_sat_precip_amt_mm – Total precipitation\n",
        "8. reanalysis_dew_point_temp_k – Mean dew point temperature\n",
        "9. reanalysis_air_temp_k – Mean air temperature\n",
        "10. reanalysis_relative_humidity_percent – Mean relative humidity\n",
        "11. reanalysis_specific_humidity_g_per_kg – Mean specific humidity\n",
        "12. reanalysis_precip_amt_kg_per_m2 – Total precipitation\n",
        "13. reanalysis_max_air_temp_k – Maximum air temperature\n",
        "14. reanalysis_min_air_temp_k – Minimum air temperature\n",
        "15. reanalysis_avg_temp_k – Average air temperature\n",
        "16. reanalysis_tdtr_k – Diurnal temperature range\n",
        "\n",
        "###Satellite vegetation - Normalized difference vegetation index (NDVI) - NOAA's CDR Normalized Difference Vegetation Index (0.5x0.5 degree scale) measurements\n",
        "17. ndvi_se – Pixel southeast of city centroid\n",
        "18. ndvi_sw – Pixel southwest of city centroid\n",
        "19. ndvi_ne – Pixel northeast of city centroid\n",
        "20. ndvi_nw – Pixel northwest of city centroid"
      ]
    },
    {
      "cell_type": "markdown",
      "metadata": {
        "id": "kcOv7N-DB8IY",
        "colab_type": "text"
      },
      "source": [
        "####TARGET VARIABLE = total_cases label for each (city, year, weekofyear)"
      ]
    },
    {
      "cell_type": "code",
      "metadata": {
        "id": "R812MHU9CGnV",
        "colab_type": "code",
        "colab": {}
      },
      "source": [
        "import sys"
      ],
      "execution_count": 0,
      "outputs": []
    },
    {
      "cell_type": "code",
      "metadata": {
        "id": "lbD6Iui1C4nV",
        "colab_type": "code",
        "colab": {}
      },
      "source": [
        "#Load train features and labels datasets\n",
        "train_features = pd.read_csv('https://s3.amazonaws.com/drivendata/data/44/public/dengue_features_train.csv')"
      ],
      "execution_count": 0,
      "outputs": []
    },
    {
      "cell_type": "code",
      "metadata": {
        "id": "s-_yx5mWDiXj",
        "colab_type": "code",
        "outputId": "2cf589fb-a52b-409d-9334-c6e0f100dce9",
        "colab": {
          "base_uri": "https://localhost:8080/",
          "height": 218
        }
      },
      "source": [
        "train_features.head()"
      ],
      "execution_count": 7,
      "outputs": [
        {
          "output_type": "execute_result",
          "data": {
            "text/html": [
              "<div>\n",
              "<style scoped>\n",
              "    .dataframe tbody tr th:only-of-type {\n",
              "        vertical-align: middle;\n",
              "    }\n",
              "\n",
              "    .dataframe tbody tr th {\n",
              "        vertical-align: top;\n",
              "    }\n",
              "\n",
              "    .dataframe thead th {\n",
              "        text-align: right;\n",
              "    }\n",
              "</style>\n",
              "<table border=\"1\" class=\"dataframe\">\n",
              "  <thead>\n",
              "    <tr style=\"text-align: right;\">\n",
              "      <th></th>\n",
              "      <th>city</th>\n",
              "      <th>year</th>\n",
              "      <th>weekofyear</th>\n",
              "      <th>week_start_date</th>\n",
              "      <th>ndvi_ne</th>\n",
              "      <th>ndvi_nw</th>\n",
              "      <th>ndvi_se</th>\n",
              "      <th>ndvi_sw</th>\n",
              "      <th>precipitation_amt_mm</th>\n",
              "      <th>reanalysis_air_temp_k</th>\n",
              "      <th>reanalysis_avg_temp_k</th>\n",
              "      <th>reanalysis_dew_point_temp_k</th>\n",
              "      <th>reanalysis_max_air_temp_k</th>\n",
              "      <th>reanalysis_min_air_temp_k</th>\n",
              "      <th>reanalysis_precip_amt_kg_per_m2</th>\n",
              "      <th>reanalysis_relative_humidity_percent</th>\n",
              "      <th>reanalysis_sat_precip_amt_mm</th>\n",
              "      <th>reanalysis_specific_humidity_g_per_kg</th>\n",
              "      <th>reanalysis_tdtr_k</th>\n",
              "      <th>station_avg_temp_c</th>\n",
              "      <th>station_diur_temp_rng_c</th>\n",
              "      <th>station_max_temp_c</th>\n",
              "      <th>station_min_temp_c</th>\n",
              "      <th>station_precip_mm</th>\n",
              "    </tr>\n",
              "  </thead>\n",
              "  <tbody>\n",
              "    <tr>\n",
              "      <th>0</th>\n",
              "      <td>sj</td>\n",
              "      <td>1990</td>\n",
              "      <td>18</td>\n",
              "      <td>1990-04-30</td>\n",
              "      <td>0.122600</td>\n",
              "      <td>0.103725</td>\n",
              "      <td>0.198483</td>\n",
              "      <td>0.177617</td>\n",
              "      <td>12.42</td>\n",
              "      <td>297.572857</td>\n",
              "      <td>297.742857</td>\n",
              "      <td>292.414286</td>\n",
              "      <td>299.8</td>\n",
              "      <td>295.9</td>\n",
              "      <td>32.00</td>\n",
              "      <td>73.365714</td>\n",
              "      <td>12.42</td>\n",
              "      <td>14.012857</td>\n",
              "      <td>2.628571</td>\n",
              "      <td>25.442857</td>\n",
              "      <td>6.900000</td>\n",
              "      <td>29.4</td>\n",
              "      <td>20.0</td>\n",
              "      <td>16.0</td>\n",
              "    </tr>\n",
              "    <tr>\n",
              "      <th>1</th>\n",
              "      <td>sj</td>\n",
              "      <td>1990</td>\n",
              "      <td>19</td>\n",
              "      <td>1990-05-07</td>\n",
              "      <td>0.169900</td>\n",
              "      <td>0.142175</td>\n",
              "      <td>0.162357</td>\n",
              "      <td>0.155486</td>\n",
              "      <td>22.82</td>\n",
              "      <td>298.211429</td>\n",
              "      <td>298.442857</td>\n",
              "      <td>293.951429</td>\n",
              "      <td>300.9</td>\n",
              "      <td>296.4</td>\n",
              "      <td>17.94</td>\n",
              "      <td>77.368571</td>\n",
              "      <td>22.82</td>\n",
              "      <td>15.372857</td>\n",
              "      <td>2.371429</td>\n",
              "      <td>26.714286</td>\n",
              "      <td>6.371429</td>\n",
              "      <td>31.7</td>\n",
              "      <td>22.2</td>\n",
              "      <td>8.6</td>\n",
              "    </tr>\n",
              "    <tr>\n",
              "      <th>2</th>\n",
              "      <td>sj</td>\n",
              "      <td>1990</td>\n",
              "      <td>20</td>\n",
              "      <td>1990-05-14</td>\n",
              "      <td>0.032250</td>\n",
              "      <td>0.172967</td>\n",
              "      <td>0.157200</td>\n",
              "      <td>0.170843</td>\n",
              "      <td>34.54</td>\n",
              "      <td>298.781429</td>\n",
              "      <td>298.878571</td>\n",
              "      <td>295.434286</td>\n",
              "      <td>300.5</td>\n",
              "      <td>297.3</td>\n",
              "      <td>26.10</td>\n",
              "      <td>82.052857</td>\n",
              "      <td>34.54</td>\n",
              "      <td>16.848571</td>\n",
              "      <td>2.300000</td>\n",
              "      <td>26.714286</td>\n",
              "      <td>6.485714</td>\n",
              "      <td>32.2</td>\n",
              "      <td>22.8</td>\n",
              "      <td>41.4</td>\n",
              "    </tr>\n",
              "    <tr>\n",
              "      <th>3</th>\n",
              "      <td>sj</td>\n",
              "      <td>1990</td>\n",
              "      <td>21</td>\n",
              "      <td>1990-05-21</td>\n",
              "      <td>0.128633</td>\n",
              "      <td>0.245067</td>\n",
              "      <td>0.227557</td>\n",
              "      <td>0.235886</td>\n",
              "      <td>15.36</td>\n",
              "      <td>298.987143</td>\n",
              "      <td>299.228571</td>\n",
              "      <td>295.310000</td>\n",
              "      <td>301.4</td>\n",
              "      <td>297.0</td>\n",
              "      <td>13.90</td>\n",
              "      <td>80.337143</td>\n",
              "      <td>15.36</td>\n",
              "      <td>16.672857</td>\n",
              "      <td>2.428571</td>\n",
              "      <td>27.471429</td>\n",
              "      <td>6.771429</td>\n",
              "      <td>33.3</td>\n",
              "      <td>23.3</td>\n",
              "      <td>4.0</td>\n",
              "    </tr>\n",
              "    <tr>\n",
              "      <th>4</th>\n",
              "      <td>sj</td>\n",
              "      <td>1990</td>\n",
              "      <td>22</td>\n",
              "      <td>1990-05-28</td>\n",
              "      <td>0.196200</td>\n",
              "      <td>0.262200</td>\n",
              "      <td>0.251200</td>\n",
              "      <td>0.247340</td>\n",
              "      <td>7.52</td>\n",
              "      <td>299.518571</td>\n",
              "      <td>299.664286</td>\n",
              "      <td>295.821429</td>\n",
              "      <td>301.9</td>\n",
              "      <td>297.5</td>\n",
              "      <td>12.20</td>\n",
              "      <td>80.460000</td>\n",
              "      <td>7.52</td>\n",
              "      <td>17.210000</td>\n",
              "      <td>3.014286</td>\n",
              "      <td>28.942857</td>\n",
              "      <td>9.371429</td>\n",
              "      <td>35.0</td>\n",
              "      <td>23.9</td>\n",
              "      <td>5.8</td>\n",
              "    </tr>\n",
              "  </tbody>\n",
              "</table>\n",
              "</div>"
            ],
            "text/plain": [
              "  city  year  ...  station_min_temp_c station_precip_mm\n",
              "0   sj  1990  ...                20.0              16.0\n",
              "1   sj  1990  ...                22.2               8.6\n",
              "2   sj  1990  ...                22.8              41.4\n",
              "3   sj  1990  ...                23.3               4.0\n",
              "4   sj  1990  ...                23.9               5.8\n",
              "\n",
              "[5 rows x 24 columns]"
            ]
          },
          "metadata": {
            "tags": []
          },
          "execution_count": 7
        }
      ]
    },
    {
      "cell_type": "code",
      "metadata": {
        "id": "Xdpbz7WuDm8b",
        "colab_type": "code",
        "outputId": "2371b831-e86e-4f84-d23d-70c98cbeac52",
        "colab": {
          "base_uri": "https://localhost:8080/",
          "height": 35
        }
      },
      "source": [
        "train_features.shape"
      ],
      "execution_count": 8,
      "outputs": [
        {
          "output_type": "execute_result",
          "data": {
            "text/plain": [
              "(1456, 24)"
            ]
          },
          "metadata": {
            "tags": []
          },
          "execution_count": 8
        }
      ]
    },
    {
      "cell_type": "code",
      "metadata": {
        "id": "rpDm9LmxDrY-",
        "colab_type": "code",
        "colab": {}
      },
      "source": [
        "train_labels = pd.read_csv('https://s3.amazonaws.com/drivendata/data/44/public/dengue_labels_train.csv')"
      ],
      "execution_count": 0,
      "outputs": []
    },
    {
      "cell_type": "code",
      "metadata": {
        "id": "KZ9UDAwsD1jJ",
        "colab_type": "code",
        "outputId": "9cc913be-93ff-4448-9c92-98f9e089bc6e",
        "colab": {
          "base_uri": "https://localhost:8080/",
          "height": 198
        }
      },
      "source": [
        "train_labels.head()"
      ],
      "execution_count": 10,
      "outputs": [
        {
          "output_type": "execute_result",
          "data": {
            "text/html": [
              "<div>\n",
              "<style scoped>\n",
              "    .dataframe tbody tr th:only-of-type {\n",
              "        vertical-align: middle;\n",
              "    }\n",
              "\n",
              "    .dataframe tbody tr th {\n",
              "        vertical-align: top;\n",
              "    }\n",
              "\n",
              "    .dataframe thead th {\n",
              "        text-align: right;\n",
              "    }\n",
              "</style>\n",
              "<table border=\"1\" class=\"dataframe\">\n",
              "  <thead>\n",
              "    <tr style=\"text-align: right;\">\n",
              "      <th></th>\n",
              "      <th>city</th>\n",
              "      <th>year</th>\n",
              "      <th>weekofyear</th>\n",
              "      <th>total_cases</th>\n",
              "    </tr>\n",
              "  </thead>\n",
              "  <tbody>\n",
              "    <tr>\n",
              "      <th>0</th>\n",
              "      <td>sj</td>\n",
              "      <td>1990</td>\n",
              "      <td>18</td>\n",
              "      <td>4</td>\n",
              "    </tr>\n",
              "    <tr>\n",
              "      <th>1</th>\n",
              "      <td>sj</td>\n",
              "      <td>1990</td>\n",
              "      <td>19</td>\n",
              "      <td>5</td>\n",
              "    </tr>\n",
              "    <tr>\n",
              "      <th>2</th>\n",
              "      <td>sj</td>\n",
              "      <td>1990</td>\n",
              "      <td>20</td>\n",
              "      <td>4</td>\n",
              "    </tr>\n",
              "    <tr>\n",
              "      <th>3</th>\n",
              "      <td>sj</td>\n",
              "      <td>1990</td>\n",
              "      <td>21</td>\n",
              "      <td>3</td>\n",
              "    </tr>\n",
              "    <tr>\n",
              "      <th>4</th>\n",
              "      <td>sj</td>\n",
              "      <td>1990</td>\n",
              "      <td>22</td>\n",
              "      <td>6</td>\n",
              "    </tr>\n",
              "  </tbody>\n",
              "</table>\n",
              "</div>"
            ],
            "text/plain": [
              "  city  year  weekofyear  total_cases\n",
              "0   sj  1990          18            4\n",
              "1   sj  1990          19            5\n",
              "2   sj  1990          20            4\n",
              "3   sj  1990          21            3\n",
              "4   sj  1990          22            6"
            ]
          },
          "metadata": {
            "tags": []
          },
          "execution_count": 10
        }
      ]
    },
    {
      "cell_type": "code",
      "metadata": {
        "id": "_2nI1SQjD6pQ",
        "colab_type": "code",
        "outputId": "de005d7f-7cf8-47b6-c83c-2ad5be1e72b4",
        "colab": {
          "base_uri": "https://localhost:8080/",
          "height": 35
        }
      },
      "source": [
        "train_labels.shape"
      ],
      "execution_count": 11,
      "outputs": [
        {
          "output_type": "execute_result",
          "data": {
            "text/plain": [
              "(1456, 4)"
            ]
          },
          "metadata": {
            "tags": []
          },
          "execution_count": 11
        }
      ]
    },
    {
      "cell_type": "code",
      "metadata": {
        "id": "FAYWnm4ID-W0",
        "colab_type": "code",
        "colab": {}
      },
      "source": [
        "#Merge train features and labels datasets"
      ],
      "execution_count": 0,
      "outputs": []
    },
    {
      "cell_type": "code",
      "metadata": {
        "id": "P_5iKLG0EVm4",
        "colab_type": "code",
        "colab": {}
      },
      "source": [
        "train = pd.merge(train_features, train_labels)"
      ],
      "execution_count": 0,
      "outputs": []
    },
    {
      "cell_type": "code",
      "metadata": {
        "id": "HLbpdKOvEjH7",
        "colab_type": "code",
        "outputId": "eb861f5c-e032-4f52-d1f8-7cccbc7f096c",
        "colab": {
          "base_uri": "https://localhost:8080/",
          "height": 218
        }
      },
      "source": [
        "train.head()"
      ],
      "execution_count": 14,
      "outputs": [
        {
          "output_type": "execute_result",
          "data": {
            "text/html": [
              "<div>\n",
              "<style scoped>\n",
              "    .dataframe tbody tr th:only-of-type {\n",
              "        vertical-align: middle;\n",
              "    }\n",
              "\n",
              "    .dataframe tbody tr th {\n",
              "        vertical-align: top;\n",
              "    }\n",
              "\n",
              "    .dataframe thead th {\n",
              "        text-align: right;\n",
              "    }\n",
              "</style>\n",
              "<table border=\"1\" class=\"dataframe\">\n",
              "  <thead>\n",
              "    <tr style=\"text-align: right;\">\n",
              "      <th></th>\n",
              "      <th>city</th>\n",
              "      <th>year</th>\n",
              "      <th>weekofyear</th>\n",
              "      <th>week_start_date</th>\n",
              "      <th>ndvi_ne</th>\n",
              "      <th>ndvi_nw</th>\n",
              "      <th>ndvi_se</th>\n",
              "      <th>ndvi_sw</th>\n",
              "      <th>precipitation_amt_mm</th>\n",
              "      <th>reanalysis_air_temp_k</th>\n",
              "      <th>reanalysis_avg_temp_k</th>\n",
              "      <th>reanalysis_dew_point_temp_k</th>\n",
              "      <th>reanalysis_max_air_temp_k</th>\n",
              "      <th>reanalysis_min_air_temp_k</th>\n",
              "      <th>reanalysis_precip_amt_kg_per_m2</th>\n",
              "      <th>reanalysis_relative_humidity_percent</th>\n",
              "      <th>reanalysis_sat_precip_amt_mm</th>\n",
              "      <th>reanalysis_specific_humidity_g_per_kg</th>\n",
              "      <th>reanalysis_tdtr_k</th>\n",
              "      <th>station_avg_temp_c</th>\n",
              "      <th>station_diur_temp_rng_c</th>\n",
              "      <th>station_max_temp_c</th>\n",
              "      <th>station_min_temp_c</th>\n",
              "      <th>station_precip_mm</th>\n",
              "      <th>total_cases</th>\n",
              "    </tr>\n",
              "  </thead>\n",
              "  <tbody>\n",
              "    <tr>\n",
              "      <th>0</th>\n",
              "      <td>sj</td>\n",
              "      <td>1990</td>\n",
              "      <td>18</td>\n",
              "      <td>1990-04-30</td>\n",
              "      <td>0.122600</td>\n",
              "      <td>0.103725</td>\n",
              "      <td>0.198483</td>\n",
              "      <td>0.177617</td>\n",
              "      <td>12.42</td>\n",
              "      <td>297.572857</td>\n",
              "      <td>297.742857</td>\n",
              "      <td>292.414286</td>\n",
              "      <td>299.8</td>\n",
              "      <td>295.9</td>\n",
              "      <td>32.00</td>\n",
              "      <td>73.365714</td>\n",
              "      <td>12.42</td>\n",
              "      <td>14.012857</td>\n",
              "      <td>2.628571</td>\n",
              "      <td>25.442857</td>\n",
              "      <td>6.900000</td>\n",
              "      <td>29.4</td>\n",
              "      <td>20.0</td>\n",
              "      <td>16.0</td>\n",
              "      <td>4</td>\n",
              "    </tr>\n",
              "    <tr>\n",
              "      <th>1</th>\n",
              "      <td>sj</td>\n",
              "      <td>1990</td>\n",
              "      <td>19</td>\n",
              "      <td>1990-05-07</td>\n",
              "      <td>0.169900</td>\n",
              "      <td>0.142175</td>\n",
              "      <td>0.162357</td>\n",
              "      <td>0.155486</td>\n",
              "      <td>22.82</td>\n",
              "      <td>298.211429</td>\n",
              "      <td>298.442857</td>\n",
              "      <td>293.951429</td>\n",
              "      <td>300.9</td>\n",
              "      <td>296.4</td>\n",
              "      <td>17.94</td>\n",
              "      <td>77.368571</td>\n",
              "      <td>22.82</td>\n",
              "      <td>15.372857</td>\n",
              "      <td>2.371429</td>\n",
              "      <td>26.714286</td>\n",
              "      <td>6.371429</td>\n",
              "      <td>31.7</td>\n",
              "      <td>22.2</td>\n",
              "      <td>8.6</td>\n",
              "      <td>5</td>\n",
              "    </tr>\n",
              "    <tr>\n",
              "      <th>2</th>\n",
              "      <td>sj</td>\n",
              "      <td>1990</td>\n",
              "      <td>20</td>\n",
              "      <td>1990-05-14</td>\n",
              "      <td>0.032250</td>\n",
              "      <td>0.172967</td>\n",
              "      <td>0.157200</td>\n",
              "      <td>0.170843</td>\n",
              "      <td>34.54</td>\n",
              "      <td>298.781429</td>\n",
              "      <td>298.878571</td>\n",
              "      <td>295.434286</td>\n",
              "      <td>300.5</td>\n",
              "      <td>297.3</td>\n",
              "      <td>26.10</td>\n",
              "      <td>82.052857</td>\n",
              "      <td>34.54</td>\n",
              "      <td>16.848571</td>\n",
              "      <td>2.300000</td>\n",
              "      <td>26.714286</td>\n",
              "      <td>6.485714</td>\n",
              "      <td>32.2</td>\n",
              "      <td>22.8</td>\n",
              "      <td>41.4</td>\n",
              "      <td>4</td>\n",
              "    </tr>\n",
              "    <tr>\n",
              "      <th>3</th>\n",
              "      <td>sj</td>\n",
              "      <td>1990</td>\n",
              "      <td>21</td>\n",
              "      <td>1990-05-21</td>\n",
              "      <td>0.128633</td>\n",
              "      <td>0.245067</td>\n",
              "      <td>0.227557</td>\n",
              "      <td>0.235886</td>\n",
              "      <td>15.36</td>\n",
              "      <td>298.987143</td>\n",
              "      <td>299.228571</td>\n",
              "      <td>295.310000</td>\n",
              "      <td>301.4</td>\n",
              "      <td>297.0</td>\n",
              "      <td>13.90</td>\n",
              "      <td>80.337143</td>\n",
              "      <td>15.36</td>\n",
              "      <td>16.672857</td>\n",
              "      <td>2.428571</td>\n",
              "      <td>27.471429</td>\n",
              "      <td>6.771429</td>\n",
              "      <td>33.3</td>\n",
              "      <td>23.3</td>\n",
              "      <td>4.0</td>\n",
              "      <td>3</td>\n",
              "    </tr>\n",
              "    <tr>\n",
              "      <th>4</th>\n",
              "      <td>sj</td>\n",
              "      <td>1990</td>\n",
              "      <td>22</td>\n",
              "      <td>1990-05-28</td>\n",
              "      <td>0.196200</td>\n",
              "      <td>0.262200</td>\n",
              "      <td>0.251200</td>\n",
              "      <td>0.247340</td>\n",
              "      <td>7.52</td>\n",
              "      <td>299.518571</td>\n",
              "      <td>299.664286</td>\n",
              "      <td>295.821429</td>\n",
              "      <td>301.9</td>\n",
              "      <td>297.5</td>\n",
              "      <td>12.20</td>\n",
              "      <td>80.460000</td>\n",
              "      <td>7.52</td>\n",
              "      <td>17.210000</td>\n",
              "      <td>3.014286</td>\n",
              "      <td>28.942857</td>\n",
              "      <td>9.371429</td>\n",
              "      <td>35.0</td>\n",
              "      <td>23.9</td>\n",
              "      <td>5.8</td>\n",
              "      <td>6</td>\n",
              "    </tr>\n",
              "  </tbody>\n",
              "</table>\n",
              "</div>"
            ],
            "text/plain": [
              "  city  year  weekofyear  ... station_min_temp_c  station_precip_mm  total_cases\n",
              "0   sj  1990          18  ...               20.0               16.0            4\n",
              "1   sj  1990          19  ...               22.2                8.6            5\n",
              "2   sj  1990          20  ...               22.8               41.4            4\n",
              "3   sj  1990          21  ...               23.3                4.0            3\n",
              "4   sj  1990          22  ...               23.9                5.8            6\n",
              "\n",
              "[5 rows x 25 columns]"
            ]
          },
          "metadata": {
            "tags": []
          },
          "execution_count": 14
        }
      ]
    },
    {
      "cell_type": "code",
      "metadata": {
        "id": "QqBQWX8TEnV2",
        "colab_type": "code",
        "outputId": "53c10210-812b-42bf-84c5-5f75748efb27",
        "colab": {
          "base_uri": "https://localhost:8080/",
          "height": 35
        }
      },
      "source": [
        "train.shape\n",
        "#city, year and week of year columns are duplicate in train_features and train_labels datasets so the total_cases column is added to the features dataset"
      ],
      "execution_count": 15,
      "outputs": [
        {
          "output_type": "execute_result",
          "data": {
            "text/plain": [
              "(1456, 25)"
            ]
          },
          "metadata": {
            "tags": []
          },
          "execution_count": 15
        }
      ]
    },
    {
      "cell_type": "code",
      "metadata": {
        "id": "Y4noS_AIFUPN",
        "colab_type": "code",
        "outputId": "21c0fb31-4588-44fa-c31e-f94f6def46a1",
        "colab": {
          "base_uri": "https://localhost:8080/",
          "height": 490
        }
      },
      "source": [
        "train.dtypes"
      ],
      "execution_count": 16,
      "outputs": [
        {
          "output_type": "execute_result",
          "data": {
            "text/plain": [
              "city                                      object\n",
              "year                                       int64\n",
              "weekofyear                                 int64\n",
              "week_start_date                           object\n",
              "ndvi_ne                                  float64\n",
              "ndvi_nw                                  float64\n",
              "ndvi_se                                  float64\n",
              "ndvi_sw                                  float64\n",
              "precipitation_amt_mm                     float64\n",
              "reanalysis_air_temp_k                    float64\n",
              "reanalysis_avg_temp_k                    float64\n",
              "reanalysis_dew_point_temp_k              float64\n",
              "reanalysis_max_air_temp_k                float64\n",
              "reanalysis_min_air_temp_k                float64\n",
              "reanalysis_precip_amt_kg_per_m2          float64\n",
              "reanalysis_relative_humidity_percent     float64\n",
              "reanalysis_sat_precip_amt_mm             float64\n",
              "reanalysis_specific_humidity_g_per_kg    float64\n",
              "reanalysis_tdtr_k                        float64\n",
              "station_avg_temp_c                       float64\n",
              "station_diur_temp_rng_c                  float64\n",
              "station_max_temp_c                       float64\n",
              "station_min_temp_c                       float64\n",
              "station_precip_mm                        float64\n",
              "total_cases                                int64\n",
              "dtype: object"
            ]
          },
          "metadata": {
            "tags": []
          },
          "execution_count": 16
        }
      ]
    },
    {
      "cell_type": "code",
      "metadata": {
        "id": "fnigOrqTKhbv",
        "colab_type": "code",
        "outputId": "9a7a0d4d-bda5-4ee4-cf82-22e5a77b6884",
        "colab": {
          "base_uri": "https://localhost:8080/",
          "height": 181
        }
      },
      "source": [
        "train['total_cases'].describe()"
      ],
      "execution_count": 17,
      "outputs": [
        {
          "output_type": "execute_result",
          "data": {
            "text/plain": [
              "count    1456.000000\n",
              "mean       24.675137\n",
              "std        43.596000\n",
              "min         0.000000\n",
              "25%         5.000000\n",
              "50%        12.000000\n",
              "75%        28.000000\n",
              "max       461.000000\n",
              "Name: total_cases, dtype: float64"
            ]
          },
          "metadata": {
            "tags": []
          },
          "execution_count": 17
        }
      ]
    },
    {
      "cell_type": "code",
      "metadata": {
        "id": "8LIhRQpbLQ3F",
        "colab_type": "code",
        "outputId": "90fa8e98-e777-442a-9506-76cc0c14c745",
        "colab": {
          "base_uri": "https://localhost:8080/",
          "height": 235
        }
      },
      "source": [
        "dengue_cases = train['total_cases']\n",
        "dengue_cases"
      ],
      "execution_count": 18,
      "outputs": [
        {
          "output_type": "execute_result",
          "data": {
            "text/plain": [
              "0       4\n",
              "1       5\n",
              "2       4\n",
              "3       3\n",
              "4       6\n",
              "       ..\n",
              "1451    5\n",
              "1452    8\n",
              "1453    1\n",
              "1454    1\n",
              "1455    4\n",
              "Name: total_cases, Length: 1456, dtype: int64"
            ]
          },
          "metadata": {
            "tags": []
          },
          "execution_count": 18
        }
      ]
    },
    {
      "cell_type": "code",
      "metadata": {
        "id": "TkaoP8iEK5Ug",
        "colab_type": "code",
        "outputId": "ed2b744c-5f93-4ffa-839a-404d32b71fc6",
        "colab": {
          "base_uri": "https://localhost:8080/",
          "height": 35
        }
      },
      "source": [
        "np.percentile(dengue_cases, 95)"
      ],
      "execution_count": 19,
      "outputs": [
        {
          "output_type": "execute_result",
          "data": {
            "text/plain": [
              "81.25"
            ]
          },
          "metadata": {
            "tags": []
          },
          "execution_count": 19
        }
      ]
    },
    {
      "cell_type": "code",
      "metadata": {
        "id": "h6XDM4AtLtOT",
        "colab_type": "code",
        "colab": {}
      },
      "source": [
        "#Thus, we can isolate a column with total_cases >81.25 as dengue outbreaks as they represent >2 S.D or > 95 percentile"
      ],
      "execution_count": 0,
      "outputs": []
    },
    {
      "cell_type": "code",
      "metadata": {
        "id": "3YZUtBxmMBUl",
        "colab_type": "code",
        "colab": {}
      },
      "source": [
        "#create a new column 'dengue_outbreak' with total_cases >81.25 and drop total_cases column\n",
        "train['dengue_outbreak']  = train['total_cases'] > 81.25"
      ],
      "execution_count": 0,
      "outputs": []
    },
    {
      "cell_type": "code",
      "metadata": {
        "id": "htW3Sc-kNqhp",
        "colab_type": "code",
        "colab": {}
      },
      "source": [
        ""
      ],
      "execution_count": 0,
      "outputs": []
    },
    {
      "cell_type": "code",
      "metadata": {
        "id": "ZDWEav7H34Ne",
        "colab_type": "code",
        "colab": {}
      },
      "source": [
        "#Can do Pandas profiling here"
      ],
      "execution_count": 0,
      "outputs": []
    },
    {
      "cell_type": "code",
      "metadata": {
        "id": "M6ywKhxjsfTV",
        "colab_type": "code",
        "outputId": "2ad5ec4e-a276-450a-cd44-c8eb34e92378",
        "colab": {
          "base_uri": "https://localhost:8080/",
          "height": 35
        }
      },
      "source": [
        "#Do train, val split\n",
        "from sklearn.model_selection import train_test_split\n",
        "train, val = train_test_split(train, train_size=0.80, test_size=0.20, \n",
        "                              stratify=train['dengue_outbreak'], \n",
        "                              random_state=42, )\n",
        "train.shape, val.shape"
      ],
      "execution_count": 23,
      "outputs": [
        {
          "output_type": "execute_result",
          "data": {
            "text/plain": [
              "((1164, 26), (292, 26))"
            ]
          },
          "metadata": {
            "tags": []
          },
          "execution_count": 23
        }
      ]
    },
    {
      "cell_type": "code",
      "metadata": {
        "id": "9Nv4nxntvjnP",
        "colab_type": "code",
        "colab": {}
      },
      "source": [
        "#Baseline statistics for the target variable total_cases in train dataset"
      ],
      "execution_count": 0,
      "outputs": []
    },
    {
      "cell_type": "code",
      "metadata": {
        "id": "7A-XYkerJjjQ",
        "colab_type": "code",
        "outputId": "b40809ca-8617-4b2c-c172-91d72a85d564",
        "colab": {
          "base_uri": "https://localhost:8080/",
          "height": 72
        }
      },
      "source": [
        "train['dengue_outbreak'].value_counts(normalize=True)"
      ],
      "execution_count": 25,
      "outputs": [
        {
          "output_type": "execute_result",
          "data": {
            "text/plain": [
              "False    0.950172\n",
              "True     0.049828\n",
              "Name: dengue_outbreak, dtype: float64"
            ]
          },
          "metadata": {
            "tags": []
          },
          "execution_count": 25
        }
      ]
    },
    {
      "cell_type": "code",
      "metadata": {
        "id": "szYD2k-yPc-H",
        "colab_type": "code",
        "colab": {}
      },
      "source": [
        ""
      ],
      "execution_count": 0,
      "outputs": []
    },
    {
      "cell_type": "code",
      "metadata": {
        "id": "jp8Z8U1qOfLk",
        "colab_type": "code",
        "colab": {}
      },
      "source": [
        "#Thus, dengue outbreaks occur only in 4.98% of cases in train dataset and are minority class"
      ],
      "execution_count": 0,
      "outputs": []
    },
    {
      "cell_type": "code",
      "metadata": {
        "id": "vyP7josIxith",
        "colab_type": "code",
        "colab": {}
      },
      "source": [
        "#we need to convert week_start_date to numeric form uisng pd.to_dateime function\n",
        "#wrangle function \n",
        "\n",
        "def wrangle(X):\n",
        "  X = X.copy()\n",
        "       \n",
        "    # Convert week_start_date to numeric form\n",
        "  X['week_start_date'] = pd.to_datetime(X['week_start_date'], infer_datetime_format=True)\n",
        "    \n",
        "    # Extract components from date_recorded, then drop the original column\n",
        "  X['year_recorded'] = X['week_start_date'].dt.year\n",
        "  X['month_recorded'] = X['week_start_date'].dt.month\n",
        "  #X['day_recorded'] = X['week_start_date'].dt.day\n",
        "  X = X.drop(columns='week_start_date')\n",
        "  X = X.drop(columns='year')\n",
        "\n",
        "\n",
        "  \n",
        "#I engineered few features which represent standing water, high risk feature for mosquitos\n",
        "\n",
        "  X['standing water feature 1'] = X['station_precip_mm'] / X['station_max_temp_c']\n",
        "  X['total satellite vegetation index of city'] = X['ndvi_se'] + X['ndvi_sw'] + X['ndvi_ne'] + X['ndvi_nw']\n",
        " \n",
        "    #2. standing water feature 2 = 'NOAA GCN precipitation amount in kg per m2 reanalyzed' * (total vegetation, sum of all 4 parts of the city)\n",
        "  X['standing water feature 2'] = X['reanalysis_precip_amt_kg_per_m2'] * X['total satellite vegetation index of city'] \n",
        "    #3. standing water feature 3: 'NOAA GCN precipitation amount in kg per m2 reanalyzed'} * 'NOAA GCN mean relative humidity in pct reanalyzed'}\n",
        "  X['standing water feature 3'] = X['reanalysis_precip_amt_kg_per_m2'] * X['reanalysis_relative_humidity_percent']   \n",
        "    #4. standing water feature 4: 'NOAA GCN precipitation amount in kg per m2 reanalyzed'} * 'NOAA GCN mean relative humidity in pct reanalyzed'} * (total vegetation)\n",
        "  X['standing water feature 4'] = X['reanalysis_precip_amt_kg_per_m2'] * X['reanalysis_relative_humidity_percent'] * X['total satellite vegetation index of city']  \n",
        "    # 5. standing water feature 5: 'NOAA GCN precipitation amount in kg per m2 reanalyzed'} / 'NOAA GCN max air temp reanalyzed'\n",
        "  X['standing water feature 5'] = X['reanalysis_precip_amt_kg_per_m2'] / X['reanalysis_max_air_temp_k']\n",
        "    #6. standing water feature 6 (most imp): ['NOAA GCN precipitation amount in kg per m2 reanalyzed'} * 'NOAA GCN mean relative humidity in pct reanalyzed'} * (total vegetation)]/['NOAA GCN max air temp reanalyzed']\n",
        "  X['standing water feature 6'] = X['reanalysis_precip_amt_kg_per_m2'] * X['reanalysis_relative_humidity_percent'] * X['total satellite vegetation index of city'] / X['reanalysis_max_air_temp_k']\n",
        "\n",
        "#Rename columns\n",
        "  X.rename(columns= {'reanalysis_air_temp_k':'Mean air temperature in K'}, inplace=True)\n",
        "  X.rename(columns= {'reanalysis_min_air_temp_k':'Minimum air temperature in K'}, inplace=True)\n",
        "  X.rename(columns= {'weekofyear':'Week of Year'}, inplace=True)\n",
        "  X.rename(columns= {'station_diur_temp_rng_c':'Diurnal temperature range in C'}, inplace=True)\n",
        "  X.rename(columns= {'reanalysis_precip_amt_kg_per_m2':'Total precipitation kg/m2'}, inplace=True)\n",
        "  X.rename(columns= {'reanalysis_tdtr_k':'Diurnal temperature range in K'}, inplace=True)\n",
        "  X.rename(columns= {'reanalysis_max_air_temp_k':'Maximum air temperature in K'}, inplace=True)\n",
        "  X.rename(columns= {'year_recorded':'Year recorded'}, inplace=True)\n",
        "  X.rename(columns= {'reanalysis_relative_humidity_percent':'Mean relative humidity'}, inplace=True)\n",
        "  X.rename(columns= {'month_recorded':'Month recorded'}, inplace=True)\n",
        "  X.rename(columns= {'reanalysis_dew_point_temp_k':'Mean dew point temp in K'}, inplace=True)\n",
        "  X.rename(columns= {'precipitation_amt_mm':'Total precipitation in mm'}, inplace=True)\n",
        "  X.rename(columns= {'station_min_temp_c':'Minimum temp in C'}, inplace=True)\n",
        "  X.rename(columns= {'ndvi_se':'Southeast vegetation index'}, inplace=True)\n",
        "  X.rename(columns= {'ndvi_ne':'Northeast vegetation index'}, inplace=True)\n",
        "  X.rename(columns= {'ndvi_nw':'Northwest vegetation index'}, inplace=True)\n",
        "  X.rename(columns= {'ndvi_sw':'Southwest vegetation index'}, inplace=True)\n",
        "  X.rename(columns= {'reanalysis_avg_temp_k':'Average air temperature in K'}, inplace=True)\n",
        "  X.rename(columns= {'reanalysis_sat_precip_amt_mm':'Total precipitation in mm 2'}, inplace=True)\n",
        "  X.rename(columns= {'reanalysis_specific_humidity_g_per_kg':'Mean specific humidity'}, inplace=True)\n",
        "  X.rename(columns= {'station_avg_temp_c':'Average temp in C'}, inplace=True)\n",
        "  X.rename(columns= {'station_max_temp_c':'Maximum temp in C'}, inplace=True)\n",
        "  X.rename(columns= {'station_precip_mm':'Station precipitation in mm'}, inplace=True)\n",
        "  X = X.drop(columns='total_cases')\n",
        "  X = X.drop(columns='Total precipitation in mm 2')\n",
        "\n",
        "    # return the wrangled dataframe\n",
        "  return X\n",
        "\n",
        "train = wrangle(train)\n",
        "val = wrangle(val)\n"
      ],
      "execution_count": 0,
      "outputs": []
    },
    {
      "cell_type": "code",
      "metadata": {
        "id": "ryXvv6qWzT4q",
        "colab_type": "code",
        "outputId": "c15f0aee-250a-4954-e3ae-f7fe4100565c",
        "colab": {
          "base_uri": "https://localhost:8080/",
          "height": 978
        }
      },
      "source": [
        "train.head().T"
      ],
      "execution_count": 29,
      "outputs": [
        {
          "output_type": "execute_result",
          "data": {
            "text/html": [
              "<div>\n",
              "<style scoped>\n",
              "    .dataframe tbody tr th:only-of-type {\n",
              "        vertical-align: middle;\n",
              "    }\n",
              "\n",
              "    .dataframe tbody tr th {\n",
              "        vertical-align: top;\n",
              "    }\n",
              "\n",
              "    .dataframe thead th {\n",
              "        text-align: right;\n",
              "    }\n",
              "</style>\n",
              "<table border=\"1\" class=\"dataframe\">\n",
              "  <thead>\n",
              "    <tr style=\"text-align: right;\">\n",
              "      <th></th>\n",
              "      <th>115</th>\n",
              "      <th>1360</th>\n",
              "      <th>950</th>\n",
              "      <th>186</th>\n",
              "      <th>406</th>\n",
              "    </tr>\n",
              "  </thead>\n",
              "  <tbody>\n",
              "    <tr>\n",
              "      <th>city</th>\n",
              "      <td>sj</td>\n",
              "      <td>iq</td>\n",
              "      <td>iq</td>\n",
              "      <td>sj</td>\n",
              "      <td>sj</td>\n",
              "    </tr>\n",
              "    <tr>\n",
              "      <th>Week of Year</th>\n",
              "      <td>29</td>\n",
              "      <td>35</td>\n",
              "      <td>40</td>\n",
              "      <td>47</td>\n",
              "      <td>8</td>\n",
              "    </tr>\n",
              "    <tr>\n",
              "      <th>Northeast vegetation index</th>\n",
              "      <td>0.112</td>\n",
              "      <td>0.318186</td>\n",
              "      <td>0.33754</td>\n",
              "      <td>0.1071</td>\n",
              "      <td>NaN</td>\n",
              "    </tr>\n",
              "    <tr>\n",
              "      <th>Northwest vegetation index</th>\n",
              "      <td>0.1255</td>\n",
              "      <td>0.319767</td>\n",
              "      <td>0.276943</td>\n",
              "      <td>0.1818</td>\n",
              "      <td>0.0754</td>\n",
              "    </tr>\n",
              "    <tr>\n",
              "      <th>Southeast vegetation index</th>\n",
              "      <td>0.14214</td>\n",
              "      <td>0.308171</td>\n",
              "      <td>0.2775</td>\n",
              "      <td>0.260057</td>\n",
              "      <td>0.239571</td>\n",
              "    </tr>\n",
              "    <tr>\n",
              "      <th>Southwest vegetation index</th>\n",
              "      <td>0.182533</td>\n",
              "      <td>0.3236</td>\n",
              "      <td>0.25505</td>\n",
              "      <td>0.270586</td>\n",
              "      <td>0.2387</td>\n",
              "    </tr>\n",
              "    <tr>\n",
              "      <th>Total precipitation in mm</th>\n",
              "      <td>94.14</td>\n",
              "      <td>58.2</td>\n",
              "      <td>46.22</td>\n",
              "      <td>91.81</td>\n",
              "      <td>0</td>\n",
              "    </tr>\n",
              "    <tr>\n",
              "      <th>Mean air temperature in K</th>\n",
              "      <td>299.79</td>\n",
              "      <td>298.574</td>\n",
              "      <td>298.373</td>\n",
              "      <td>298.571</td>\n",
              "      <td>297.59</td>\n",
              "    </tr>\n",
              "    <tr>\n",
              "      <th>Average air temperature in K</th>\n",
              "      <td>299.829</td>\n",
              "      <td>300.143</td>\n",
              "      <td>300.5</td>\n",
              "      <td>298.679</td>\n",
              "      <td>297.836</td>\n",
              "    </tr>\n",
              "    <tr>\n",
              "      <th>Mean dew point temp in K</th>\n",
              "      <td>296.053</td>\n",
              "      <td>295.093</td>\n",
              "      <td>294.664</td>\n",
              "      <td>295.256</td>\n",
              "      <td>291.901</td>\n",
              "    </tr>\n",
              "    <tr>\n",
              "      <th>Maximum air temperature in K</th>\n",
              "      <td>301.8</td>\n",
              "      <td>310.4</td>\n",
              "      <td>309.8</td>\n",
              "      <td>301.1</td>\n",
              "      <td>300.2</td>\n",
              "    </tr>\n",
              "    <tr>\n",
              "      <th>Minimum air temperature in K</th>\n",
              "      <td>298</td>\n",
              "      <td>292.7</td>\n",
              "      <td>292.7</td>\n",
              "      <td>296.8</td>\n",
              "      <td>296.2</td>\n",
              "    </tr>\n",
              "    <tr>\n",
              "      <th>Total precipitation kg/m2</th>\n",
              "      <td>46.1</td>\n",
              "      <td>37</td>\n",
              "      <td>16.6</td>\n",
              "      <td>118.1</td>\n",
              "      <td>3.1</td>\n",
              "    </tr>\n",
              "    <tr>\n",
              "      <th>Mean relative humidity</th>\n",
              "      <td>80.15</td>\n",
              "      <td>84.4914</td>\n",
              "      <td>82.3714</td>\n",
              "      <td>82.1543</td>\n",
              "      <td>70.7014</td>\n",
              "    </tr>\n",
              "    <tr>\n",
              "      <th>Mean specific humidity</th>\n",
              "      <td>17.43</td>\n",
              "      <td>16.6529</td>\n",
              "      <td>16.1486</td>\n",
              "      <td>16.6614</td>\n",
              "      <td>13.5129</td>\n",
              "    </tr>\n",
              "    <tr>\n",
              "      <th>Diurnal temperature range in K</th>\n",
              "      <td>2</td>\n",
              "      <td>10.7429</td>\n",
              "      <td>11.9714</td>\n",
              "      <td>1.87143</td>\n",
              "      <td>2.24286</td>\n",
              "    </tr>\n",
              "    <tr>\n",
              "      <th>Average temp in C</th>\n",
              "      <td>27.6286</td>\n",
              "      <td>27.8333</td>\n",
              "      <td>26.7</td>\n",
              "      <td>26.8857</td>\n",
              "      <td>24.4143</td>\n",
              "    </tr>\n",
              "    <tr>\n",
              "      <th>Diurnal temperature range in C</th>\n",
              "      <td>6.04286</td>\n",
              "      <td>12.5333</td>\n",
              "      <td>11.675</td>\n",
              "      <td>6.6</td>\n",
              "      <td>6.08571</td>\n",
              "    </tr>\n",
              "    <tr>\n",
              "      <th>Maximum temp in C</th>\n",
              "      <td>31.7</td>\n",
              "      <td>35.1</td>\n",
              "      <td>34</td>\n",
              "      <td>31.7</td>\n",
              "      <td>28.9</td>\n",
              "    </tr>\n",
              "    <tr>\n",
              "      <th>Minimum temp in C</th>\n",
              "      <td>23.9</td>\n",
              "      <td>20.4</td>\n",
              "      <td>20</td>\n",
              "      <td>22.2</td>\n",
              "      <td>20</td>\n",
              "    </tr>\n",
              "    <tr>\n",
              "      <th>Station precipitation in mm</th>\n",
              "      <td>45.2</td>\n",
              "      <td>44</td>\n",
              "      <td>63</td>\n",
              "      <td>46.4</td>\n",
              "      <td>8.7</td>\n",
              "    </tr>\n",
              "    <tr>\n",
              "      <th>dengue_outbreak</th>\n",
              "      <td>False</td>\n",
              "      <td>False</td>\n",
              "      <td>False</td>\n",
              "      <td>False</td>\n",
              "      <td>False</td>\n",
              "    </tr>\n",
              "    <tr>\n",
              "      <th>Year recorded</th>\n",
              "      <td>1992</td>\n",
              "      <td>2008</td>\n",
              "      <td>2000</td>\n",
              "      <td>1993</td>\n",
              "      <td>1998</td>\n",
              "    </tr>\n",
              "    <tr>\n",
              "      <th>Month recorded</th>\n",
              "      <td>7</td>\n",
              "      <td>8</td>\n",
              "      <td>10</td>\n",
              "      <td>11</td>\n",
              "      <td>2</td>\n",
              "    </tr>\n",
              "    <tr>\n",
              "      <th>standing water feature 1</th>\n",
              "      <td>1.42587</td>\n",
              "      <td>1.25356</td>\n",
              "      <td>1.85294</td>\n",
              "      <td>1.46372</td>\n",
              "      <td>0.301038</td>\n",
              "    </tr>\n",
              "    <tr>\n",
              "      <th>total satellite vegetation index of city</th>\n",
              "      <td>0.562173</td>\n",
              "      <td>1.26972</td>\n",
              "      <td>1.14703</td>\n",
              "      <td>0.819543</td>\n",
              "      <td>NaN</td>\n",
              "    </tr>\n",
              "    <tr>\n",
              "      <th>standing water feature 2</th>\n",
              "      <td>25.9162</td>\n",
              "      <td>46.9798</td>\n",
              "      <td>19.0407</td>\n",
              "      <td>96.788</td>\n",
              "      <td>NaN</td>\n",
              "    </tr>\n",
              "    <tr>\n",
              "      <th>standing water feature 3</th>\n",
              "      <td>3694.92</td>\n",
              "      <td>3126.18</td>\n",
              "      <td>1367.37</td>\n",
              "      <td>9702.42</td>\n",
              "      <td>219.174</td>\n",
              "    </tr>\n",
              "    <tr>\n",
              "      <th>standing water feature 4</th>\n",
              "      <td>2077.18</td>\n",
              "      <td>3969.39</td>\n",
              "      <td>1568.41</td>\n",
              "      <td>7951.55</td>\n",
              "      <td>NaN</td>\n",
              "    </tr>\n",
              "    <tr>\n",
              "      <th>standing water feature 5</th>\n",
              "      <td>0.15275</td>\n",
              "      <td>0.119201</td>\n",
              "      <td>0.053583</td>\n",
              "      <td>0.392228</td>\n",
              "      <td>0.0103264</td>\n",
              "    </tr>\n",
              "    <tr>\n",
              "      <th>standing water feature 6</th>\n",
              "      <td>6.88265</td>\n",
              "      <td>12.788</td>\n",
              "      <td>5.06266</td>\n",
              "      <td>26.4083</td>\n",
              "      <td>NaN</td>\n",
              "    </tr>\n",
              "  </tbody>\n",
              "</table>\n",
              "</div>"
            ],
            "text/plain": [
              "                                               115  ...        406\n",
              "city                                            sj  ...         sj\n",
              "Week of Year                                    29  ...          8\n",
              "Northeast vegetation index                   0.112  ...        NaN\n",
              "Northwest vegetation index                  0.1255  ...     0.0754\n",
              "Southeast vegetation index                 0.14214  ...   0.239571\n",
              "Southwest vegetation index                0.182533  ...     0.2387\n",
              "Total precipitation in mm                    94.14  ...          0\n",
              "Mean air temperature in K                   299.79  ...     297.59\n",
              "Average air temperature in K               299.829  ...    297.836\n",
              "Mean dew point temp in K                   296.053  ...    291.901\n",
              "Maximum air temperature in K                 301.8  ...      300.2\n",
              "Minimum air temperature in K                   298  ...      296.2\n",
              "Total precipitation kg/m2                     46.1  ...        3.1\n",
              "Mean relative humidity                       80.15  ...    70.7014\n",
              "Mean specific humidity                       17.43  ...    13.5129\n",
              "Diurnal temperature range in K                   2  ...    2.24286\n",
              "Average temp in C                          27.6286  ...    24.4143\n",
              "Diurnal temperature range in C             6.04286  ...    6.08571\n",
              "Maximum temp in C                             31.7  ...       28.9\n",
              "Minimum temp in C                             23.9  ...         20\n",
              "Station precipitation in mm                   45.2  ...        8.7\n",
              "dengue_outbreak                              False  ...      False\n",
              "Year recorded                                 1992  ...       1998\n",
              "Month recorded                                   7  ...          2\n",
              "standing water feature 1                   1.42587  ...   0.301038\n",
              "total satellite vegetation index of city  0.562173  ...        NaN\n",
              "standing water feature 2                   25.9162  ...        NaN\n",
              "standing water feature 3                   3694.92  ...    219.174\n",
              "standing water feature 4                   2077.18  ...        NaN\n",
              "standing water feature 5                   0.15275  ...  0.0103264\n",
              "standing water feature 6                   6.88265  ...        NaN\n",
              "\n",
              "[31 rows x 5 columns]"
            ]
          },
          "metadata": {
            "tags": []
          },
          "execution_count": 29
        }
      ]
    },
    {
      "cell_type": "code",
      "metadata": {
        "id": "XsfjJ5nR1jvQ",
        "colab_type": "code",
        "colab": {}
      },
      "source": [
        "#Define target and features"
      ],
      "execution_count": 0,
      "outputs": []
    },
    {
      "cell_type": "code",
      "metadata": {
        "id": "OxXgtCPH-oUD",
        "colab_type": "code",
        "colab": {}
      },
      "source": [
        "# The status_group column is the target\n",
        "target = 'dengue_outbreak'\n",
        "\n",
        "# Get a dataframe with all train columns except the target\n",
        "train_features = train.drop(columns=[target])\n",
        "\n",
        "# Get a list of the numeric features\n",
        "numeric_features = train_features.select_dtypes(include='number').columns.tolist()\n",
        "\n",
        "# Get a series with the cardinality of the nonnumeric features\n",
        "cardinality = train_features.select_dtypes(exclude='number').nunique()\n",
        "\n",
        "# Get a list of all categorical features with cardinality <= 50\n",
        "categorical_features = cardinality[cardinality <= 50].index.tolist()\n",
        "\n",
        "# Combine the lists \n",
        "features = numeric_features + categorical_features"
      ],
      "execution_count": 0,
      "outputs": []
    },
    {
      "cell_type": "code",
      "metadata": {
        "id": "hYrFsR9k-0jI",
        "colab_type": "code",
        "colab": {}
      },
      "source": [
        "# Arrange data into X features matrix and y target vector \n",
        "X_train = train[features]\n",
        "y_train = train[target]\n",
        "X_val = val[features]\n",
        "y_val = val[target]\n"
      ],
      "execution_count": 0,
      "outputs": []
    },
    {
      "cell_type": "code",
      "metadata": {
        "id": "UMcJ_KafJ50R",
        "colab_type": "code",
        "colab": {
          "base_uri": "https://localhost:8080/",
          "height": 290
        },
        "outputId": "5dc214c8-2904-40d2-b5a2-985c14d94864"
      },
      "source": [
        "pip install category_encoders"
      ],
      "execution_count": 33,
      "outputs": [
        {
          "output_type": "stream",
          "text": [
            "Collecting category_encoders\n",
            "\u001b[?25l  Downloading https://files.pythonhosted.org/packages/a0/52/c54191ad3782de633ea3d6ee3bb2837bda0cf3bc97644bb6375cf14150a0/category_encoders-2.1.0-py2.py3-none-any.whl (100kB)\n",
            "\r\u001b[K     |███▎                            | 10kB 27.6MB/s eta 0:00:01\r\u001b[K     |██████▌                         | 20kB 5.3MB/s eta 0:00:01\r\u001b[K     |█████████▉                      | 30kB 5.4MB/s eta 0:00:01\r\u001b[K     |█████████████                   | 40kB 5.7MB/s eta 0:00:01\r\u001b[K     |████████████████▍               | 51kB 5.8MB/s eta 0:00:01\r\u001b[K     |███████████████████▋            | 61kB 6.9MB/s eta 0:00:01\r\u001b[K     |██████████████████████▉         | 71kB 7.3MB/s eta 0:00:01\r\u001b[K     |██████████████████████████▏     | 81kB 6.8MB/s eta 0:00:01\r\u001b[K     |█████████████████████████████▍  | 92kB 7.5MB/s eta 0:00:01\r\u001b[K     |████████████████████████████████| 102kB 5.6MB/s \n",
            "\u001b[?25hRequirement already satisfied: scikit-learn>=0.20.0 in /usr/local/lib/python3.6/dist-packages (from category_encoders) (0.21.3)\n",
            "Requirement already satisfied: pandas>=0.21.1 in /usr/local/lib/python3.6/dist-packages (from category_encoders) (0.25.3)\n",
            "Requirement already satisfied: numpy>=1.11.3 in /usr/local/lib/python3.6/dist-packages (from category_encoders) (1.17.4)\n",
            "Requirement already satisfied: statsmodels>=0.6.1 in /usr/local/lib/python3.6/dist-packages (from category_encoders) (0.10.2)\n",
            "Requirement already satisfied: scipy>=0.19.0 in /usr/local/lib/python3.6/dist-packages (from category_encoders) (1.3.3)\n",
            "Requirement already satisfied: patsy>=0.4.1 in /usr/local/lib/python3.6/dist-packages (from category_encoders) (0.5.1)\n",
            "Requirement already satisfied: joblib>=0.11 in /usr/local/lib/python3.6/dist-packages (from scikit-learn>=0.20.0->category_encoders) (0.14.1)\n",
            "Requirement already satisfied: python-dateutil>=2.6.1 in /usr/local/lib/python3.6/dist-packages (from pandas>=0.21.1->category_encoders) (2.6.1)\n",
            "Requirement already satisfied: pytz>=2017.2 in /usr/local/lib/python3.6/dist-packages (from pandas>=0.21.1->category_encoders) (2018.9)\n",
            "Requirement already satisfied: six in /usr/local/lib/python3.6/dist-packages (from patsy>=0.4.1->category_encoders) (1.12.0)\n",
            "Installing collected packages: category-encoders\n",
            "Successfully installed category-encoders-2.1.0\n"
          ],
          "name": "stdout"
        }
      ]
    },
    {
      "cell_type": "code",
      "metadata": {
        "id": "bMdd8MDOI6Qp",
        "colab_type": "code",
        "colab": {}
      },
      "source": [
        "from sklearn.pipeline import make_pipeline\n",
        "import category_encoders as ce\n",
        "from sklearn.impute import SimpleImputer\n",
        "from sklearn.preprocessing import StandardScaler\n",
        "from sklearn.preprocessing import OneHotEncoder\n",
        "import xgboost as xgb\n",
        "from xgboost import XGBClassifier\n",
        "from sklearn import model_selection, preprocessing"
      ],
      "execution_count": 0,
      "outputs": []
    },
    {
      "cell_type": "code",
      "metadata": {
        "id": "VrTXd_rrKcsn",
        "colab_type": "code",
        "colab": {}
      },
      "source": [
        "processor = make_pipeline(\n",
        "    ce.OneHotEncoder(use_cat_names=True),\n",
        "    SimpleImputer(strategy='median')\n",
        ")"
      ],
      "execution_count": 0,
      "outputs": []
    },
    {
      "cell_type": "code",
      "metadata": {
        "id": "4YblFr283RZ_",
        "colab_type": "code",
        "colab": {}
      },
      "source": [
        "X_train_processed = processor.fit_transform(X_train)\n",
        "X_val_processed = processor.transform(X_val)"
      ],
      "execution_count": 0,
      "outputs": []
    },
    {
      "cell_type": "code",
      "metadata": {
        "id": "29gHCCyi3V90",
        "colab_type": "code",
        "colab": {}
      },
      "source": [
        "model = XGBClassifier(n_estimators=200, eval_metric='auc', n_jobs=-1)"
      ],
      "execution_count": 0,
      "outputs": []
    },
    {
      "cell_type": "code",
      "metadata": {
        "id": "QLwQk6uI3Zvc",
        "colab_type": "code",
        "colab": {}
      },
      "source": [
        "eval_set = [(X_train_processed, y_train),\n",
        "            (X_val_processed, y_val)]"
      ],
      "execution_count": 0,
      "outputs": []
    },
    {
      "cell_type": "code",
      "metadata": {
        "id": "az4Qr1df3dN8",
        "colab_type": "code",
        "colab": {
          "base_uri": "https://localhost:8080/",
          "height": 526
        },
        "outputId": "0fdfd213-3ca3-4696-a726-6dd0e81aca8f"
      },
      "source": [
        "model.fit(X_train_processed, y_train, eval_set=eval_set, eval_metric='auc', \n",
        "          early_stopping_rounds=10)"
      ],
      "execution_count": 42,
      "outputs": [
        {
          "output_type": "stream",
          "text": [
            "[0]\tvalidation_0-auc:0.861851\tvalidation_1-auc:0.619495\n",
            "Multiple eval metrics have been passed: 'validation_1-auc' will be used for early stopping.\n",
            "\n",
            "Will train until validation_1-auc hasn't improved in 10 rounds.\n",
            "[1]\tvalidation_0-auc:0.899599\tvalidation_1-auc:0.619976\n",
            "[2]\tvalidation_0-auc:0.901719\tvalidation_1-auc:0.616125\n",
            "[3]\tvalidation_0-auc:0.924635\tvalidation_1-auc:0.711913\n",
            "[4]\tvalidation_0-auc:0.927628\tvalidation_1-auc:0.743201\n",
            "[5]\tvalidation_0-auc:0.926662\tvalidation_1-auc:0.741877\n",
            "[6]\tvalidation_0-auc:0.934199\tvalidation_1-auc:0.714681\n",
            "[7]\tvalidation_0-auc:0.940731\tvalidation_1-auc:0.724188\n",
            "[8]\tvalidation_0-auc:0.946569\tvalidation_1-auc:0.737786\n",
            "[9]\tvalidation_0-auc:0.946748\tvalidation_1-auc:0.716366\n",
            "[10]\tvalidation_0-auc:0.949796\tvalidation_1-auc:0.720939\n",
            "[11]\tvalidation_0-auc:0.949889\tvalidation_1-auc:0.720939\n",
            "[12]\tvalidation_0-auc:0.949936\tvalidation_1-auc:0.721179\n",
            "[13]\tvalidation_0-auc:0.952165\tvalidation_1-auc:0.720457\n",
            "[14]\tvalidation_0-auc:0.953334\tvalidation_1-auc:0.723105\n",
            "Stopping. Best iteration:\n",
            "[4]\tvalidation_0-auc:0.927628\tvalidation_1-auc:0.743201\n",
            "\n"
          ],
          "name": "stdout"
        },
        {
          "output_type": "execute_result",
          "data": {
            "text/plain": [
              "XGBClassifier(base_score=0.5, booster='gbtree', colsample_bylevel=1,\n",
              "              colsample_bynode=1, colsample_bytree=1, eval_metric='auc',\n",
              "              gamma=0, learning_rate=0.1, max_delta_step=0, max_depth=3,\n",
              "              min_child_weight=1, missing=None, n_estimators=200, n_jobs=-1,\n",
              "              nthread=None, objective='binary:logistic', random_state=0,\n",
              "              reg_alpha=0, reg_lambda=1, scale_pos_weight=1, seed=None,\n",
              "              silent=None, subsample=1, verbosity=1)"
            ]
          },
          "metadata": {
            "tags": []
          },
          "execution_count": 42
        }
      ]
    },
    {
      "cell_type": "code",
      "metadata": {
        "id": "OFyLa1ZT3hbi",
        "colab_type": "code",
        "colab": {
          "base_uri": "https://localhost:8080/",
          "height": 459
        },
        "outputId": "545cbb1e-6d34-4427-e588-acee41b5d4f1"
      },
      "source": [
        "results = model.evals_result()\n",
        "train_error = results['validation_0']['auc']\n",
        "val_error = results['validation_1']['auc']\n",
        "\n",
        "iterations = range(1, len(train_error) + 1)\n",
        "\n",
        "plt.figure(figsize=(10,7))\n",
        "plt.plot(iterations, train_error, label='Train')\n",
        "plt.plot(iterations, val_error, label='Validation')\n",
        "plt.title('XGBoost Validation Curve')\n",
        "plt.ylabel('AUC')\n",
        "plt.xlabel('Model Complexity (n_estimators)')\n",
        "plt.legend();"
      ],
      "execution_count": 43,
      "outputs": [
        {
          "output_type": "display_data",
          "data": {
            "image/png": "[encoded data removed]",
            "text/plain": [
              "<Figure size 720x504 with 1 Axes>"
            ]
          },
          "metadata": {
            "tags": []
          }
        }
      ]
    },
    {
      "cell_type": "code",
      "metadata": {
        "id": "fn88TNrhXDD8",
        "colab_type": "code",
        "colab": {
          "base_uri": "https://localhost:8080/",
          "height": 35
        },
        "outputId": "e1d40c27-ded9-4656-814b-89f05b9becc2"
      },
      "source": [
        "#Validation accuracy\n",
        "model.score(X_val_processed, y_val)"
      ],
      "execution_count": 45,
      "outputs": [
        {
          "output_type": "execute_result",
          "data": {
            "text/plain": [
              "0.9452054794520548"
            ]
          },
          "metadata": {
            "tags": []
          },
          "execution_count": 45
        }
      ]
    },
    {
      "cell_type": "code",
      "metadata": {
        "id": "_71PHHcLOX0S",
        "colab_type": "code",
        "colab": {}
      },
      "source": [
        "#predict on X_val\n",
        "y_pred = model.predict(X_val_processed)"
      ],
      "execution_count": 0,
      "outputs": []
    },
    {
      "cell_type": "code",
      "metadata": {
        "id": "Ykz4aQ_UXRTU",
        "colab_type": "code",
        "colab": {}
      },
      "source": [
        "# Predicted probabilities for positive class\n",
        "y_pred_proba = model.predict_proba(X_val_processed)[:, 1] # Probability for positive class"
      ],
      "execution_count": 0,
      "outputs": []
    },
    {
      "cell_type": "code",
      "metadata": {
        "id": "t2-qOjSyXY6f",
        "colab_type": "code",
        "colab": {
          "base_uri": "https://localhost:8080/",
          "height": 35
        },
        "outputId": "b312c77c-cb4e-4aef-db17-690a7211bdc0"
      },
      "source": [
        "from sklearn.metrics import roc_auc_score\n",
        "roc_auc_score(y_val, y_pred_proba)\n",
        "#ROC-AUC score for positive class i.e dengue outbreak = 74.3%"
      ],
      "execution_count": 47,
      "outputs": [
        {
          "output_type": "execute_result",
          "data": {
            "text/plain": [
              "0.7432009626955475"
            ]
          },
          "metadata": {
            "tags": []
          },
          "execution_count": 47
        }
      ]
    },
    {
      "cell_type": "code",
      "metadata": {
        "id": "7Y9plJ5hXzmq",
        "colab_type": "code",
        "colab": {
          "base_uri": "https://localhost:8080/",
          "height": 54
        },
        "outputId": "080e5486-299a-4c8a-85f7-40d3f41eadcf"
      },
      "source": [
        "# Compute the confusion_matrix\n",
        "from sklearn.metrics import confusion_matrix\n",
        "confusion_matrix(y_val, y_pred)"
      ],
      "execution_count": 49,
      "outputs": [
        {
          "output_type": "execute_result",
          "data": {
            "text/plain": [
              "array([[276,   1],\n",
              "       [ 15,   0]])"
            ]
          },
          "metadata": {
            "tags": []
          },
          "execution_count": 49
        }
      ]
    },
    {
      "cell_type": "code",
      "metadata": {
        "id": "44yANVErX45T",
        "colab_type": "code",
        "colab": {
          "base_uri": "https://localhost:8080/",
          "height": 290
        },
        "outputId": "c971fd8a-38c3-4edd-c8a8-c18de1125c4a"
      },
      "source": [
        "pip install scikit-plot"
      ],
      "execution_count": 50,
      "outputs": [
        {
          "output_type": "stream",
          "text": [
            "Collecting scikit-plot\n",
            "  Downloading https://files.pythonhosted.org/packages/7c/47/32520e259340c140a4ad27c1b97050dd3254fdc517b1d59974d47037510e/scikit_plot-0.3.7-py3-none-any.whl\n",
            "Requirement already satisfied: scikit-learn>=0.18 in /usr/local/lib/python3.6/dist-packages (from scikit-plot) (0.21.3)\n",
            "Requirement already satisfied: matplotlib>=1.4.0 in /usr/local/lib/python3.6/dist-packages (from scikit-plot) (3.1.2)\n",
            "Requirement already satisfied: scipy>=0.9 in /usr/local/lib/python3.6/dist-packages (from scikit-plot) (1.3.3)\n",
            "Requirement already satisfied: joblib>=0.10 in /usr/local/lib/python3.6/dist-packages (from scikit-plot) (0.14.1)\n",
            "Requirement already satisfied: numpy>=1.11.0 in /usr/local/lib/python3.6/dist-packages (from scikit-learn>=0.18->scikit-plot) (1.17.4)\n",
            "Requirement already satisfied: python-dateutil>=2.1 in /usr/local/lib/python3.6/dist-packages (from matplotlib>=1.4.0->scikit-plot) (2.6.1)\n",
            "Requirement already satisfied: kiwisolver>=1.0.1 in /usr/local/lib/python3.6/dist-packages (from matplotlib>=1.4.0->scikit-plot) (1.1.0)\n",
            "Requirement already satisfied: pyparsing!=2.0.4,!=2.1.2,!=2.1.6,>=2.0.1 in /usr/local/lib/python3.6/dist-packages (from matplotlib>=1.4.0->scikit-plot) (2.4.5)\n",
            "Requirement already satisfied: cycler>=0.10 in /usr/local/lib/python3.6/dist-packages (from matplotlib>=1.4.0->scikit-plot) (0.10.0)\n",
            "Requirement already satisfied: six>=1.5 in /usr/local/lib/python3.6/dist-packages (from python-dateutil>=2.1->matplotlib>=1.4.0->scikit-plot) (1.12.0)\n",
            "Requirement already satisfied: setuptools in /usr/local/lib/python3.6/dist-packages (from kiwisolver>=1.0.1->matplotlib>=1.4.0->scikit-plot) (42.0.2)\n",
            "Installing collected packages: scikit-plot\n",
            "Successfully installed scikit-plot-0.3.7\n"
          ],
          "name": "stdout"
        }
      ]
    },
    {
      "cell_type": "code",
      "metadata": {
        "id": "JkKDN0J0X9HS",
        "colab_type": "code",
        "colab": {
          "base_uri": "https://localhost:8080/",
          "height": 404
        },
        "outputId": "6c7cd247-e10b-4556-b36e-214847a69f28"
      },
      "source": [
        "import scikitplot as skplt\n",
        "\n",
        "skplt.metrics.plot_confusion_matrix(y_val, y_pred, \n",
        "                                    figsize=(8,6),\n",
        "                                    title=f'Confusion Matrix (n={len(y_val)})',\n",
        "                                    normalize=False);"
      ],
      "execution_count": 52,
      "outputs": [
        {
          "output_type": "display_data",
          "data": {
            "image/png": "[encoded data removed]",
            "text/plain": [
              "<Figure size 576x432 with 2 Axes>"
            ]
          },
          "metadata": {
            "tags": []
          }
        }
      ]
    },
    {
      "cell_type": "code",
      "metadata": {
        "id": "8GA43-IBYhf-",
        "colab_type": "code",
        "colab": {}
      },
      "source": [
        "# Predicted probabilities for positive class\n",
        "y_pred_proba2 = model.predict_proba(X_val_processed)[:, 1] # Probability for positive class"
      ],
      "execution_count": 0,
      "outputs": []
    },
    {
      "cell_type": "code",
      "metadata": {
        "id": "qQX6gG8_Ys6p",
        "colab_type": "code",
        "colab": {}
      },
      "source": [
        "from sklearn.metrics import roc_curve\n",
        "fpr, tpr, thresholds = roc_curve(y_val, y_pred_proba2)"
      ],
      "execution_count": 0,
      "outputs": []
    },
    {
      "cell_type": "code",
      "metadata": {
        "id": "4jeQA8W7Yxvr",
        "colab_type": "code",
        "colab": {
          "base_uri": "https://localhost:8080/",
          "height": 738
        },
        "outputId": "4039e0ac-b5d9-4785-dd7b-124de3a3b0b3"
      },
      "source": [
        "# See the results in a table\n",
        "pd.DataFrame({\n",
        "    'False Positive Rate': fpr, \n",
        "    'True Positive Rate': tpr, \n",
        "    'Threshold': thresholds\n",
        "})"
      ],
      "execution_count": 55,
      "outputs": [
        {
          "output_type": "execute_result",
          "data": {
            "text/html": [
              "<div>\n",
              "<style scoped>\n",
              "    .dataframe tbody tr th:only-of-type {\n",
              "        vertical-align: middle;\n",
              "    }\n",
              "\n",
              "    .dataframe tbody tr th {\n",
              "        vertical-align: top;\n",
              "    }\n",
              "\n",
              "    .dataframe thead th {\n",
              "        text-align: right;\n",
              "    }\n",
              "</style>\n",
              "<table border=\"1\" class=\"dataframe\">\n",
              "  <thead>\n",
              "    <tr style=\"text-align: right;\">\n",
              "      <th></th>\n",
              "      <th>False Positive Rate</th>\n",
              "      <th>True Positive Rate</th>\n",
              "      <th>Threshold</th>\n",
              "    </tr>\n",
              "  </thead>\n",
              "  <tbody>\n",
              "    <tr>\n",
              "      <th>0</th>\n",
              "      <td>0.000000</td>\n",
              "      <td>0.000000</td>\n",
              "      <td>1.573560</td>\n",
              "    </tr>\n",
              "    <tr>\n",
              "      <th>1</th>\n",
              "      <td>0.003610</td>\n",
              "      <td>0.000000</td>\n",
              "      <td>0.573560</td>\n",
              "    </tr>\n",
              "    <tr>\n",
              "      <th>2</th>\n",
              "      <td>0.010830</td>\n",
              "      <td>0.066667</td>\n",
              "      <td>0.459108</td>\n",
              "    </tr>\n",
              "    <tr>\n",
              "      <th>3</th>\n",
              "      <td>0.018051</td>\n",
              "      <td>0.066667</td>\n",
              "      <td>0.421226</td>\n",
              "    </tr>\n",
              "    <tr>\n",
              "      <th>4</th>\n",
              "      <td>0.036101</td>\n",
              "      <td>0.200000</td>\n",
              "      <td>0.408739</td>\n",
              "    </tr>\n",
              "    <tr>\n",
              "      <th>5</th>\n",
              "      <td>0.039711</td>\n",
              "      <td>0.200000</td>\n",
              "      <td>0.395849</td>\n",
              "    </tr>\n",
              "    <tr>\n",
              "      <th>6</th>\n",
              "      <td>0.054152</td>\n",
              "      <td>0.200000</td>\n",
              "      <td>0.386818</td>\n",
              "    </tr>\n",
              "    <tr>\n",
              "      <th>7</th>\n",
              "      <td>0.061372</td>\n",
              "      <td>0.200000</td>\n",
              "      <td>0.384718</td>\n",
              "    </tr>\n",
              "    <tr>\n",
              "      <th>8</th>\n",
              "      <td>0.064982</td>\n",
              "      <td>0.200000</td>\n",
              "      <td>0.382544</td>\n",
              "    </tr>\n",
              "    <tr>\n",
              "      <th>9</th>\n",
              "      <td>0.079422</td>\n",
              "      <td>0.266667</td>\n",
              "      <td>0.369662</td>\n",
              "    </tr>\n",
              "    <tr>\n",
              "      <th>10</th>\n",
              "      <td>0.086643</td>\n",
              "      <td>0.333333</td>\n",
              "      <td>0.369227</td>\n",
              "    </tr>\n",
              "    <tr>\n",
              "      <th>11</th>\n",
              "      <td>0.097473</td>\n",
              "      <td>0.333333</td>\n",
              "      <td>0.364509</td>\n",
              "    </tr>\n",
              "    <tr>\n",
              "      <th>12</th>\n",
              "      <td>0.101083</td>\n",
              "      <td>0.333333</td>\n",
              "      <td>0.358461</td>\n",
              "    </tr>\n",
              "    <tr>\n",
              "      <th>13</th>\n",
              "      <td>0.126354</td>\n",
              "      <td>0.466667</td>\n",
              "      <td>0.356080</td>\n",
              "    </tr>\n",
              "    <tr>\n",
              "      <th>14</th>\n",
              "      <td>0.133574</td>\n",
              "      <td>0.466667</td>\n",
              "      <td>0.341150</td>\n",
              "    </tr>\n",
              "    <tr>\n",
              "      <th>15</th>\n",
              "      <td>0.155235</td>\n",
              "      <td>0.466667</td>\n",
              "      <td>0.327489</td>\n",
              "    </tr>\n",
              "    <tr>\n",
              "      <th>16</th>\n",
              "      <td>0.180505</td>\n",
              "      <td>0.533333</td>\n",
              "      <td>0.327093</td>\n",
              "    </tr>\n",
              "    <tr>\n",
              "      <th>17</th>\n",
              "      <td>0.191336</td>\n",
              "      <td>0.533333</td>\n",
              "      <td>0.325539</td>\n",
              "    </tr>\n",
              "    <tr>\n",
              "      <th>18</th>\n",
              "      <td>0.209386</td>\n",
              "      <td>0.533333</td>\n",
              "      <td>0.322230</td>\n",
              "    </tr>\n",
              "    <tr>\n",
              "      <th>19</th>\n",
              "      <td>0.277978</td>\n",
              "      <td>0.666667</td>\n",
              "      <td>0.308450</td>\n",
              "    </tr>\n",
              "    <tr>\n",
              "      <th>20</th>\n",
              "      <td>0.523466</td>\n",
              "      <td>0.666667</td>\n",
              "      <td>0.307082</td>\n",
              "    </tr>\n",
              "    <tr>\n",
              "      <th>21</th>\n",
              "      <td>0.577617</td>\n",
              "      <td>1.000000</td>\n",
              "      <td>0.304609</td>\n",
              "    </tr>\n",
              "    <tr>\n",
              "      <th>22</th>\n",
              "      <td>1.000000</td>\n",
              "      <td>1.000000</td>\n",
              "      <td>0.302734</td>\n",
              "    </tr>\n",
              "  </tbody>\n",
              "</table>\n",
              "</div>"
            ],
            "text/plain": [
              "    False Positive Rate  True Positive Rate  Threshold\n",
              "0              0.000000            0.000000   1.573560\n",
              "1              0.003610            0.000000   0.573560\n",
              "2              0.010830            0.066667   0.459108\n",
              "3              0.018051            0.066667   0.421226\n",
              "4              0.036101            0.200000   0.408739\n",
              "5              0.039711            0.200000   0.395849\n",
              "6              0.054152            0.200000   0.386818\n",
              "7              0.061372            0.200000   0.384718\n",
              "8              0.064982            0.200000   0.382544\n",
              "9              0.079422            0.266667   0.369662\n",
              "10             0.086643            0.333333   0.369227\n",
              "11             0.097473            0.333333   0.364509\n",
              "12             0.101083            0.333333   0.358461\n",
              "13             0.126354            0.466667   0.356080\n",
              "14             0.133574            0.466667   0.341150\n",
              "15             0.155235            0.466667   0.327489\n",
              "16             0.180505            0.533333   0.327093\n",
              "17             0.191336            0.533333   0.325539\n",
              "18             0.209386            0.533333   0.322230\n",
              "19             0.277978            0.666667   0.308450\n",
              "20             0.523466            0.666667   0.307082\n",
              "21             0.577617            1.000000   0.304609\n",
              "22             1.000000            1.000000   0.302734"
            ]
          },
          "metadata": {
            "tags": []
          },
          "execution_count": 55
        }
      ]
    },
    {
      "cell_type": "code",
      "metadata": {
        "id": "jT9cJvmPY1lu",
        "colab_type": "code",
        "colab": {
          "base_uri": "https://localhost:8080/",
          "height": 295
        },
        "outputId": "72ec6c83-71f1-4e5f-f592-72417ab2e72a"
      },
      "source": [
        "# See the results on a plot. \n",
        "# This is the \"Receiver Operating Characteristic\" curve\n",
        "plt.scatter(fpr, tpr)\n",
        "plt.title('ROC curve')\n",
        "plt.xlabel('False Positive Rate')\n",
        "plt.ylabel('True Positive Rate');"
      ],
      "execution_count": 56,
      "outputs": [
        {
          "output_type": "display_data",
          "data": {
            "image/png": "[encoded data removed]",
            "text/plain": [
              "<Figure size 432x288 with 1 Axes>"
            ]
          },
          "metadata": {
            "tags": []
          }
        }
      ]
    },
    {
      "cell_type": "code",
      "metadata": {
        "id": "9rxsYg0_Y-80",
        "colab_type": "code",
        "colab": {
          "base_uri": "https://localhost:8080/",
          "height": 35
        },
        "outputId": "d30ee1fb-e993-46a8-8ea1-09991b50683b"
      },
      "source": [
        "# Use scikit-learn to calculate the area under the curve.\n",
        "from sklearn.metrics import roc_auc_score\n",
        "roc_auc_score(y_val, y_pred_proba2)"
      ],
      "execution_count": 57,
      "outputs": [
        {
          "output_type": "execute_result",
          "data": {
            "text/plain": [
              "0.7432009626955475"
            ]
          },
          "metadata": {
            "tags": []
          },
          "execution_count": 57
        }
      ]
    },
    {
      "cell_type": "code",
      "metadata": {
        "id": "1ewXDXxF4tNR",
        "colab_type": "code",
        "colab": {}
      },
      "source": [
        "#Eli5 Permutation Importance Plot showing weights"
      ],
      "execution_count": 0,
      "outputs": []
    },
    {
      "cell_type": "code",
      "metadata": {
        "id": "jTnvZnxE5vhF",
        "colab_type": "code",
        "colab": {
          "base_uri": "https://localhost:8080/",
          "height": 290
        },
        "outputId": "2a32e5f4-ce8d-43ef-8d1c-b4976c8ee2cf"
      },
      "source": [
        "pip install eli5"
      ],
      "execution_count": 58,
      "outputs": [
        {
          "output_type": "stream",
          "text": [
            "Collecting eli5\n",
            "\u001b[?25l  Downloading https://files.pythonhosted.org/packages/97/2f/c85c7d8f8548e460829971785347e14e45fa5c6617da374711dec8cb38cc/eli5-0.10.1-py2.py3-none-any.whl (105kB)\n",
            "\r\u001b[K     |███                             | 10kB 24.6MB/s eta 0:00:01\r\u001b[K     |██████▏                         | 20kB 6.6MB/s eta 0:00:01\r\u001b[K     |█████████▎                      | 30kB 9.2MB/s eta 0:00:01\r\u001b[K     |████████████▍                   | 40kB 6.1MB/s eta 0:00:01\r\u001b[K     |███████████████▌                | 51kB 7.4MB/s eta 0:00:01\r\u001b[K     |██████████████████▋             | 61kB 8.7MB/s eta 0:00:01\r\u001b[K     |█████████████████████▊          | 71kB 9.9MB/s eta 0:00:01\r\u001b[K     |████████████████████████▊       | 81kB 11.0MB/s eta 0:00:01\r\u001b[K     |███████████████████████████▉    | 92kB 12.2MB/s eta 0:00:01\r\u001b[K     |███████████████████████████████ | 102kB 9.9MB/s eta 0:00:01\r\u001b[K     |████████████████████████████████| 112kB 9.9MB/s \n",
            "\u001b[?25hRequirement already satisfied: tabulate>=0.7.7 in /usr/local/lib/python3.6/dist-packages (from eli5) (0.8.6)\n",
            "Requirement already satisfied: graphviz in /usr/local/lib/python3.6/dist-packages (from eli5) (0.10.1)\n",
            "Requirement already satisfied: scipy in /usr/local/lib/python3.6/dist-packages (from eli5) (1.3.3)\n",
            "Requirement already satisfied: jinja2 in /usr/local/lib/python3.6/dist-packages (from eli5) (2.10.3)\n",
            "Requirement already satisfied: numpy>=1.9.0 in /usr/local/lib/python3.6/dist-packages (from eli5) (1.17.4)\n",
            "Requirement already satisfied: six in /usr/local/lib/python3.6/dist-packages (from eli5) (1.12.0)\n",
            "Requirement already satisfied: attrs>16.0.0 in /usr/local/lib/python3.6/dist-packages (from eli5) (19.3.0)\n",
            "Requirement already satisfied: scikit-learn>=0.18 in /usr/local/lib/python3.6/dist-packages (from eli5) (0.21.3)\n",
            "Requirement already satisfied: MarkupSafe>=0.23 in /usr/local/lib/python3.6/dist-packages (from jinja2->eli5) (1.1.1)\n",
            "Requirement already satisfied: joblib>=0.11 in /usr/local/lib/python3.6/dist-packages (from scikit-learn>=0.18->eli5) (0.14.1)\n",
            "Installing collected packages: eli5\n",
            "Successfully installed eli5-0.10.1\n"
          ],
          "name": "stdout"
        }
      ]
    },
    {
      "cell_type": "code",
      "metadata": {
        "id": "TiVQOTtf52y-",
        "colab_type": "code",
        "colab": {
          "base_uri": "https://localhost:8080/",
          "height": 553
        },
        "outputId": "7aa3511e-90db-44db-cb83-4c20d567319b"
      },
      "source": [
        "import eli5\n",
        "from eli5.sklearn import PermutationImportance\n",
        "#Eli5 needs ordinal encoding\n",
        "pipeline = make_pipeline(\n",
        "    ce.OrdinalEncoder(), \n",
        "    SimpleImputer(strategy='median') \n",
        ")\n",
        "X_train_transformed = pipeline.fit_transform(X_train)\n",
        "X_val_transformed = pipeline.transform(X_val)\n",
        "\n",
        "model = XGBClassifier(n_estimators=5, eval_metric='auc', n_jobs=-1)\n",
        "model.fit(X_train_transformed, y_train)\n",
        "\n",
        "permuter = PermutationImportance(\n",
        "    model,\n",
        "    scoring= 'accuracy',\n",
        "    n_iter=5,\n",
        "    random_state=42\n",
        ")\n",
        "permuter.fit(X_val_transformed, y_val)\n",
        "permuter.feature_importances_\n",
        "eli5.show_weights(\n",
        "    permuter,\n",
        "    top=None,\n",
        "    feature_names=X_val.columns.tolist()\n",
        ")"
      ],
      "execution_count": 61,
      "outputs": [
        {
          "output_type": "execute_result",
          "data": {
            "text/html": [
              "\n",
              "    <style>\n",
              "    table.eli5-weights tr:hover {\n",
              "        filter: brightness(85%);\n",
              "    }\n",
              "</style>\n",
              "\n",
              "\n",
              "\n",
              "    \n",
              "\n",
              "    \n",
              "\n",
              "    \n",
              "\n",
              "    \n",
              "\n",
              "    \n",
              "\n",
              "    \n",
              "\n",
              "\n",
              "    \n",
              "\n",
              "    \n",
              "\n",
              "    \n",
              "\n",
              "    \n",
              "\n",
              "    \n",
              "\n",
              "    \n",
              "\n",
              "\n",
              "    \n",
              "\n",
              "    \n",
              "\n",
              "    \n",
              "\n",
              "    \n",
              "\n",
              "    \n",
              "        <table class=\"eli5-weights eli5-feature-importances\" style=\"border-collapse: collapse; border: none; margin-top: 0em; table-layout: auto;\">\n",
              "    <thead>\n",
              "    <tr style=\"border: none;\">\n",
              "        <th style=\"padding: 0 1em 0 0.5em; text-align: right; border: none;\">Weight</th>\n",
              "        <th style=\"padding: 0 0.5em 0 0.5em; text-align: left; border: none;\">Feature</th>\n",
              "    </tr>\n",
              "    </thead>\n",
              "    <tbody>\n",
              "    \n",
              "        <tr style=\"background-color: hsl(0, 100.00%, 100.00%); border: none;\">\n",
              "            <td style=\"padding: 0 1em 0 0.5em; text-align: right; border: none;\">\n",
              "                0\n",
              "                \n",
              "                    &plusmn; 0.0000\n",
              "                \n",
              "            </td>\n",
              "            <td style=\"padding: 0 0.5em 0 0.5em; text-align: left; border: none;\">\n",
              "                city\n",
              "            </td>\n",
              "        </tr>\n",
              "    \n",
              "        <tr style=\"background-color: hsl(0, 100.00%, 100.00%); border: none;\">\n",
              "            <td style=\"padding: 0 1em 0 0.5em; text-align: right; border: none;\">\n",
              "                0\n",
              "                \n",
              "                    &plusmn; 0.0000\n",
              "                \n",
              "            </td>\n",
              "            <td style=\"padding: 0 0.5em 0 0.5em; text-align: left; border: none;\">\n",
              "                standing water feature 6\n",
              "            </td>\n",
              "        </tr>\n",
              "    \n",
              "        <tr style=\"background-color: hsl(0, 100.00%, 100.00%); border: none;\">\n",
              "            <td style=\"padding: 0 1em 0 0.5em; text-align: right; border: none;\">\n",
              "                0\n",
              "                \n",
              "                    &plusmn; 0.0000\n",
              "                \n",
              "            </td>\n",
              "            <td style=\"padding: 0 0.5em 0 0.5em; text-align: left; border: none;\">\n",
              "                Northeast vegetation index\n",
              "            </td>\n",
              "        </tr>\n",
              "    \n",
              "        <tr style=\"background-color: hsl(0, 100.00%, 100.00%); border: none;\">\n",
              "            <td style=\"padding: 0 1em 0 0.5em; text-align: right; border: none;\">\n",
              "                0\n",
              "                \n",
              "                    &plusmn; 0.0000\n",
              "                \n",
              "            </td>\n",
              "            <td style=\"padding: 0 0.5em 0 0.5em; text-align: left; border: none;\">\n",
              "                Northwest vegetation index\n",
              "            </td>\n",
              "        </tr>\n",
              "    \n",
              "        <tr style=\"background-color: hsl(0, 100.00%, 100.00%); border: none;\">\n",
              "            <td style=\"padding: 0 1em 0 0.5em; text-align: right; border: none;\">\n",
              "                0\n",
              "                \n",
              "                    &plusmn; 0.0000\n",
              "                \n",
              "            </td>\n",
              "            <td style=\"padding: 0 0.5em 0 0.5em; text-align: left; border: none;\">\n",
              "                Southeast vegetation index\n",
              "            </td>\n",
              "        </tr>\n",
              "    \n",
              "        <tr style=\"background-color: hsl(0, 100.00%, 100.00%); border: none;\">\n",
              "            <td style=\"padding: 0 1em 0 0.5em; text-align: right; border: none;\">\n",
              "                0\n",
              "                \n",
              "                    &plusmn; 0.0000\n",
              "                \n",
              "            </td>\n",
              "            <td style=\"padding: 0 0.5em 0 0.5em; text-align: left; border: none;\">\n",
              "                Southwest vegetation index\n",
              "            </td>\n",
              "        </tr>\n",
              "    \n",
              "        <tr style=\"background-color: hsl(0, 100.00%, 100.00%); border: none;\">\n",
              "            <td style=\"padding: 0 1em 0 0.5em; text-align: right; border: none;\">\n",
              "                0\n",
              "                \n",
              "                    &plusmn; 0.0000\n",
              "                \n",
              "            </td>\n",
              "            <td style=\"padding: 0 0.5em 0 0.5em; text-align: left; border: none;\">\n",
              "                Total precipitation in mm\n",
              "            </td>\n",
              "        </tr>\n",
              "    \n",
              "        <tr style=\"background-color: hsl(0, 100.00%, 100.00%); border: none;\">\n",
              "            <td style=\"padding: 0 1em 0 0.5em; text-align: right; border: none;\">\n",
              "                0\n",
              "                \n",
              "                    &plusmn; 0.0000\n",
              "                \n",
              "            </td>\n",
              "            <td style=\"padding: 0 0.5em 0 0.5em; text-align: left; border: none;\">\n",
              "                Average air temperature in K\n",
              "            </td>\n",
              "        </tr>\n",
              "    \n",
              "        <tr style=\"background-color: hsl(0, 100.00%, 100.00%); border: none;\">\n",
              "            <td style=\"padding: 0 1em 0 0.5em; text-align: right; border: none;\">\n",
              "                0\n",
              "                \n",
              "                    &plusmn; 0.0000\n",
              "                \n",
              "            </td>\n",
              "            <td style=\"padding: 0 0.5em 0 0.5em; text-align: left; border: none;\">\n",
              "                Mean dew point temp in K\n",
              "            </td>\n",
              "        </tr>\n",
              "    \n",
              "        <tr style=\"background-color: hsl(0, 100.00%, 100.00%); border: none;\">\n",
              "            <td style=\"padding: 0 1em 0 0.5em; text-align: right; border: none;\">\n",
              "                0\n",
              "                \n",
              "                    &plusmn; 0.0000\n",
              "                \n",
              "            </td>\n",
              "            <td style=\"padding: 0 0.5em 0 0.5em; text-align: left; border: none;\">\n",
              "                Maximum air temperature in K\n",
              "            </td>\n",
              "        </tr>\n",
              "    \n",
              "        <tr style=\"background-color: hsl(0, 100.00%, 100.00%); border: none;\">\n",
              "            <td style=\"padding: 0 1em 0 0.5em; text-align: right; border: none;\">\n",
              "                0\n",
              "                \n",
              "                    &plusmn; 0.0000\n",
              "                \n",
              "            </td>\n",
              "            <td style=\"padding: 0 0.5em 0 0.5em; text-align: left; border: none;\">\n",
              "                Minimum air temperature in K\n",
              "            </td>\n",
              "        </tr>\n",
              "    \n",
              "        <tr style=\"background-color: hsl(0, 100.00%, 100.00%); border: none;\">\n",
              "            <td style=\"padding: 0 1em 0 0.5em; text-align: right; border: none;\">\n",
              "                0\n",
              "                \n",
              "                    &plusmn; 0.0000\n",
              "                \n",
              "            </td>\n",
              "            <td style=\"padding: 0 0.5em 0 0.5em; text-align: left; border: none;\">\n",
              "                Total precipitation kg/m2\n",
              "            </td>\n",
              "        </tr>\n",
              "    \n",
              "        <tr style=\"background-color: hsl(0, 100.00%, 100.00%); border: none;\">\n",
              "            <td style=\"padding: 0 1em 0 0.5em; text-align: right; border: none;\">\n",
              "                0\n",
              "                \n",
              "                    &plusmn; 0.0000\n",
              "                \n",
              "            </td>\n",
              "            <td style=\"padding: 0 0.5em 0 0.5em; text-align: left; border: none;\">\n",
              "                Mean relative humidity\n",
              "            </td>\n",
              "        </tr>\n",
              "    \n",
              "        <tr style=\"background-color: hsl(0, 100.00%, 100.00%); border: none;\">\n",
              "            <td style=\"padding: 0 1em 0 0.5em; text-align: right; border: none;\">\n",
              "                0\n",
              "                \n",
              "                    &plusmn; 0.0000\n",
              "                \n",
              "            </td>\n",
              "            <td style=\"padding: 0 0.5em 0 0.5em; text-align: left; border: none;\">\n",
              "                Mean specific humidity\n",
              "            </td>\n",
              "        </tr>\n",
              "    \n",
              "        <tr style=\"background-color: hsl(0, 100.00%, 100.00%); border: none;\">\n",
              "            <td style=\"padding: 0 1em 0 0.5em; text-align: right; border: none;\">\n",
              "                0\n",
              "                \n",
              "                    &plusmn; 0.0000\n",
              "                \n",
              "            </td>\n",
              "            <td style=\"padding: 0 0.5em 0 0.5em; text-align: left; border: none;\">\n",
              "                Diurnal temperature range in K\n",
              "            </td>\n",
              "        </tr>\n",
              "    \n",
              "        <tr style=\"background-color: hsl(0, 100.00%, 100.00%); border: none;\">\n",
              "            <td style=\"padding: 0 1em 0 0.5em; text-align: right; border: none;\">\n",
              "                0\n",
              "                \n",
              "                    &plusmn; 0.0000\n",
              "                \n",
              "            </td>\n",
              "            <td style=\"padding: 0 0.5em 0 0.5em; text-align: left; border: none;\">\n",
              "                Average temp in C\n",
              "            </td>\n",
              "        </tr>\n",
              "    \n",
              "        <tr style=\"background-color: hsl(0, 100.00%, 100.00%); border: none;\">\n",
              "            <td style=\"padding: 0 1em 0 0.5em; text-align: right; border: none;\">\n",
              "                0\n",
              "                \n",
              "                    &plusmn; 0.0000\n",
              "                \n",
              "            </td>\n",
              "            <td style=\"padding: 0 0.5em 0 0.5em; text-align: left; border: none;\">\n",
              "                Diurnal temperature range in C\n",
              "            </td>\n",
              "        </tr>\n",
              "    \n",
              "        <tr style=\"background-color: hsl(0, 100.00%, 100.00%); border: none;\">\n",
              "            <td style=\"padding: 0 1em 0 0.5em; text-align: right; border: none;\">\n",
              "                0\n",
              "                \n",
              "                    &plusmn; 0.0000\n",
              "                \n",
              "            </td>\n",
              "            <td style=\"padding: 0 0.5em 0 0.5em; text-align: left; border: none;\">\n",
              "                Maximum temp in C\n",
              "            </td>\n",
              "        </tr>\n",
              "    \n",
              "        <tr style=\"background-color: hsl(0, 100.00%, 100.00%); border: none;\">\n",
              "            <td style=\"padding: 0 1em 0 0.5em; text-align: right; border: none;\">\n",
              "                0\n",
              "                \n",
              "                    &plusmn; 0.0000\n",
              "                \n",
              "            </td>\n",
              "            <td style=\"padding: 0 0.5em 0 0.5em; text-align: left; border: none;\">\n",
              "                Station precipitation in mm\n",
              "            </td>\n",
              "        </tr>\n",
              "    \n",
              "        <tr style=\"background-color: hsl(0, 100.00%, 100.00%); border: none;\">\n",
              "            <td style=\"padding: 0 1em 0 0.5em; text-align: right; border: none;\">\n",
              "                0\n",
              "                \n",
              "                    &plusmn; 0.0000\n",
              "                \n",
              "            </td>\n",
              "            <td style=\"padding: 0 0.5em 0 0.5em; text-align: left; border: none;\">\n",
              "                Year recorded\n",
              "            </td>\n",
              "        </tr>\n",
              "    \n",
              "        <tr style=\"background-color: hsl(0, 100.00%, 100.00%); border: none;\">\n",
              "            <td style=\"padding: 0 1em 0 0.5em; text-align: right; border: none;\">\n",
              "                0\n",
              "                \n",
              "                    &plusmn; 0.0000\n",
              "                \n",
              "            </td>\n",
              "            <td style=\"padding: 0 0.5em 0 0.5em; text-align: left; border: none;\">\n",
              "                Month recorded\n",
              "            </td>\n",
              "        </tr>\n",
              "    \n",
              "        <tr style=\"background-color: hsl(0, 100.00%, 100.00%); border: none;\">\n",
              "            <td style=\"padding: 0 1em 0 0.5em; text-align: right; border: none;\">\n",
              "                0\n",
              "                \n",
              "                    &plusmn; 0.0000\n",
              "                \n",
              "            </td>\n",
              "            <td style=\"padding: 0 0.5em 0 0.5em; text-align: left; border: none;\">\n",
              "                standing water feature 1\n",
              "            </td>\n",
              "        </tr>\n",
              "    \n",
              "        <tr style=\"background-color: hsl(0, 100.00%, 100.00%); border: none;\">\n",
              "            <td style=\"padding: 0 1em 0 0.5em; text-align: right; border: none;\">\n",
              "                0\n",
              "                \n",
              "                    &plusmn; 0.0000\n",
              "                \n",
              "            </td>\n",
              "            <td style=\"padding: 0 0.5em 0 0.5em; text-align: left; border: none;\">\n",
              "                total satellite vegetation index of city\n",
              "            </td>\n",
              "        </tr>\n",
              "    \n",
              "        <tr style=\"background-color: hsl(0, 100.00%, 100.00%); border: none;\">\n",
              "            <td style=\"padding: 0 1em 0 0.5em; text-align: right; border: none;\">\n",
              "                0\n",
              "                \n",
              "                    &plusmn; 0.0000\n",
              "                \n",
              "            </td>\n",
              "            <td style=\"padding: 0 0.5em 0 0.5em; text-align: left; border: none;\">\n",
              "                standing water feature 2\n",
              "            </td>\n",
              "        </tr>\n",
              "    \n",
              "        <tr style=\"background-color: hsl(0, 100.00%, 100.00%); border: none;\">\n",
              "            <td style=\"padding: 0 1em 0 0.5em; text-align: right; border: none;\">\n",
              "                0\n",
              "                \n",
              "                    &plusmn; 0.0000\n",
              "                \n",
              "            </td>\n",
              "            <td style=\"padding: 0 0.5em 0 0.5em; text-align: left; border: none;\">\n",
              "                standing water feature 3\n",
              "            </td>\n",
              "        </tr>\n",
              "    \n",
              "        <tr style=\"background-color: hsl(0, 100.00%, 100.00%); border: none;\">\n",
              "            <td style=\"padding: 0 1em 0 0.5em; text-align: right; border: none;\">\n",
              "                0\n",
              "                \n",
              "                    &plusmn; 0.0000\n",
              "                \n",
              "            </td>\n",
              "            <td style=\"padding: 0 0.5em 0 0.5em; text-align: left; border: none;\">\n",
              "                standing water feature 4\n",
              "            </td>\n",
              "        </tr>\n",
              "    \n",
              "        <tr style=\"background-color: hsl(0, 100.00%, 100.00%); border: none;\">\n",
              "            <td style=\"padding: 0 1em 0 0.5em; text-align: right; border: none;\">\n",
              "                0\n",
              "                \n",
              "                    &plusmn; 0.0000\n",
              "                \n",
              "            </td>\n",
              "            <td style=\"padding: 0 0.5em 0 0.5em; text-align: left; border: none;\">\n",
              "                standing water feature 5\n",
              "            </td>\n",
              "        </tr>\n",
              "    \n",
              "        <tr style=\"background-color: hsl(0, 100.00%, 100.00%); border: none;\">\n",
              "            <td style=\"padding: 0 1em 0 0.5em; text-align: right; border: none;\">\n",
              "                0\n",
              "                \n",
              "                    &plusmn; 0.0000\n",
              "                \n",
              "            </td>\n",
              "            <td style=\"padding: 0 0.5em 0 0.5em; text-align: left; border: none;\">\n",
              "                Week of Year\n",
              "            </td>\n",
              "        </tr>\n",
              "    \n",
              "        <tr style=\"background-color: hsl(0, 100.00%, 83.65%); border: none;\">\n",
              "            <td style=\"padding: 0 1em 0 0.5em; text-align: right; border: none;\">\n",
              "                -0.0021\n",
              "                \n",
              "                    &plusmn; 0.0034\n",
              "                \n",
              "            </td>\n",
              "            <td style=\"padding: 0 0.5em 0 0.5em; text-align: left; border: none;\">\n",
              "                Minimum temp in C\n",
              "            </td>\n",
              "        </tr>\n",
              "    \n",
              "        <tr style=\"background-color: hsl(0, 100.00%, 80.00%); border: none;\">\n",
              "            <td style=\"padding: 0 1em 0 0.5em; text-align: right; border: none;\">\n",
              "                -0.0027\n",
              "                \n",
              "                    &plusmn; 0.0027\n",
              "                \n",
              "            </td>\n",
              "            <td style=\"padding: 0 0.5em 0 0.5em; text-align: left; border: none;\">\n",
              "                Mean air temperature in K\n",
              "            </td>\n",
              "        </tr>\n",
              "    \n",
              "    \n",
              "    </tbody>\n",
              "</table>\n",
              "    \n",
              "\n",
              "    \n",
              "\n",
              "\n",
              "    \n",
              "\n",
              "    \n",
              "\n",
              "    \n",
              "\n",
              "    \n",
              "\n",
              "    \n",
              "\n",
              "    \n",
              "\n",
              "\n",
              "\n"
            ],
            "text/plain": [
              "<IPython.core.display.HTML object>"
            ]
          },
          "metadata": {
            "tags": []
          },
          "execution_count": 61
        }
      ]
    }
  ]
}