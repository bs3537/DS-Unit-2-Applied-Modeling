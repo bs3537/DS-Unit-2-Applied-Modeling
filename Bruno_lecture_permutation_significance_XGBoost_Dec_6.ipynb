{
  "nbformat": 4,
  "nbformat_minor": 0,
  "metadata": {
    "colab": {
      "name": "Bruno_lecture_permutation_significance_XGBoost_Dec. 6.ipynb",
      "provenance": [],
      "collapsed_sections": [],
      "include_colab_link": true
    },
    "kernelspec": {
      "display_name": "Python 3",
      "language": "python",
      "name": "python3"
    },
    "language_info": {
      "codemirror_mode": {
        "name": "ipython",
        "version": 3
      },
      "file_extension": ".py",
      "mimetype": "text/x-python",
      "name": "python",
      "nbconvert_exporter": "python",
      "pygments_lexer": "ipython3",
      "version": "3.7.3"
    }
  },
  "cells": [
    {
      "cell_type": "markdown",
      "metadata": {
        "id": "view-in-github",
        "colab_type": "text"
      },
      "source": [
        "<a href=\"https://colab.research.google.com/github/bs3537/DS-Unit-2-Applied-Modeling/blob/master/Bruno_lecture_permutation_significance_XGBoost_Dec_6.ipynb\" target=\"_parent\"><img src=\"https://colab.research.google.com/assets/colab-badge.svg\" alt=\"Open In Colab\"/></a>"
      ]
    },
    {
      "cell_type": "markdown",
      "metadata": {
        "colab_type": "text",
        "id": "U2ha9OWxf0jw"
      },
      "source": [
        "Lambda School Data Science\n",
        "\n",
        "*Unit 2, Sprint 3, Module 2*\n",
        "\n",
        "---"
      ]
    },
    {
      "cell_type": "markdown",
      "metadata": {
        "colab_type": "text",
        "id": "-hTictxWYih7"
      },
      "source": [
        "# Permutation & Boosting\n",
        "\n",
        "- Get **permutation importances** for model interpretation and feature selection\n",
        "- Use xgboost for **gradient boosting**\n"
      ]
    },
    {
      "cell_type": "markdown",
      "metadata": {
        "colab_type": "text",
        "id": "LoxNYFBXYih9"
      },
      "source": [
        "### Default Feature Importances are fast, but Permutation Importances may be more accurate\n",
        "\n",
        "- Permutation Importances\n",
        "  - [Kaggle / Dan Becker: Machine Learning Explainability](https://www.kaggle.com/dansbecker/permutation-importance)\n",
        "  - [Christoph Molnar: Interpretable Machine Learning](https://christophm.github.io/interpretable-ml-book/feature-importance.html)\n",
        "- (Default) Feature Importances\n",
        "  - [Ando Saabas: Selecting good features, Part 3, Random Forests](https://blog.datadive.net/selecting-good-features-part-iii-random-forests/)\n",
        "  - [Terence Parr, et al: Beware Default Random Forest Importances](https://explained.ai/rf-importance/index.html)\n",
        "\n",
        "### Try Tree Ensembles when you do machine learning with labeled, tabular data\n",
        "- \"Tree Ensembles\" means Random Forest or **Gradient Boosting** models. \n",
        "- [Tree Ensembles often have the best predictive accuracy](https://arxiv.org/abs/1708.05070) with labeled, tabular data.\n",
        "- Why? Because trees can fit non-linear, non-[monotonic](https://en.wikipedia.org/wiki/Monotonic_function) relationships, and [interactions](https://christophm.github.io/interpretable-ml-book/interaction.html) between features.\n",
        "- A single decision tree, grown to unlimited depth, will [overfit](http://www.r2d3.us/visual-intro-to-machine-learning-part-1/). We solve this problem by ensembling trees, with bagging (Random Forest) or **[boosting](https://www.youtube.com/watch?v=GM3CDQfQ4sw)** (Gradient Boosting).\n",
        "- Random Forest's advantage: may be less sensitive to hyperparameters. **Gradient Boosting's advantage:** may get better predictive accuracy.\n",
        "\n",
        "#### Python libraries for Gradient Boosting\n",
        "- [scikit-learn Gradient Tree Boosting](https://scikit-learn.org/stable/modules/ensemble.html#gradient-boosting) — slower than other libraries, but [the new version may be better](https://twitter.com/amuellerml/status/1129443826945396737)\n",
        "  - Anaconda: already installed\n",
        "  - Google Colab: already installed\n",
        "- [xgboost](https://xgboost.readthedocs.io/en/latest/) — can accept missing values and enforce [monotonic constraints](https://xiaoxiaowang87.github.io/monotonicity_constraint/)\n",
        "  - Anaconda, Mac/Linux: `conda install -c conda-forge xgboost`\n",
        "  - Windows: `conda install -c anaconda py-xgboost`\n",
        "  - Google Colab: already installed\n",
        "- [LightGBM](https://lightgbm.readthedocs.io/en/latest/) — can accept missing values and enforce [monotonic constraints](https://blog.datadive.net/monotonicity-constraints-in-machine-learning/)\n",
        "  - Anaconda: `conda install -c conda-forge lightgbm`\n",
        "  - Google Colab: already installed\n",
        "- [CatBoost](https://catboost.ai/) — can accept missing values and use [categorical features](https://catboost.ai/docs/concepts/algorithm-main-stages_cat-to-numberic.html) without preprocessing\n",
        "  - Anaconda: `conda install -c conda-forge catboost`\n",
        "  - Google Colab: `pip install catboost`"
      ]
    },
    {
      "cell_type": "markdown",
      "metadata": {
        "colab_type": "text",
        "id": "wMejJg0w8v76"
      },
      "source": [
        "### Setup\n",
        "\n",
        "Run the code cell below. You can work locally (follow the [local setup instructions](https://lambdaschool.github.io/ds/unit2/local/)) or on Colab.\n",
        "\n",
        "Libraries:\n",
        "\n",
        "- category_encoders\n",
        "- [**eli5**](https://eli5.readthedocs.io/en/latest/)\n",
        "- matplotlib\n",
        "- numpy\n",
        "- pandas\n",
        "- scikit-learn\n",
        "- [**xgboost**](https://xgboost.readthedocs.io/en/latest/)"
      ]
    },
    {
      "cell_type": "code",
      "metadata": {
        "colab_type": "code",
        "id": "BFQMky3CYih-",
        "colab": {}
      },
      "source": [
        "%%capture\n",
        "import sys\n",
        "\n",
        "# If you're on Colab:\n",
        "if 'google.colab' in sys.modules:\n",
        "    DATA_PATH = 'https://raw.githubusercontent.com/LambdaSchool/DS-Unit-2-Applied-Modeling/master/data/'\n",
        "    !pip install category_encoders==2.*\n",
        "    !pip install eli5\n",
        "\n",
        "# If you're working locally:\n",
        "else:\n",
        "    DATA_PATH = '../data/'"
      ],
      "execution_count": 0,
      "outputs": []
    },
    {
      "cell_type": "code",
      "metadata": {
        "colab_type": "code",
        "id": "z-TExplb_Slf",
        "colab": {}
      },
      "source": [
        "import numpy as np\n",
        "import pandas as pd\n",
        "from sklearn.model_selection import train_test_split\n",
        "\n",
        "# Merge train_features.csv & train_labels.csv\n",
        "train = pd.merge(pd.read_csv(DATA_PATH+'waterpumps/train_features.csv'), \n",
        "                 pd.read_csv(DATA_PATH+'waterpumps/train_labels.csv'))\n",
        "\n",
        "# Read test_features.csv & sample_submission.csv\n",
        "test = pd.read_csv(DATA_PATH+'waterpumps/test_features.csv')\n",
        "sample_submission = pd.read_csv(DATA_PATH+'waterpumps/sample_submission.csv')\n",
        "\n",
        "\n",
        "# Split train into train & val\n",
        "train, val = train_test_split(train, train_size=0.80, test_size=0.20, \n",
        "                              stratify=train['status_group'], random_state=42)\n",
        "\n",
        "\n",
        "def wrangle(X):\n",
        "    \"\"\"Wrangle train, validate, and test sets in the same way\"\"\"\n",
        "    \n",
        "    # Prevent SettingWithCopyWarning\n",
        "    X = X.copy()\n",
        "    \n",
        "    # About 3% of the time, latitude has small values near zero,\n",
        "    # outside Tanzania, so we'll treat these values like zero.\n",
        "    X['latitude'] = X['latitude'].replace(-2e-08, 0)\n",
        "    \n",
        "    # When columns have zeros and shouldn't, they are like null values.\n",
        "    # So we will replace the zeros with nulls, and impute missing values later.\n",
        "    # Also create a \"missing indicator\" column, because the fact that\n",
        "    # values are missing may be a predictive signal.\n",
        "    cols_with_zeros = ['longitude', 'latitude', 'construction_year', \n",
        "                       'gps_height', 'population']\n",
        "    for col in cols_with_zeros:\n",
        "        X[col] = X[col].replace(0, np.nan)\n",
        "        X[col+'_MISSING'] = X[col].isnull()\n",
        "            \n",
        "    # Drop duplicate columns\n",
        "    duplicates = ['quantity_group', 'payment_type']\n",
        "    X = X.drop(columns=duplicates)\n",
        "    \n",
        "    # Drop recorded_by (never varies) and id (always varies, random)\n",
        "    unusable_variance = ['recorded_by', 'id']\n",
        "    X = X.drop(columns=unusable_variance)\n",
        "    \n",
        "    # Convert date_recorded to datetime\n",
        "    X['date_recorded'] = pd.to_datetime(X['date_recorded'], infer_datetime_format=True)\n",
        "    \n",
        "    # Extract components from date_recorded, then drop the original column\n",
        "    X['year_recorded'] = X['date_recorded'].dt.year\n",
        "    X['month_recorded'] = X['date_recorded'].dt.month\n",
        "    X['day_recorded'] = X['date_recorded'].dt.day\n",
        "    X = X.drop(columns='date_recorded')\n",
        "    \n",
        "    # Engineer feature: how many years from construction_year to date_recorded\n",
        "    X['years'] = X['year_recorded'] - X['construction_year']\n",
        "    X['years_MISSING'] = X['years'].isnull()\n",
        "    \n",
        "    # return the wrangled dataframe\n",
        "    return X\n",
        "\n",
        "train = wrangle(train)\n",
        "val = wrangle(val)\n",
        "test = wrangle(test)"
      ],
      "execution_count": 0,
      "outputs": []
    },
    {
      "cell_type": "code",
      "metadata": {
        "colab_type": "code",
        "id": "rhg8PQKt_jzP",
        "colab": {}
      },
      "source": [
        "# Arrange data into X features matrix and y target vector\n",
        "target = 'status_group'\n",
        "X_train = train.drop(columns=target)\n",
        "y_train = train[target]\n",
        "X_val = val.drop(columns=target)\n",
        "y_val = val[target]\n",
        "X_test = test"
      ],
      "execution_count": 0,
      "outputs": []
    },
    {
      "cell_type": "code",
      "metadata": {
        "colab_type": "code",
        "id": "m8lB4z5l_eml",
        "outputId": "02bdae36-8a65-451e-b278-8ede6517b067",
        "colab": {
          "base_uri": "https://localhost:8080/",
          "height": 34
        }
      },
      "source": [
        "import category_encoders as ce\n",
        "from sklearn.impute import SimpleImputer\n",
        "from sklearn.ensemble import RandomForestClassifier\n",
        "from sklearn.model_selection import train_test_split\n",
        "from sklearn.pipeline import make_pipeline\n",
        "\n",
        "pipeline = make_pipeline(\n",
        "    ce.OrdinalEncoder(), \n",
        "    SimpleImputer(strategy='median'), \n",
        "    RandomForestClassifier(n_estimators=100, random_state=42, n_jobs=-1)\n",
        ")\n",
        "\n",
        "# Fit on train, score on val\n",
        "pipeline.fit(X_train, y_train)\n",
        "print('Validation Accuracy', pipeline.score(X_val, y_val))"
      ],
      "execution_count": 0,
      "outputs": [
        {
          "output_type": "stream",
          "text": [
            "Validation Accuracy 0.8135521885521886\n"
          ],
          "name": "stdout"
        }
      ]
    },
    {
      "cell_type": "markdown",
      "metadata": {
        "colab_type": "text",
        "id": "7HOayKBOYiit"
      },
      "source": [
        "# 3 types of feature importances"
      ]
    },
    {
      "cell_type": "markdown",
      "metadata": {
        "colab_type": "text",
        "id": "4bRhsxENYiiu"
      },
      "source": [
        "## 1. (Default) Feature Importances\n",
        "\n",
        "Fastest, good for first estimates, but be aware:\n",
        "\n",
        "\n",
        "\n",
        ">**When the dataset has two (or more) correlated features, then from the point of view of the model, any of these correlated features can be used as the predictor, with no concrete preference of one over the others.** But once one of them is used, the importance of others is significantly reduced since effectively the impurity they can remove is already removed by the first feature. As a consequence, they will have a lower reported importance. This is not an issue when we want to use feature selection to reduce overfitting, since it makes sense to remove features that are mostly duplicated by other features. But when interpreting the data, it can lead to the incorrect conclusion that one of the variables is a strong predictor while the others in the same group are unimportant, while actually they are very close in terms of their relationship with the response variable. — [Selecting good features – Part III: random forests](https://blog.datadive.net/selecting-good-features-part-iii-random-forests/) \n",
        "\n",
        "\n",
        " \n",
        " > **The scikit-learn Random Forest feature importance ... tends to inflate the importance of continuous or high-cardinality categorical variables.** ... Breiman and Cutler, the inventors of Random Forests, indicate that this method of “adding up the gini decreases for each individual variable over all trees in the forest gives a **fast** variable importance that is often very consistent with the permutation importance measure.” —  [Beware Default Random Forest Importances](https://explained.ai/rf-importance/index.html)\n",
        "\n",
        " \n"
      ]
    },
    {
      "cell_type": "code",
      "metadata": {
        "colab_type": "code",
        "id": "BNVm6f7mYiiu",
        "outputId": "12bd3c66-4abf-4037-a04c-82fc7c282b8d",
        "colab": {
          "base_uri": "https://localhost:8080/",
          "height": 607
        }
      },
      "source": [
        "# Get feature importances\n",
        "rf = pipeline.named_steps['randomforestclassifier']\n",
        "importances = pd.Series(rf.feature_importances_, X_train.columns)\n",
        "\n",
        "# Plot feature importances\n",
        "%matplotlib inline\n",
        "import matplotlib.pyplot as plt\n",
        "\n",
        "n = 20\n",
        "plt.figure(figsize=(10,n/2))\n",
        "plt.title(f'Top {n} features')\n",
        "importances.sort_values()[-n:].plot.barh(color='grey');"
      ],
      "execution_count": 0,
      "outputs": [
        {
          "output_type": "display_data",
          "data": {
            "image/png": "[encoded data removed]",
            "text/plain": [
              "<Figure size 720x720 with 1 Axes>"
            ]
          },
          "metadata": {
            "tags": []
          }
        }
      ]
    },
    {
      "cell_type": "markdown",
      "metadata": {
        "colab_type": "text",
        "id": "y8HzLcCBYiiv"
      },
      "source": [
        "## 2. Drop-Column Importance\n",
        "\n",
        "The best in theory, but too slow in practice"
      ]
    },
    {
      "cell_type": "code",
      "metadata": {
        "id": "Za8DoJSHOh0Q",
        "colab_type": "code",
        "outputId": "28425f52-c5af-4962-e722-baa9d7682b51",
        "colab": {
          "base_uri": "https://localhost:8080/",
          "height": 34
        }
      },
      "source": [
        "X_train.shape"
      ],
      "execution_count": 0,
      "outputs": [
        {
          "output_type": "execute_result",
          "data": {
            "text/plain": [
              "(47520, 45)"
            ]
          },
          "metadata": {
            "tags": []
          },
          "execution_count": 47
        }
      ]
    },
    {
      "cell_type": "code",
      "metadata": {
        "id": "FDf5Nt_yPAm8",
        "colab_type": "code",
        "outputId": "1a91d142-44fa-4d82-dabd-ce8dff91838e",
        "colab": {
          "base_uri": "https://localhost:8080/",
          "height": 118
        }
      },
      "source": [
        "X_train.quantity.value_counts()"
      ],
      "execution_count": 0,
      "outputs": [
        {
          "output_type": "execute_result",
          "data": {
            "text/plain": [
              "enough          26567\n",
              "insufficient    12153\n",
              "dry              4921\n",
              "seasonal         3244\n",
              "unknown           635\n",
              "Name: quantity, dtype: int64"
            ]
          },
          "metadata": {
            "tags": []
          },
          "execution_count": 48
        }
      ]
    },
    {
      "cell_type": "code",
      "metadata": {
        "colab_type": "code",
        "id": "DQAOlERnYiiw",
        "outputId": "6a32fe87-f3f1-4610-cf4f-f5f19e9356eb",
        "colab": {
          "base_uri": "https://localhost:8080/",
          "height": 67
        }
      },
      "source": [
        "column  = 'quantity'\n",
        "\n",
        "# Fit without column\n",
        "pipeline = make_pipeline(\n",
        "    ce.OrdinalEncoder(), \n",
        "    SimpleImputer(strategy='median'), \n",
        "    RandomForestClassifier(n_estimators=250, random_state=42, n_jobs=-1)\n",
        ")\n",
        "pipeline.fit(X_train.drop(columns=column), y_train)\n",
        "score_without = pipeline.score(X_val.drop(columns=column), y_val)\n",
        "print(f'Validation Accuracy without {column}: {score_without}')\n",
        "\n",
        "# Fit with column\n",
        "pipeline = make_pipeline(\n",
        "    ce.OrdinalEncoder(), \n",
        "    SimpleImputer(strategy='median'), \n",
        "    RandomForestClassifier(n_estimators=250, random_state=42, n_jobs=-1)\n",
        ")\n",
        "pipeline.fit(X_train, y_train)\n",
        "score_with = pipeline.score(X_val, y_val)\n",
        "print(f'Validation Accuracy with {column}: {score_with}')\n",
        "\n",
        "# Compare the error with & without column\n",
        "print(f'Drop-Column Importance for {column}: {score_with - score_without}')"
      ],
      "execution_count": 0,
      "outputs": [
        {
          "output_type": "stream",
          "text": [
            "Validation Accuracy without quantity: 0.7815656565656566\n",
            "Validation Accuracy with quantity: 0.8148148148148148\n",
            "Drop-Column Importance for quantity: 0.033249158249158195\n"
          ],
          "name": "stdout"
        }
      ]
    },
    {
      "cell_type": "code",
      "metadata": {
        "id": "gkKabd0DQA1v",
        "colab_type": "code",
        "outputId": "57b270ef-8a6a-49fc-cab8-c9741ea14e20",
        "colab": {
          "base_uri": "https://localhost:8080/",
          "height": 67
        }
      },
      "source": [
        "column  = 'quantity'\n",
        "\n",
        "# Fit without column\n",
        "pipeline = make_pipeline(\n",
        "    ce.OrdinalEncoder(), \n",
        "    SimpleImputer(strategy='median'), \n",
        "    RandomForestClassifier(n_estimators=250, max_depth=7, random_state=42, n_jobs=-1)\n",
        ")\n",
        "pipeline.fit(X_train.drop(columns=column), y_train)\n",
        "score_without = pipeline.score(X_val.drop(columns=column), y_val)\n",
        "print(f'Validation Accuracy without {column}: {score_without}')\n",
        "\n",
        "# Fit with column\n",
        "pipeline = make_pipeline(\n",
        "    ce.OrdinalEncoder(), \n",
        "    SimpleImputer(strategy='median'), \n",
        "    RandomForestClassifier(n_estimators=250, max_depth=7, random_state=42, n_jobs=-1)\n",
        ")\n",
        "pipeline.fit(X_train, y_train)\n",
        "score_with = pipeline.score(X_val, y_val)\n",
        "print(f'Validation Accuracy with {column}: {score_with}')\n",
        "\n",
        "# Compare the error with & without column\n",
        "print(f'Drop-Column Importance for {column}: {score_with - score_without}')"
      ],
      "execution_count": 0,
      "outputs": [
        {
          "output_type": "stream",
          "text": [
            "Validation Accuracy without quantity: 0.695959595959596\n",
            "Validation Accuracy with quantity: 0.7418350168350168\n",
            "Drop-Column Importance for quantity: 0.04587542087542085\n"
          ],
          "name": "stdout"
        }
      ]
    },
    {
      "cell_type": "code",
      "metadata": {
        "id": "oxzrD8KJPH0l",
        "colab_type": "code",
        "outputId": "1fba1dac-59b3-46a8-bfd8-d575330a7fcd",
        "colab": {
          "base_uri": "https://localhost:8080/",
          "height": 67
        }
      },
      "source": [
        "column  = 'wpt_name'\n",
        "\n",
        "# Fit without column\n",
        "pipeline = make_pipeline(\n",
        "    ce.OrdinalEncoder(), \n",
        "    SimpleImputer(strategy='median'), \n",
        "    RandomForestClassifier(n_estimators=100, random_state=42, n_jobs=-1)\n",
        ")\n",
        "pipeline.fit(X_train.drop(columns=column), y_train)\n",
        "score_without = pipeline.score(X_val.drop(columns=column), y_val)\n",
        "print(f'Validation Accuracy without {column}: {score_without}')\n",
        "\n",
        "# Fit with column\n",
        "pipeline = make_pipeline(\n",
        "    ce.OrdinalEncoder(), \n",
        "    SimpleImputer(strategy='median'), \n",
        "    RandomForestClassifier(n_estimators=100, random_state=42, n_jobs=-1)\n",
        ")\n",
        "pipeline.fit(X_train, y_train)\n",
        "score_with = pipeline.score(X_val, y_val)\n",
        "print(f'Validation Accuracy with {column}: {score_with}')\n",
        "\n",
        "# Compare the error with & without column\n",
        "print(f'Drop-Column Importance for {column}: {score_with - score_without}')"
      ],
      "execution_count": 0,
      "outputs": [
        {
          "output_type": "stream",
          "text": [
            "Validation Accuracy without wpt_name: 0.8087542087542088\n",
            "Validation Accuracy with wpt_name: 0.8135521885521886\n",
            "Drop-Column Importance for wpt_name: 0.004797979797979801\n"
          ],
          "name": "stdout"
        }
      ]
    },
    {
      "cell_type": "code",
      "metadata": {
        "id": "3hEoBao5Sx98",
        "colab_type": "code",
        "outputId": "461176ad-0ac7-440b-994a-348de626cfa1",
        "colab": {
          "base_uri": "https://localhost:8080/",
          "height": 790
        }
      },
      "source": [
        "# Fit with all the columns\n",
        "pipeline = make_pipeline(\n",
        "    ce.OrdinalEncoder(), \n",
        "    SimpleImputer(strategy='median'), \n",
        "    RandomForestClassifier(n_estimators=100, random_state=42, n_jobs=-1)\n",
        ")\n",
        "pipeline.fit(X_train, y_train)\n",
        "score_with = pipeline.score(X_val, y_val)\n",
        "print(f'Validation Accuracy with {column}: {score_with}')\n",
        "\n",
        "for column in X_train.columns:\n",
        "\n",
        "  # Fit without column\n",
        "  pipeline = make_pipeline(\n",
        "      ce.OrdinalEncoder(), \n",
        "      SimpleImputer(strategy='median'), \n",
        "      RandomForestClassifier(n_estimators=100, random_state=42, n_jobs=-1)\n",
        "  )\n",
        "  pipeline.fit(X_train.drop(columns=column), y_train)\n",
        "  score_without = pipeline.score(X_val.drop(columns=column), y_val)\n",
        "\n",
        "  # Compare the error with & without column\n",
        "  print(f'Drop-Column Importance for {column}: {score_with - score_without}')"
      ],
      "execution_count": 0,
      "outputs": [
        {
          "output_type": "stream",
          "text": [
            "Validation Accuracy with wpt_name: 0.8135521885521886\n",
            "Drop-Column Importance for amount_tsh: 0.002777777777777768\n",
            "Drop-Column Importance for funder: 0.00303030303030305\n",
            "Drop-Column Importance for gps_height: 0.003114478114478181\n",
            "Drop-Column Importance for installer: 0.0017676767676767513\n",
            "Drop-Column Importance for longitude: 0.0037878787878787845\n",
            "Drop-Column Importance for latitude: 0.0038720538720539155\n",
            "Drop-Column Importance for wpt_name: 0.004797979797979801\n",
            "Drop-Column Importance for num_private: 0.004713804713804781\n",
            "Drop-Column Importance for basin: 0.00016835016835015093\n",
            "Drop-Column Importance for subvillage: 0.005892255892255949\n",
            "Drop-Column Importance for region: 0.002609427609427617\n",
            "Drop-Column Importance for region_code: 0.00454545454545463\n",
            "Drop-Column Importance for district_code: 0.002272727272727315\n",
            "Drop-Column Importance for lga: 0.002188552188552184\n",
            "Drop-Column Importance for ward: 0.0005892255892255838\n",
            "Drop-Column Importance for population: 0.007070707070707116\n",
            "Drop-Column Importance for public_meeting: 0.004292929292929348\n",
            "Drop-Column Importance for scheme_management: 0.0016835016835017313\n",
            "Drop-Column Importance for scheme_name: 0.0018518518518518823\n",
            "Drop-Column Importance for permit: 0.002104377104377164\n",
            "Drop-Column Importance for construction_year: 0.0019360269360270133\n",
            "Drop-Column Importance for extraction_type: 0.004377104377104368\n",
            "Drop-Column Importance for extraction_type_group: 0.0016835016835017313\n",
            "Drop-Column Importance for extraction_type_class: 0.0036195286195286336\n",
            "Drop-Column Importance for management: 0.0032828282828283317\n",
            "Drop-Column Importance for management_group: 0.002693602693602748\n",
            "Drop-Column Importance for payment: 0.002104377104377164\n",
            "Drop-Column Importance for water_quality: 0.0008417508417508657\n",
            "Drop-Column Importance for quality_group: 0.004124579124579197\n",
            "Drop-Column Importance for quantity: 0.03644781144781151\n",
            "Drop-Column Importance for source: 0.002272727272727315\n",
            "Drop-Column Importance for source_type: 0.0034511784511784827\n",
            "Drop-Column Importance for source_class: 8.417508417513098e-05\n",
            "Drop-Column Importance for waterpoint_type: 0.004377104377104368\n",
            "Drop-Column Importance for waterpoint_type_group: 0.004040404040404066\n",
            "Drop-Column Importance for longitude_MISSING: 0.002356902356902335\n",
            "Drop-Column Importance for latitude_MISSING: 0.002356902356902335\n",
            "Drop-Column Importance for construction_year_MISSING: 0.0032828282828283317\n",
            "Drop-Column Importance for gps_height_MISSING: 0.0015151515151515804\n",
            "Drop-Column Importance for population_MISSING: 0.002441077441077466\n",
            "Drop-Column Importance for year_recorded: 0.004377104377104368\n",
            "Drop-Column Importance for month_recorded: 0.005218855218855234\n",
            "Drop-Column Importance for day_recorded: 0.004124579124579197\n",
            "Drop-Column Importance for years: 0.0037037037037037646\n",
            "Drop-Column Importance for years_MISSING: 0.0034511784511784827\n"
          ],
          "name": "stdout"
        }
      ]
    },
    {
      "cell_type": "markdown",
      "metadata": {
        "colab_type": "text",
        "id": "6Vu39wGkYiix"
      },
      "source": [
        "## 3. Permutation Importance\n",
        "\n",
        "Permutation Importance is a good compromise between Feature Importance based on impurity reduction (which is the fastest) and Drop Column Importance (which is the \"best.\")\n",
        "\n",
        "[The ELI5 library documentation explains,](https://eli5.readthedocs.io/en/latest/blackbox/permutation_importance.html)\n",
        "\n",
        "> Importance can be measured by looking at how much the score (accuracy, F1, R^2, etc. - any score we’re interested in) decreases when a feature is not available.\n",
        ">\n",
        "> To do that one can remove feature from the dataset, re-train the estimator and check the score. But it requires re-training an estimator for each feature, which can be computationally intensive. ...\n",
        ">\n",
        ">To avoid re-training the estimator we can remove a feature only from the test part of the dataset, and compute score without using this feature. It doesn’t work as-is, because estimators expect feature to be present. So instead of removing a feature we can replace it with random noise - feature column is still there, but it no longer contains useful information. This method works if noise is drawn from the same distribution as original feature values (as otherwise estimator may fail). The simplest way to get such noise is to shuffle values for a feature, i.e. use other examples’ feature values - this is how permutation importance is computed.\n",
        ">\n",
        ">The method is most suitable for computing feature importances when a number of columns (features) is not huge; it can be resource-intensive otherwise."
      ]
    },
    {
      "cell_type": "markdown",
      "metadata": {
        "colab_type": "text",
        "id": "GYCiEx7zYiiy"
      },
      "source": [
        "### Do-It-Yourself way, for intuition"
      ]
    },
    {
      "cell_type": "code",
      "metadata": {
        "id": "nY9cfagYYwok",
        "colab_type": "code",
        "outputId": "1abd0038-89c7-4ba3-9e97-487e74ddd606",
        "colab": {
          "base_uri": "https://localhost:8080/",
          "height": 34
        }
      },
      "source": [
        "# Fit with all the data\n",
        "pipeline = make_pipeline(\n",
        "    ce.OrdinalEncoder(), \n",
        "    SimpleImputer(strategy='median'), \n",
        "    RandomForestClassifier(n_estimators=100, random_state=42, n_jobs=-1)\n",
        ")\n",
        "pipeline.fit(X_train, y_train)\n",
        "score_with = pipeline.score(X_val, y_val)\n",
        "print(f'Validation Accuracy with {column}: {score_with}')"
      ],
      "execution_count": 0,
      "outputs": [
        {
          "output_type": "stream",
          "text": [
            "Validation Accuracy with quantity: 0.8135521885521886\n"
          ],
          "name": "stdout"
        }
      ]
    },
    {
      "cell_type": "code",
      "metadata": {
        "colab_type": "code",
        "id": "TksOf_n2Yiiy",
        "outputId": "d78f6126-1d21-4a26-fb9f-862bcbd93a99",
        "colab": {
          "base_uri": "https://localhost:8080/",
          "height": 118
        }
      },
      "source": [
        "# Before: Sequence of features to be permuted\n",
        "feature = 'quantity'\n",
        "X_val[feature].head()"
      ],
      "execution_count": 0,
      "outputs": [
        {
          "output_type": "execute_result",
          "data": {
            "text/plain": [
              "3290     insufficient\n",
              "47666    insufficient\n",
              "2538           enough\n",
              "53117          enough\n",
              "51817          enough\n",
              "Name: quantity, dtype: object"
            ]
          },
          "metadata": {
            "tags": []
          },
          "execution_count": 13
        }
      ]
    },
    {
      "cell_type": "code",
      "metadata": {
        "id": "fiulbiWuXYpR",
        "colab_type": "code",
        "outputId": "36b36a97-d7e1-4a66-c8c2-293c3506cffa",
        "colab": {
          "base_uri": "https://localhost:8080/",
          "height": 118
        }
      },
      "source": [
        "# Before: Distribution of quantity\n",
        "X_val[feature].value_counts()"
      ],
      "execution_count": 0,
      "outputs": [
        {
          "output_type": "execute_result",
          "data": {
            "text/plain": [
              "enough          6619\n",
              "insufficient    2976\n",
              "dry             1325\n",
              "seasonal         806\n",
              "unknown          154\n",
              "Name: quantity, dtype: int64"
            ]
          },
          "metadata": {
            "tags": []
          },
          "execution_count": 14
        }
      ]
    },
    {
      "cell_type": "code",
      "metadata": {
        "id": "CTGJBy76XYmD",
        "colab_type": "code",
        "colab": {}
      },
      "source": [
        "# Permute the dataset\n",
        "X_val_permuted = X_val.copy()\n",
        "X_val_permuted[feature] = np.random.permutation(X_val[feature])"
      ],
      "execution_count": 0,
      "outputs": []
    },
    {
      "cell_type": "code",
      "metadata": {
        "id": "lkiBI9T-Xha9",
        "colab_type": "code",
        "outputId": "58541107-5808-428e-e942-36deea4d439a",
        "colab": {
          "base_uri": "https://localhost:8080/",
          "height": 118
        }
      },
      "source": [
        "# After: Sequence of features to be permuted\n",
        "X_val_permuted[feature].head()"
      ],
      "execution_count": 0,
      "outputs": [
        {
          "output_type": "execute_result",
          "data": {
            "text/plain": [
              "3290     insufficient\n",
              "47666          enough\n",
              "2538              dry\n",
              "53117        seasonal\n",
              "51817          enough\n",
              "Name: quantity, dtype: object"
            ]
          },
          "metadata": {
            "tags": []
          },
          "execution_count": 20
        }
      ]
    },
    {
      "cell_type": "code",
      "metadata": {
        "id": "wtnvTO9DXYhL",
        "colab_type": "code",
        "outputId": "b9b7f2b0-0090-4d58-d7cb-0de0de653398",
        "colab": {
          "base_uri": "https://localhost:8080/",
          "height": 118
        }
      },
      "source": [
        "# Distribution hasn't changed!\n",
        "X_val_permuted[feature].value_counts()"
      ],
      "execution_count": 0,
      "outputs": [
        {
          "output_type": "execute_result",
          "data": {
            "text/plain": [
              "enough          6619\n",
              "insufficient    2976\n",
              "dry             1325\n",
              "seasonal         806\n",
              "unknown          154\n",
              "Name: quantity, dtype: int64"
            ]
          },
          "metadata": {
            "tags": []
          },
          "execution_count": 21
        }
      ]
    },
    {
      "cell_type": "code",
      "metadata": {
        "id": "yy-GbBkeYgHz",
        "colab_type": "code",
        "outputId": "b9bfba51-3eb8-4db7-ed6d-c854c40e18d8",
        "colab": {
          "base_uri": "https://localhost:8080/",
          "height": 67
        }
      },
      "source": [
        "# Get the permutation importance\n",
        "score_permuted = pipeline.score(X_val_permuted, y_val)\n",
        "\n",
        "print(f'Validation Accuracy with {column} not permuted: {score_with}')\n",
        "print(f'Validation Accuracy with {column} permuted: {score_permuted}')\n",
        "print(f'Permutation Importance for {column}: {score_with - score_permuted}')"
      ],
      "execution_count": 0,
      "outputs": [
        {
          "output_type": "stream",
          "text": [
            "Validation Accuracy with quantity not permuted: 0.8135521885521886\n",
            "Validation Accuracy with quantity permuted: 0.7163299663299664\n",
            "Permutation Importance for quantity: 0.09722222222222221\n"
          ],
          "name": "stdout"
        }
      ]
    },
    {
      "cell_type": "markdown",
      "metadata": {
        "colab_type": "text",
        "id": "0LYk19SNYii7"
      },
      "source": [
        "### With eli5 library\n",
        "\n",
        "For more documentation on using this library, see:\n",
        "- [eli5.sklearn.PermutationImportance](https://eli5.readthedocs.io/en/latest/autodocs/sklearn.html#eli5.sklearn.permutation_importance.PermutationImportance)\n",
        "- [eli5.show_weights](https://eli5.readthedocs.io/en/latest/autodocs/eli5.html#eli5.show_weights)\n",
        "- [scikit-learn user guide, `scoring` parameter](https://scikit-learn.org/stable/modules/model_evaluation.html#the-scoring-parameter-defining-model-evaluation-rules)\n",
        "\n",
        "eli5 doesn't work with pipelines."
      ]
    },
    {
      "cell_type": "code",
      "metadata": {
        "colab_type": "code",
        "id": "hpSemTkFFP8i",
        "outputId": "6cdb9ba1-6d15-46c8-b359-8e80bb29b4c4",
        "colab": {
          "base_uri": "https://localhost:8080/",
          "height": 134
        }
      },
      "source": [
        "pipeline = make_pipeline(\n",
        "    ce.OrdinalEncoder(),\n",
        "    SimpleImputer(strategy='median')\n",
        ")\n",
        "\n",
        "X_train_transformed = pipeline.fit_transform(X_train)\n",
        "X_val_transformed = pipeline.transform(X_val)\n",
        "\n",
        "model = RandomForestClassifier(n_estimators=100, random_state=42, n_jobs=-1)\n",
        "model.fit(X_train_transformed, y_train)"
      ],
      "execution_count": 0,
      "outputs": [
        {
          "output_type": "execute_result",
          "data": {
            "text/plain": [
              "RandomForestClassifier(bootstrap=True, class_weight=None, criterion='gini',\n",
              "                       max_depth=None, max_features='auto', max_leaf_nodes=None,\n",
              "                       min_impurity_decrease=0.0, min_impurity_split=None,\n",
              "                       min_samples_leaf=1, min_samples_split=2,\n",
              "                       min_weight_fraction_leaf=0.0, n_estimators=100,\n",
              "                       n_jobs=-1, oob_score=False, random_state=42, verbose=0,\n",
              "                       warm_start=False)"
            ]
          },
          "metadata": {
            "tags": []
          },
          "execution_count": 27
        }
      ]
    },
    {
      "cell_type": "code",
      "metadata": {
        "id": "abNvu3lEbZaV",
        "colab_type": "code",
        "outputId": "19527dbf-05e1-4b94-f6d8-5261df19b808",
        "colab": {
          "base_uri": "https://localhost:8080/",
          "height": 353
        }
      },
      "source": [
        "import eli5\n",
        "from eli5.sklearn import PermutationImportance\n",
        "\n",
        "permuter = PermutationImportance(\n",
        "    model,\n",
        "    scoring='accuracy',\n",
        "    n_iter=5,\n",
        "    random_state=42\n",
        ")\n",
        "permuter.fit(X_val_transformed, y_val)"
      ],
      "execution_count": 0,
      "outputs": [
        {
          "output_type": "execute_result",
          "data": {
            "text/plain": [
              "PermutationImportance(cv='prefit',\n",
              "                      estimator=RandomForestClassifier(bootstrap=True,\n",
              "                                                       class_weight=None,\n",
              "                                                       criterion='gini',\n",
              "                                                       max_depth=None,\n",
              "                                                       max_features='auto',\n",
              "                                                       max_leaf_nodes=None,\n",
              "                                                       min_impurity_decrease=0.0,\n",
              "                                                       min_impurity_split=None,\n",
              "                                                       min_samples_leaf=1,\n",
              "                                                       min_samples_split=2,\n",
              "                                                       min_weight_fraction_leaf=0.0,\n",
              "                                                       n_estimators=100,\n",
              "                                                       n_jobs=-1,\n",
              "                                                       oob_score=False,\n",
              "                                                       random_state=42,\n",
              "                                                       verbose=0,\n",
              "                                                       warm_start=False),\n",
              "                      n_iter=5, random_state=42, refit=True,\n",
              "                      scoring='accuracy')"
            ]
          },
          "metadata": {
            "tags": []
          },
          "execution_count": 28
        }
      ]
    },
    {
      "cell_type": "code",
      "metadata": {
        "id": "XOCPzX4gc4Xp",
        "colab_type": "code",
        "outputId": "fcb6e97f-6baf-4716-dcfb-a6cf00ac0292",
        "colab": {
          "base_uri": "https://localhost:8080/",
          "height": 218
        }
      },
      "source": [
        "permuter.feature_importances_"
      ],
      "execution_count": 0,
      "outputs": [
        {
          "output_type": "execute_result",
          "data": {
            "text/plain": [
              "array([ 1.07575758e-02,  1.12794613e-03,  1.76767677e-03, -5.05050505e-05,\n",
              "        8.83838384e-03,  6.24579125e-03,  9.42760943e-04,  3.36700337e-04,\n",
              "       -1.43097643e-03,  3.03030303e-03,  9.25925926e-04,  8.92255892e-04,\n",
              "        2.23905724e-03,  7.23905724e-04,  5.38720539e-04,  6.41414141e-03,\n",
              "        2.96296296e-03,  6.56565657e-04,  8.08080808e-04,  7.74410774e-04,\n",
              "        2.60942761e-03,  5.38720539e-04,  1.78451178e-03,  1.01683502e-02,\n",
              "        4.54545455e-04, -4.88215488e-04,  3.06397306e-03,  5.38720539e-04,\n",
              "       -5.72390572e-04,  1.01632997e-01,  1.54882155e-03, -1.68350168e-05,\n",
              "        3.36700337e-04,  1.03535354e-02,  6.75084175e-03,  8.75420875e-04,\n",
              "        1.34680135e-04,  5.05050505e-05,  5.05050505e-05,  2.02020202e-04,\n",
              "        2.69360269e-04,  1.12794613e-03,  1.49831650e-03,  2.97979798e-03,\n",
              "        4.71380471e-04])"
            ]
          },
          "metadata": {
            "tags": []
          },
          "execution_count": 29
        }
      ]
    },
    {
      "cell_type": "code",
      "metadata": {
        "id": "6stI16kEcac6",
        "colab_type": "code",
        "outputId": "ada66314-c232-46fa-fe15-cc2efc5f0f21",
        "colab": {
          "base_uri": "https://localhost:8080/",
          "height": 790
        }
      },
      "source": [
        "eli5.show_weights(\n",
        "    permuter,\n",
        "    top=None,\n",
        "    feature_names=X_val.columns.tolist()\n",
        ")"
      ],
      "execution_count": 0,
      "outputs": [
        {
          "output_type": "execute_result",
          "data": {
            "text/html": [
              "\n",
              "    <style>\n",
              "    table.eli5-weights tr:hover {\n",
              "        filter: brightness(85%);\n",
              "    }\n",
              "</style>\n",
              "\n",
              "\n",
              "\n",
              "    \n",
              "\n",
              "    \n",
              "\n",
              "    \n",
              "\n",
              "    \n",
              "\n",
              "    \n",
              "\n",
              "    \n",
              "\n",
              "\n",
              "    \n",
              "\n",
              "    \n",
              "\n",
              "    \n",
              "\n",
              "    \n",
              "\n",
              "    \n",
              "\n",
              "    \n",
              "\n",
              "\n",
              "    \n",
              "\n",
              "    \n",
              "\n",
              "    \n",
              "\n",
              "    \n",
              "\n",
              "    \n",
              "        <table class=\"eli5-weights eli5-feature-importances\" style=\"border-collapse: collapse; border: none; margin-top: 0em; table-layout: auto;\">\n",
              "    <thead>\n",
              "    <tr style=\"border: none;\">\n",
              "        <th style=\"padding: 0 1em 0 0.5em; text-align: right; border: none;\">Weight</th>\n",
              "        <th style=\"padding: 0 0.5em 0 0.5em; text-align: left; border: none;\">Feature</th>\n",
              "    </tr>\n",
              "    </thead>\n",
              "    <tbody>\n",
              "    \n",
              "        <tr style=\"background-color: hsl(120, 100.00%, 80.00%); border: none;\">\n",
              "            <td style=\"padding: 0 1em 0 0.5em; text-align: right; border: none;\">\n",
              "                0.1016\n",
              "                \n",
              "                    &plusmn; 0.0029\n",
              "                \n",
              "            </td>\n",
              "            <td style=\"padding: 0 0.5em 0 0.5em; text-align: left; border: none;\">\n",
              "                quantity\n",
              "            </td>\n",
              "        </tr>\n",
              "    \n",
              "        <tr style=\"background-color: hsl(120, 100.00%, 95.85%); border: none;\">\n",
              "            <td style=\"padding: 0 1em 0 0.5em; text-align: right; border: none;\">\n",
              "                0.0108\n",
              "                \n",
              "                    &plusmn; 0.0024\n",
              "                \n",
              "            </td>\n",
              "            <td style=\"padding: 0 0.5em 0 0.5em; text-align: left; border: none;\">\n",
              "                amount_tsh\n",
              "            </td>\n",
              "        </tr>\n",
              "    \n",
              "        <tr style=\"background-color: hsl(120, 100.00%, 95.96%); border: none;\">\n",
              "            <td style=\"padding: 0 1em 0 0.5em; text-align: right; border: none;\">\n",
              "                0.0104\n",
              "                \n",
              "                    &plusmn; 0.0018\n",
              "                \n",
              "            </td>\n",
              "            <td style=\"padding: 0 0.5em 0 0.5em; text-align: left; border: none;\">\n",
              "                waterpoint_type\n",
              "            </td>\n",
              "        </tr>\n",
              "    \n",
              "        <tr style=\"background-color: hsl(120, 100.00%, 96.01%); border: none;\">\n",
              "            <td style=\"padding: 0 1em 0 0.5em; text-align: right; border: none;\">\n",
              "                0.0102\n",
              "                \n",
              "                    &plusmn; 0.0015\n",
              "                \n",
              "            </td>\n",
              "            <td style=\"padding: 0 0.5em 0 0.5em; text-align: left; border: none;\">\n",
              "                extraction_type_class\n",
              "            </td>\n",
              "        </tr>\n",
              "    \n",
              "        <tr style=\"background-color: hsl(120, 100.00%, 96.38%); border: none;\">\n",
              "            <td style=\"padding: 0 1em 0 0.5em; text-align: right; border: none;\">\n",
              "                0.0088\n",
              "                \n",
              "                    &plusmn; 0.0015\n",
              "                \n",
              "            </td>\n",
              "            <td style=\"padding: 0 0.5em 0 0.5em; text-align: left; border: none;\">\n",
              "                longitude\n",
              "            </td>\n",
              "        </tr>\n",
              "    \n",
              "        <tr style=\"background-color: hsl(120, 100.00%, 97.00%); border: none;\">\n",
              "            <td style=\"padding: 0 1em 0 0.5em; text-align: right; border: none;\">\n",
              "                0.0068\n",
              "                \n",
              "                    &plusmn; 0.0018\n",
              "                \n",
              "            </td>\n",
              "            <td style=\"padding: 0 0.5em 0 0.5em; text-align: left; border: none;\">\n",
              "                waterpoint_type_group\n",
              "            </td>\n",
              "        </tr>\n",
              "    \n",
              "        <tr style=\"background-color: hsl(120, 100.00%, 97.11%); border: none;\">\n",
              "            <td style=\"padding: 0 1em 0 0.5em; text-align: right; border: none;\">\n",
              "                0.0064\n",
              "                \n",
              "                    &plusmn; 0.0008\n",
              "                \n",
              "            </td>\n",
              "            <td style=\"padding: 0 0.5em 0 0.5em; text-align: left; border: none;\">\n",
              "                population\n",
              "            </td>\n",
              "        </tr>\n",
              "    \n",
              "        <tr style=\"background-color: hsl(120, 100.00%, 97.16%); border: none;\">\n",
              "            <td style=\"padding: 0 1em 0 0.5em; text-align: right; border: none;\">\n",
              "                0.0062\n",
              "                \n",
              "                    &plusmn; 0.0026\n",
              "                \n",
              "            </td>\n",
              "            <td style=\"padding: 0 0.5em 0 0.5em; text-align: left; border: none;\">\n",
              "                latitude\n",
              "            </td>\n",
              "        </tr>\n",
              "    \n",
              "        <tr style=\"background-color: hsl(120, 100.00%, 98.28%); border: none;\">\n",
              "            <td style=\"padding: 0 1em 0 0.5em; text-align: right; border: none;\">\n",
              "                0.0031\n",
              "                \n",
              "                    &plusmn; 0.0010\n",
              "                \n",
              "            </td>\n",
              "            <td style=\"padding: 0 0.5em 0 0.5em; text-align: left; border: none;\">\n",
              "                payment\n",
              "            </td>\n",
              "        </tr>\n",
              "    \n",
              "        <tr style=\"background-color: hsl(120, 100.00%, 98.29%); border: none;\">\n",
              "            <td style=\"padding: 0 1em 0 0.5em; text-align: right; border: none;\">\n",
              "                0.0030\n",
              "                \n",
              "                    &plusmn; 0.0015\n",
              "                \n",
              "            </td>\n",
              "            <td style=\"padding: 0 0.5em 0 0.5em; text-align: left; border: none;\">\n",
              "                subvillage\n",
              "            </td>\n",
              "        </tr>\n",
              "    \n",
              "        <tr style=\"background-color: hsl(120, 100.00%, 98.31%); border: none;\">\n",
              "            <td style=\"padding: 0 1em 0 0.5em; text-align: right; border: none;\">\n",
              "                0.0030\n",
              "                \n",
              "                    &plusmn; 0.0026\n",
              "                \n",
              "            </td>\n",
              "            <td style=\"padding: 0 0.5em 0 0.5em; text-align: left; border: none;\">\n",
              "                years\n",
              "            </td>\n",
              "        </tr>\n",
              "    \n",
              "        <tr style=\"background-color: hsl(120, 100.00%, 98.32%); border: none;\">\n",
              "            <td style=\"padding: 0 1em 0 0.5em; text-align: right; border: none;\">\n",
              "                0.0030\n",
              "                \n",
              "                    &plusmn; 0.0011\n",
              "                \n",
              "            </td>\n",
              "            <td style=\"padding: 0 0.5em 0 0.5em; text-align: left; border: none;\">\n",
              "                public_meeting\n",
              "            </td>\n",
              "        </tr>\n",
              "    \n",
              "        <tr style=\"background-color: hsl(120, 100.00%, 98.46%); border: none;\">\n",
              "            <td style=\"padding: 0 1em 0 0.5em; text-align: right; border: none;\">\n",
              "                0.0026\n",
              "                \n",
              "                    &plusmn; 0.0029\n",
              "                \n",
              "            </td>\n",
              "            <td style=\"padding: 0 0.5em 0 0.5em; text-align: left; border: none;\">\n",
              "                construction_year\n",
              "            </td>\n",
              "        </tr>\n",
              "    \n",
              "        <tr style=\"background-color: hsl(120, 100.00%, 98.62%); border: none;\">\n",
              "            <td style=\"padding: 0 1em 0 0.5em; text-align: right; border: none;\">\n",
              "                0.0022\n",
              "                \n",
              "                    &plusmn; 0.0016\n",
              "                \n",
              "            </td>\n",
              "            <td style=\"padding: 0 0.5em 0 0.5em; text-align: left; border: none;\">\n",
              "                district_code\n",
              "            </td>\n",
              "        </tr>\n",
              "    \n",
              "        <tr style=\"background-color: hsl(120, 100.00%, 98.82%); border: none;\">\n",
              "            <td style=\"padding: 0 1em 0 0.5em; text-align: right; border: none;\">\n",
              "                0.0018\n",
              "                \n",
              "                    &plusmn; 0.0015\n",
              "                \n",
              "            </td>\n",
              "            <td style=\"padding: 0 0.5em 0 0.5em; text-align: left; border: none;\">\n",
              "                extraction_type_group\n",
              "            </td>\n",
              "        </tr>\n",
              "    \n",
              "        <tr style=\"background-color: hsl(120, 100.00%, 98.83%); border: none;\">\n",
              "            <td style=\"padding: 0 1em 0 0.5em; text-align: right; border: none;\">\n",
              "                0.0018\n",
              "                \n",
              "                    &plusmn; 0.0010\n",
              "                \n",
              "            </td>\n",
              "            <td style=\"padding: 0 0.5em 0 0.5em; text-align: left; border: none;\">\n",
              "                gps_height\n",
              "            </td>\n",
              "        </tr>\n",
              "    \n",
              "        <tr style=\"background-color: hsl(120, 100.00%, 98.93%); border: none;\">\n",
              "            <td style=\"padding: 0 1em 0 0.5em; text-align: right; border: none;\">\n",
              "                0.0015\n",
              "                \n",
              "                    &plusmn; 0.0011\n",
              "                \n",
              "            </td>\n",
              "            <td style=\"padding: 0 0.5em 0 0.5em; text-align: left; border: none;\">\n",
              "                source\n",
              "            </td>\n",
              "        </tr>\n",
              "    \n",
              "        <tr style=\"background-color: hsl(120, 100.00%, 98.96%); border: none;\">\n",
              "            <td style=\"padding: 0 1em 0 0.5em; text-align: right; border: none;\">\n",
              "                0.0015\n",
              "                \n",
              "                    &plusmn; 0.0017\n",
              "                \n",
              "            </td>\n",
              "            <td style=\"padding: 0 0.5em 0 0.5em; text-align: left; border: none;\">\n",
              "                day_recorded\n",
              "            </td>\n",
              "        </tr>\n",
              "    \n",
              "        <tr style=\"background-color: hsl(120, 100.00%, 99.14%); border: none;\">\n",
              "            <td style=\"padding: 0 1em 0 0.5em; text-align: right; border: none;\">\n",
              "                0.0011\n",
              "                \n",
              "                    &plusmn; 0.0012\n",
              "                \n",
              "            </td>\n",
              "            <td style=\"padding: 0 0.5em 0 0.5em; text-align: left; border: none;\">\n",
              "                funder\n",
              "            </td>\n",
              "        </tr>\n",
              "    \n",
              "        <tr style=\"background-color: hsl(120, 100.00%, 99.14%); border: none;\">\n",
              "            <td style=\"padding: 0 1em 0 0.5em; text-align: right; border: none;\">\n",
              "                0.0011\n",
              "                \n",
              "                    &plusmn; 0.0019\n",
              "                \n",
              "            </td>\n",
              "            <td style=\"padding: 0 0.5em 0 0.5em; text-align: left; border: none;\">\n",
              "                month_recorded\n",
              "            </td>\n",
              "        </tr>\n",
              "    \n",
              "        <tr style=\"background-color: hsl(120, 100.00%, 99.24%); border: none;\">\n",
              "            <td style=\"padding: 0 1em 0 0.5em; text-align: right; border: none;\">\n",
              "                0.0009\n",
              "                \n",
              "                    &plusmn; 0.0014\n",
              "                \n",
              "            </td>\n",
              "            <td style=\"padding: 0 0.5em 0 0.5em; text-align: left; border: none;\">\n",
              "                wpt_name\n",
              "            </td>\n",
              "        </tr>\n",
              "    \n",
              "        <tr style=\"background-color: hsl(120, 100.00%, 99.25%); border: none;\">\n",
              "            <td style=\"padding: 0 1em 0 0.5em; text-align: right; border: none;\">\n",
              "                0.0009\n",
              "                \n",
              "                    &plusmn; 0.0013\n",
              "                \n",
              "            </td>\n",
              "            <td style=\"padding: 0 0.5em 0 0.5em; text-align: left; border: none;\">\n",
              "                region\n",
              "            </td>\n",
              "        </tr>\n",
              "    \n",
              "        <tr style=\"background-color: hsl(120, 100.00%, 99.27%); border: none;\">\n",
              "            <td style=\"padding: 0 1em 0 0.5em; text-align: right; border: none;\">\n",
              "                0.0009\n",
              "                \n",
              "                    &plusmn; 0.0014\n",
              "                \n",
              "            </td>\n",
              "            <td style=\"padding: 0 0.5em 0 0.5em; text-align: left; border: none;\">\n",
              "                region_code\n",
              "            </td>\n",
              "        </tr>\n",
              "    \n",
              "        <tr style=\"background-color: hsl(120, 100.00%, 99.28%); border: none;\">\n",
              "            <td style=\"padding: 0 1em 0 0.5em; text-align: right; border: none;\">\n",
              "                0.0009\n",
              "                \n",
              "                    &plusmn; 0.0007\n",
              "                \n",
              "            </td>\n",
              "            <td style=\"padding: 0 0.5em 0 0.5em; text-align: left; border: none;\">\n",
              "                longitude_MISSING\n",
              "            </td>\n",
              "        </tr>\n",
              "    \n",
              "        <tr style=\"background-color: hsl(120, 100.00%, 99.32%); border: none;\">\n",
              "            <td style=\"padding: 0 1em 0 0.5em; text-align: right; border: none;\">\n",
              "                0.0008\n",
              "                \n",
              "                    &plusmn; 0.0020\n",
              "                \n",
              "            </td>\n",
              "            <td style=\"padding: 0 0.5em 0 0.5em; text-align: left; border: none;\">\n",
              "                scheme_name\n",
              "            </td>\n",
              "        </tr>\n",
              "    \n",
              "        <tr style=\"background-color: hsl(120, 100.00%, 99.34%); border: none;\">\n",
              "            <td style=\"padding: 0 1em 0 0.5em; text-align: right; border: none;\">\n",
              "                0.0008\n",
              "                \n",
              "                    &plusmn; 0.0006\n",
              "                \n",
              "            </td>\n",
              "            <td style=\"padding: 0 0.5em 0 0.5em; text-align: left; border: none;\">\n",
              "                permit\n",
              "            </td>\n",
              "        </tr>\n",
              "    \n",
              "        <tr style=\"background-color: hsl(120, 100.00%, 99.37%); border: none;\">\n",
              "            <td style=\"padding: 0 1em 0 0.5em; text-align: right; border: none;\">\n",
              "                0.0007\n",
              "                \n",
              "                    &plusmn; 0.0009\n",
              "                \n",
              "            </td>\n",
              "            <td style=\"padding: 0 0.5em 0 0.5em; text-align: left; border: none;\">\n",
              "                lga\n",
              "            </td>\n",
              "        </tr>\n",
              "    \n",
              "        <tr style=\"background-color: hsl(120, 100.00%, 99.41%); border: none;\">\n",
              "            <td style=\"padding: 0 1em 0 0.5em; text-align: right; border: none;\">\n",
              "                0.0007\n",
              "                \n",
              "                    &plusmn; 0.0020\n",
              "                \n",
              "            </td>\n",
              "            <td style=\"padding: 0 0.5em 0 0.5em; text-align: left; border: none;\">\n",
              "                scheme_management\n",
              "            </td>\n",
              "        </tr>\n",
              "    \n",
              "        <tr style=\"background-color: hsl(120, 100.00%, 99.49%); border: none;\">\n",
              "            <td style=\"padding: 0 1em 0 0.5em; text-align: right; border: none;\">\n",
              "                0.0005\n",
              "                \n",
              "                    &plusmn; 0.0017\n",
              "                \n",
              "            </td>\n",
              "            <td style=\"padding: 0 0.5em 0 0.5em; text-align: left; border: none;\">\n",
              "                ward\n",
              "            </td>\n",
              "        </tr>\n",
              "    \n",
              "        <tr style=\"background-color: hsl(120, 100.00%, 99.49%); border: none;\">\n",
              "            <td style=\"padding: 0 1em 0 0.5em; text-align: right; border: none;\">\n",
              "                0.0005\n",
              "                \n",
              "                    &plusmn; 0.0008\n",
              "                \n",
              "            </td>\n",
              "            <td style=\"padding: 0 0.5em 0 0.5em; text-align: left; border: none;\">\n",
              "                water_quality\n",
              "            </td>\n",
              "        </tr>\n",
              "    \n",
              "        <tr style=\"background-color: hsl(120, 100.00%, 99.49%); border: none;\">\n",
              "            <td style=\"padding: 0 1em 0 0.5em; text-align: right; border: none;\">\n",
              "                0.0005\n",
              "                \n",
              "                    &plusmn; 0.0014\n",
              "                \n",
              "            </td>\n",
              "            <td style=\"padding: 0 0.5em 0 0.5em; text-align: left; border: none;\">\n",
              "                extraction_type\n",
              "            </td>\n",
              "        </tr>\n",
              "    \n",
              "        <tr style=\"background-color: hsl(120, 100.00%, 99.53%); border: none;\">\n",
              "            <td style=\"padding: 0 1em 0 0.5em; text-align: right; border: none;\">\n",
              "                0.0005\n",
              "                \n",
              "                    &plusmn; 0.0005\n",
              "                \n",
              "            </td>\n",
              "            <td style=\"padding: 0 0.5em 0 0.5em; text-align: left; border: none;\">\n",
              "                years_MISSING\n",
              "            </td>\n",
              "        </tr>\n",
              "    \n",
              "        <tr style=\"background-color: hsl(120, 100.00%, 99.55%); border: none;\">\n",
              "            <td style=\"padding: 0 1em 0 0.5em; text-align: right; border: none;\">\n",
              "                0.0005\n",
              "                \n",
              "                    &plusmn; 0.0021\n",
              "                \n",
              "            </td>\n",
              "            <td style=\"padding: 0 0.5em 0 0.5em; text-align: left; border: none;\">\n",
              "                management\n",
              "            </td>\n",
              "        </tr>\n",
              "    \n",
              "        <tr style=\"background-color: hsl(120, 100.00%, 99.63%); border: none;\">\n",
              "            <td style=\"padding: 0 1em 0 0.5em; text-align: right; border: none;\">\n",
              "                0.0003\n",
              "                \n",
              "                    &plusmn; 0.0000\n",
              "                \n",
              "            </td>\n",
              "            <td style=\"padding: 0 0.5em 0 0.5em; text-align: left; border: none;\">\n",
              "                num_private\n",
              "            </td>\n",
              "        </tr>\n",
              "    \n",
              "        <tr style=\"background-color: hsl(120, 100.00%, 99.63%); border: none;\">\n",
              "            <td style=\"padding: 0 1em 0 0.5em; text-align: right; border: none;\">\n",
              "                0.0003\n",
              "                \n",
              "                    &plusmn; 0.0011\n",
              "                \n",
              "            </td>\n",
              "            <td style=\"padding: 0 0.5em 0 0.5em; text-align: left; border: none;\">\n",
              "                source_class\n",
              "            </td>\n",
              "        </tr>\n",
              "    \n",
              "        <tr style=\"background-color: hsl(120, 100.00%, 99.69%); border: none;\">\n",
              "            <td style=\"padding: 0 1em 0 0.5em; text-align: right; border: none;\">\n",
              "                0.0003\n",
              "                \n",
              "                    &plusmn; 0.0011\n",
              "                \n",
              "            </td>\n",
              "            <td style=\"padding: 0 0.5em 0 0.5em; text-align: left; border: none;\">\n",
              "                year_recorded\n",
              "            </td>\n",
              "        </tr>\n",
              "    \n",
              "        <tr style=\"background-color: hsl(120, 100.00%, 99.74%); border: none;\">\n",
              "            <td style=\"padding: 0 1em 0 0.5em; text-align: right; border: none;\">\n",
              "                0.0002\n",
              "                \n",
              "                    &plusmn; 0.0005\n",
              "                \n",
              "            </td>\n",
              "            <td style=\"padding: 0 0.5em 0 0.5em; text-align: left; border: none;\">\n",
              "                population_MISSING\n",
              "            </td>\n",
              "        </tr>\n",
              "    \n",
              "        <tr style=\"background-color: hsl(120, 100.00%, 99.81%); border: none;\">\n",
              "            <td style=\"padding: 0 1em 0 0.5em; text-align: right; border: none;\">\n",
              "                0.0001\n",
              "                \n",
              "                    &plusmn; 0.0001\n",
              "                \n",
              "            </td>\n",
              "            <td style=\"padding: 0 0.5em 0 0.5em; text-align: left; border: none;\">\n",
              "                latitude_MISSING\n",
              "            </td>\n",
              "        </tr>\n",
              "    \n",
              "        <tr style=\"background-color: hsl(120, 100.00%, 99.90%); border: none;\">\n",
              "            <td style=\"padding: 0 1em 0 0.5em; text-align: right; border: none;\">\n",
              "                0.0001\n",
              "                \n",
              "                    &plusmn; 0.0007\n",
              "                \n",
              "            </td>\n",
              "            <td style=\"padding: 0 0.5em 0 0.5em; text-align: left; border: none;\">\n",
              "                gps_height_MISSING\n",
              "            </td>\n",
              "        </tr>\n",
              "    \n",
              "        <tr style=\"background-color: hsl(120, 100.00%, 99.90%); border: none;\">\n",
              "            <td style=\"padding: 0 1em 0 0.5em; text-align: right; border: none;\">\n",
              "                0.0001\n",
              "                \n",
              "                    &plusmn; 0.0008\n",
              "                \n",
              "            </td>\n",
              "            <td style=\"padding: 0 0.5em 0 0.5em; text-align: left; border: none;\">\n",
              "                construction_year_MISSING\n",
              "            </td>\n",
              "        </tr>\n",
              "    \n",
              "        <tr style=\"background-color: hsl(0, 100.00%, 99.95%); border: none;\">\n",
              "            <td style=\"padding: 0 1em 0 0.5em; text-align: right; border: none;\">\n",
              "                -0.0000\n",
              "                \n",
              "                    &plusmn; 0.0005\n",
              "                \n",
              "            </td>\n",
              "            <td style=\"padding: 0 0.5em 0 0.5em; text-align: left; border: none;\">\n",
              "                source_type\n",
              "            </td>\n",
              "        </tr>\n",
              "    \n",
              "        <tr style=\"background-color: hsl(0, 100.00%, 99.90%); border: none;\">\n",
              "            <td style=\"padding: 0 1em 0 0.5em; text-align: right; border: none;\">\n",
              "                -0.0001\n",
              "                \n",
              "                    &plusmn; 0.0020\n",
              "                \n",
              "            </td>\n",
              "            <td style=\"padding: 0 0.5em 0 0.5em; text-align: left; border: none;\">\n",
              "                installer\n",
              "            </td>\n",
              "        </tr>\n",
              "    \n",
              "        <tr style=\"background-color: hsl(0, 100.00%, 99.52%); border: none;\">\n",
              "            <td style=\"padding: 0 1em 0 0.5em; text-align: right; border: none;\">\n",
              "                -0.0005\n",
              "                \n",
              "                    &plusmn; 0.0006\n",
              "                \n",
              "            </td>\n",
              "            <td style=\"padding: 0 0.5em 0 0.5em; text-align: left; border: none;\">\n",
              "                management_group\n",
              "            </td>\n",
              "        </tr>\n",
              "    \n",
              "        <tr style=\"background-color: hsl(0, 100.00%, 99.47%); border: none;\">\n",
              "            <td style=\"padding: 0 1em 0 0.5em; text-align: right; border: none;\">\n",
              "                -0.0006\n",
              "                \n",
              "                    &plusmn; 0.0012\n",
              "                \n",
              "            </td>\n",
              "            <td style=\"padding: 0 0.5em 0 0.5em; text-align: left; border: none;\">\n",
              "                quality_group\n",
              "            </td>\n",
              "        </tr>\n",
              "    \n",
              "        <tr style=\"background-color: hsl(0, 100.00%, 98.99%); border: none;\">\n",
              "            <td style=\"padding: 0 1em 0 0.5em; text-align: right; border: none;\">\n",
              "                -0.0014\n",
              "                \n",
              "                    &plusmn; 0.0009\n",
              "                \n",
              "            </td>\n",
              "            <td style=\"padding: 0 0.5em 0 0.5em; text-align: left; border: none;\">\n",
              "                basin\n",
              "            </td>\n",
              "        </tr>\n",
              "    \n",
              "    \n",
              "    </tbody>\n",
              "</table>\n",
              "    \n",
              "\n",
              "    \n",
              "\n",
              "\n",
              "    \n",
              "\n",
              "    \n",
              "\n",
              "    \n",
              "\n",
              "    \n",
              "\n",
              "    \n",
              "\n",
              "    \n",
              "\n",
              "\n",
              "\n"
            ],
            "text/plain": [
              "<IPython.core.display.HTML object>"
            ]
          },
          "metadata": {
            "tags": []
          },
          "execution_count": 31
        }
      ]
    },
    {
      "cell_type": "markdown",
      "metadata": {
        "colab_type": "text",
        "id": "q07yW9k-Yii8"
      },
      "source": [
        "### We can use importances for feature selection\n",
        "\n",
        "For example, we can remove features with zero importance. The model trains faster and the score does not decrease."
      ]
    },
    {
      "cell_type": "code",
      "metadata": {
        "colab_type": "code",
        "id": "tZrPFyEMYii9",
        "outputId": "7eacab26-0c13-488d-e0d3-c839c16f2641",
        "colab": {
          "base_uri": "https://localhost:8080/",
          "height": 34
        }
      },
      "source": [
        "print('Shape before removing features:', X_train.shape)"
      ],
      "execution_count": 0,
      "outputs": [
        {
          "output_type": "stream",
          "text": [
            "Shape before removing features: (47520, 45)\n"
          ],
          "name": "stdout"
        }
      ]
    },
    {
      "cell_type": "code",
      "metadata": {
        "id": "3W-UkBCTeKOJ",
        "colab_type": "code",
        "colab": {}
      },
      "source": [
        "minimum_importance = 0 \n",
        "mask = permuter.feature_importances_ > minimum_importance\n",
        "features = X_train.columns[mask]\n",
        "X_train = X_train[features]"
      ],
      "execution_count": 0,
      "outputs": []
    },
    {
      "cell_type": "code",
      "metadata": {
        "id": "VpWxZVPUeLrk",
        "colab_type": "code",
        "outputId": "7f8a6d22-fda9-4fd6-db0d-69f048af2e89",
        "colab": {
          "base_uri": "https://localhost:8080/",
          "height": 34
        }
      },
      "source": [
        "print('Shape after removing features:', X_train.shape)"
      ],
      "execution_count": 0,
      "outputs": [
        {
          "output_type": "stream",
          "text": [
            "Shape after removing features: (47520, 40)\n"
          ],
          "name": "stdout"
        }
      ]
    },
    {
      "cell_type": "code",
      "metadata": {
        "id": "fDhJDw57eONF",
        "colab_type": "code",
        "outputId": "32fa2bc1-6322-498a-cdaf-16dd94975e75",
        "colab": {
          "base_uri": "https://localhost:8080/",
          "height": 34
        }
      },
      "source": [
        "X_val = X_val[features]\n",
        "\n",
        "pipeline = make_pipeline(\n",
        "    ce.OrdinalEncoder(),\n",
        "    SimpleImputer(strategy='median'),\n",
        "    RandomForestClassifier(n_estimators=100, random_state=42, n_jobs=-1)\n",
        ")\n",
        "\n",
        "# Fit on train, score on val\n",
        "pipeline.fit(X_train, y_train)\n",
        "print('Validation Accuracy:', pipeline.score(X_val, y_val))"
      ],
      "execution_count": 0,
      "outputs": [
        {
          "output_type": "stream",
          "text": [
            "Validation Accuracy: 0.8117003367003367\n"
          ],
          "name": "stdout"
        }
      ]
    },
    {
      "cell_type": "markdown",
      "metadata": {
        "colab_type": "text",
        "id": "fl67bCR7WY6j"
      },
      "source": [
        "## Use xgboost for gradient boosting\n",
        "\n",
        "#### [XGBoost Python API Reference: Scikit-Learn API](https://xgboost.readthedocs.io/en/latest/python/python_api.html#module-xgboost.sklearn)"
      ]
    },
    {
      "cell_type": "code",
      "metadata": {
        "colab_type": "code",
        "id": "wsnJRKjfWYph",
        "outputId": "32dcfcfc-c8ef-4e96-ab7c-2bb22c4448cc",
        "colab": {
          "base_uri": "https://localhost:8080/",
          "height": 34
        }
      },
      "source": [
        "from xgboost import XGBClassifier\n",
        "\n",
        "pipeline = make_pipeline(\n",
        "    ce.OrdinalEncoder(),\n",
        "    XGBClassifier(n_estimators=100, random_state=42, n_jobs=-1)\n",
        ")\n",
        "\n",
        "# Fit on train, score on val\n",
        "pipeline.fit(X_train, y_train)\n",
        "print('Validation Accuracy:', pipeline.score(X_val, y_val))"
      ],
      "execution_count": 0,
      "outputs": [
        {
          "output_type": "stream",
          "text": [
            "Validation Accuracy: 0.7457070707070707\n"
          ],
          "name": "stdout"
        }
      ]
    },
    {
      "cell_type": "markdown",
      "metadata": {
        "colab_type": "text",
        "id": "Ubb7Ot6OZcK1"
      },
      "source": [
        "### Understand the difference between boosting & bagging\n",
        "\n",
        "Boosting (used by Gradient Boosting) is different than Bagging (used by Random Forests). \n",
        "\n",
        "[_An Introduction to Statistical Learning_](http://www-bcf.usc.edu/~gareth/ISL/ISLR%20Seventh%20Printing.pdf) Chapter 8.2.3, Boosting:\n",
        "\n",
        ">Recall that bagging involves creating multiple copies of the original training data set using the bootstrap, fitting a separate decision tree to each copy, and then combining all of the trees in order to create a single predictive model.\n",
        ">\n",
        ">**Boosting works in a similar way, except that the trees are grown _sequentially_: each tree is grown using information from previously grown trees.**\n",
        ">\n",
        ">Unlike fitting a single large decision tree to the data, which amounts to _fitting the data hard_ and potentially overfitting, the boosting approach instead _learns slowly._ Given the current model, we fit a decision tree to the residuals from the model.\n",
        ">\n",
        ">We then add this new decision tree into the fitted function in order to update the residuals. Each of these trees can be rather small, with just a few terminal nodes. **By fitting small trees to the residuals, we slowly improve fˆ in areas where it does not perform well.**\n",
        ">\n",
        ">Note that in boosting, unlike in bagging, the construction of each tree depends strongly on the trees that have already been grown."
      ]
    },
    {
      "cell_type": "markdown",
      "metadata": {
        "colab_type": "text",
        "id": "eCjVSlD_XJr2"
      },
      "source": [
        "#### [Avoid Overfitting By Early Stopping With XGBoost In Python](https://machinelearningmastery.com/avoid-overfitting-by-early-stopping-with-xgboost-in-python/)\n",
        "\n",
        "Why is early stopping better than a For loop, or GridSearchCV, to optimize `n_estimators`?\n",
        "\n",
        "With early stopping, if `n_iterations` is our number of iterations, then we fit `n_iterations` decision trees.\n",
        "\n",
        "With a for loop, or GridSearchCV, we'd fit `sum(range(1,n_rounds+1))` trees.\n",
        "\n",
        "But it doesn't work well with pipelines. You may need to re-run multiple times with different values of other parameters such as `max_depth` and `learning_rate`.\n",
        "\n",
        "#### XGBoost parameters\n",
        "- [Notes on parameter tuning](https://xgboost.readthedocs.io/en/latest/tutorials/param_tuning.html)\n",
        "- [Parameters documentation](https://xgboost.readthedocs.io/en/latest/parameter.html)\n"
      ]
    },
    {
      "cell_type": "code",
      "metadata": {
        "colab_type": "code",
        "id": "ZNX3IKftXBFS",
        "outputId": "c0982940-8589-4569-85f3-c2a7d328050b",
        "colab": {
          "base_uri": "https://localhost:8080/",
          "height": 1000
        }
      },
      "source": [
        "encoder = ce.OrdinalEncoder()\n",
        "X_train_encoded = encoder.fit_transform(X_train)\n",
        "X_val_encoded = encoder.transform(X_val)\n",
        "\n",
        "model = XGBClassifier(n_estimators=1000,    # <= 1000 trees, early stopping depency\n",
        "                      max_depth=7,          # try deeper trees with high cardinality data\n",
        "                      learning_rate=0.1,    # try higher learning rate\n",
        "                      random_state=42,\n",
        "                      n_jobs=-1)\n",
        "\n",
        "eval_set = [(X_train_encoded, y_train),\n",
        "            (X_val_encoded, y_val)]\n",
        "\n",
        "# Fit on train, score on val\n",
        "model.fit(X_train_encoded, y_train,\n",
        "          eval_metric='merror',\n",
        "          eval_set=eval_set, \n",
        "          early_stopping_rounds=25)"
      ],
      "execution_count": 0,
      "outputs": [
        {
          "output_type": "stream",
          "text": [
            "[0]\tvalidation_0-merror:0.250884\tvalidation_1-merror:0.261953\n",
            "Multiple eval metrics have been passed: 'validation_1-merror' will be used for early stopping.\n",
            "\n",
            "Will train until validation_1-merror hasn't improved in 25 rounds.\n",
            "[1]\tvalidation_0-merror:0.252294\tvalidation_1-merror:0.264057\n",
            "[2]\tvalidation_0-merror:0.251747\tvalidation_1-merror:0.264731\n",
            "[3]\tvalidation_0-merror:0.249895\tvalidation_1-merror:0.262037\n",
            "[4]\tvalidation_0-merror:0.248864\tvalidation_1-merror:0.26069\n",
            "[5]\tvalidation_0-merror:0.24678\tvalidation_1-merror:0.257239\n",
            "[6]\tvalidation_0-merror:0.243687\tvalidation_1-merror:0.255051\n",
            "[7]\tvalidation_0-merror:0.240404\tvalidation_1-merror:0.250421\n",
            "[8]\tvalidation_0-merror:0.2379\tvalidation_1-merror:0.248316\n",
            "[9]\tvalidation_0-merror:0.235816\tvalidation_1-merror:0.247054\n",
            "[10]\tvalidation_0-merror:0.234975\tvalidation_1-merror:0.24596\n",
            "[11]\tvalidation_0-merror:0.23388\tvalidation_1-merror:0.245118\n",
            "[12]\tvalidation_0-merror:0.233228\tvalidation_1-merror:0.245286\n",
            "[13]\tvalidation_0-merror:0.231776\tvalidation_1-merror:0.244529\n",
            "[14]\tvalidation_0-merror:0.232008\tvalidation_1-merror:0.244529\n",
            "[15]\tvalidation_0-merror:0.230535\tvalidation_1-merror:0.243855\n",
            "[16]\tvalidation_0-merror:0.229104\tvalidation_1-merror:0.241835\n",
            "[17]\tvalidation_0-merror:0.228325\tvalidation_1-merror:0.241919\n",
            "[18]\tvalidation_0-merror:0.227125\tvalidation_1-merror:0.239899\n",
            "[19]\tvalidation_0-merror:0.226515\tvalidation_1-merror:0.238973\n",
            "[20]\tvalidation_0-merror:0.225526\tvalidation_1-merror:0.238973\n",
            "[21]\tvalidation_0-merror:0.224495\tvalidation_1-merror:0.237626\n",
            "[22]\tvalidation_0-merror:0.22298\tvalidation_1-merror:0.23569\n",
            "[23]\tvalidation_0-merror:0.221843\tvalidation_1-merror:0.235522\n",
            "[24]\tvalidation_0-merror:0.221044\tvalidation_1-merror:0.235774\n",
            "[25]\tvalidation_0-merror:0.220244\tvalidation_1-merror:0.235269\n",
            "[26]\tvalidation_0-merror:0.218939\tvalidation_1-merror:0.234428\n",
            "[27]\tvalidation_0-merror:0.217151\tvalidation_1-merror:0.232492\n",
            "[28]\tvalidation_0-merror:0.215109\tvalidation_1-merror:0.230892\n",
            "[29]\tvalidation_0-merror:0.213636\tvalidation_1-merror:0.229882\n",
            "[30]\tvalidation_0-merror:0.212563\tvalidation_1-merror:0.228283\n",
            "[31]\tvalidation_0-merror:0.211132\tvalidation_1-merror:0.227357\n",
            "[32]\tvalidation_0-merror:0.209996\tvalidation_1-merror:0.227104\n",
            "[33]\tvalidation_0-merror:0.209049\tvalidation_1-merror:0.226683\n",
            "[34]\tvalidation_0-merror:0.207765\tvalidation_1-merror:0.226515\n",
            "[35]\tvalidation_0-merror:0.206734\tvalidation_1-merror:0.226347\n",
            "[36]\tvalidation_0-merror:0.205724\tvalidation_1-merror:0.225589\n",
            "[37]\tvalidation_0-merror:0.204882\tvalidation_1-merror:0.225168\n",
            "[38]\tvalidation_0-merror:0.203998\tvalidation_1-merror:0.224158\n",
            "[39]\tvalidation_0-merror:0.20221\tvalidation_1-merror:0.222475\n",
            "[40]\tvalidation_0-merror:0.200968\tvalidation_1-merror:0.221633\n",
            "[41]\tvalidation_0-merror:0.199474\tvalidation_1-merror:0.220539\n",
            "[42]\tvalidation_0-merror:0.198695\tvalidation_1-merror:0.220707\n",
            "[43]\tvalidation_0-merror:0.197769\tvalidation_1-merror:0.220286\n",
            "[44]\tvalidation_0-merror:0.196275\tvalidation_1-merror:0.219613\n",
            "[45]\tvalidation_0-merror:0.195707\tvalidation_1-merror:0.219108\n",
            "[46]\tvalidation_0-merror:0.194739\tvalidation_1-merror:0.218266\n",
            "[47]\tvalidation_0-merror:0.194192\tvalidation_1-merror:0.217172\n",
            "[48]\tvalidation_0-merror:0.193287\tvalidation_1-merror:0.217172\n",
            "[49]\tvalidation_0-merror:0.192466\tvalidation_1-merror:0.216667\n",
            "[50]\tvalidation_0-merror:0.19194\tvalidation_1-merror:0.216835\n",
            "[51]\tvalidation_0-merror:0.191225\tvalidation_1-merror:0.216077\n",
            "[52]\tvalidation_0-merror:0.190278\tvalidation_1-merror:0.215152\n",
            "[53]\tvalidation_0-merror:0.18971\tvalidation_1-merror:0.21431\n",
            "[54]\tvalidation_0-merror:0.189205\tvalidation_1-merror:0.214478\n",
            "[55]\tvalidation_0-merror:0.188279\tvalidation_1-merror:0.212879\n",
            "[56]\tvalidation_0-merror:0.187184\tvalidation_1-merror:0.212795\n",
            "[57]\tvalidation_0-merror:0.186385\tvalidation_1-merror:0.211953\n",
            "[58]\tvalidation_0-merror:0.185501\tvalidation_1-merror:0.211448\n",
            "[59]\tvalidation_0-merror:0.18487\tvalidation_1-merror:0.211448\n",
            "[60]\tvalidation_0-merror:0.184364\tvalidation_1-merror:0.211364\n",
            "[61]\tvalidation_0-merror:0.183586\tvalidation_1-merror:0.210859\n",
            "[62]\tvalidation_0-merror:0.183123\tvalidation_1-merror:0.21069\n",
            "[63]\tvalidation_0-merror:0.182302\tvalidation_1-merror:0.210354\n",
            "[64]\tvalidation_0-merror:0.182029\tvalidation_1-merror:0.210522\n",
            "[65]\tvalidation_0-merror:0.181839\tvalidation_1-merror:0.209512\n",
            "[66]\tvalidation_0-merror:0.181145\tvalidation_1-merror:0.209259\n",
            "[67]\tvalidation_0-merror:0.180745\tvalidation_1-merror:0.209259\n",
            "[68]\tvalidation_0-merror:0.180156\tvalidation_1-merror:0.208923\n",
            "[69]\tvalidation_0-merror:0.179735\tvalidation_1-merror:0.208923\n",
            "[70]\tvalidation_0-merror:0.179398\tvalidation_1-merror:0.208754\n",
            "[71]\tvalidation_0-merror:0.178767\tvalidation_1-merror:0.208923\n",
            "[72]\tvalidation_0-merror:0.17822\tvalidation_1-merror:0.208923\n",
            "[73]\tvalidation_0-merror:0.177946\tvalidation_1-merror:0.209091\n",
            "[74]\tvalidation_0-merror:0.176684\tvalidation_1-merror:0.208502\n",
            "[75]\tvalidation_0-merror:0.176157\tvalidation_1-merror:0.207997\n",
            "[76]\tvalidation_0-merror:0.175231\tvalidation_1-merror:0.207576\n",
            "[77]\tvalidation_0-merror:0.174958\tvalidation_1-merror:0.208165\n",
            "[78]\tvalidation_0-merror:0.174579\tvalidation_1-merror:0.206313\n",
            "[79]\tvalidation_0-merror:0.17399\tvalidation_1-merror:0.206145\n",
            "[80]\tvalidation_0-merror:0.173695\tvalidation_1-merror:0.205556\n",
            "[81]\tvalidation_0-merror:0.17338\tvalidation_1-merror:0.205135\n",
            "[82]\tvalidation_0-merror:0.173211\tvalidation_1-merror:0.205219\n",
            "[83]\tvalidation_0-merror:0.172727\tvalidation_1-merror:0.204798\n",
            "[84]\tvalidation_0-merror:0.172306\tvalidation_1-merror:0.204798\n",
            "[85]\tvalidation_0-merror:0.171928\tvalidation_1-merror:0.204714\n",
            "[86]\tvalidation_0-merror:0.171907\tvalidation_1-merror:0.204545\n",
            "[87]\tvalidation_0-merror:0.17138\tvalidation_1-merror:0.204209\n",
            "[88]\tvalidation_0-merror:0.170581\tvalidation_1-merror:0.204545\n",
            "[89]\tvalidation_0-merror:0.17037\tvalidation_1-merror:0.204293\n",
            "[90]\tvalidation_0-merror:0.169634\tvalidation_1-merror:0.204461\n",
            "[91]\tvalidation_0-merror:0.169423\tvalidation_1-merror:0.204545\n",
            "[92]\tvalidation_0-merror:0.169213\tvalidation_1-merror:0.204377\n",
            "[93]\tvalidation_0-merror:0.168624\tvalidation_1-merror:0.204545\n",
            "[94]\tvalidation_0-merror:0.168119\tvalidation_1-merror:0.204377\n",
            "[95]\tvalidation_0-merror:0.167908\tvalidation_1-merror:0.204377\n",
            "[96]\tvalidation_0-merror:0.167551\tvalidation_1-merror:0.204545\n",
            "[97]\tvalidation_0-merror:0.167424\tvalidation_1-merror:0.204461\n",
            "[98]\tvalidation_0-merror:0.167109\tvalidation_1-merror:0.204377\n",
            "[99]\tvalidation_0-merror:0.166561\tvalidation_1-merror:0.204293\n",
            "[100]\tvalidation_0-merror:0.166246\tvalidation_1-merror:0.203788\n",
            "[101]\tvalidation_0-merror:0.166077\tvalidation_1-merror:0.203367\n",
            "[102]\tvalidation_0-merror:0.16553\tvalidation_1-merror:0.203704\n",
            "[103]\tvalidation_0-merror:0.165236\tvalidation_1-merror:0.20362\n",
            "[104]\tvalidation_0-merror:0.164857\tvalidation_1-merror:0.20362\n",
            "[105]\tvalidation_0-merror:0.164583\tvalidation_1-merror:0.203704\n",
            "[106]\tvalidation_0-merror:0.164394\tvalidation_1-merror:0.203114\n",
            "[107]\tvalidation_0-merror:0.164141\tvalidation_1-merror:0.203199\n",
            "[108]\tvalidation_0-merror:0.163784\tvalidation_1-merror:0.203451\n",
            "[109]\tvalidation_0-merror:0.163237\tvalidation_1-merror:0.203367\n",
            "[110]\tvalidation_0-merror:0.163047\tvalidation_1-merror:0.203283\n",
            "[111]\tvalidation_0-merror:0.162584\tvalidation_1-merror:0.202778\n",
            "[112]\tvalidation_0-merror:0.162353\tvalidation_1-merror:0.202694\n",
            "[113]\tvalidation_0-merror:0.162163\tvalidation_1-merror:0.203114\n",
            "[114]\tvalidation_0-merror:0.161848\tvalidation_1-merror:0.202778\n",
            "[115]\tvalidation_0-merror:0.161616\tvalidation_1-merror:0.202609\n",
            "[116]\tvalidation_0-merror:0.161258\tvalidation_1-merror:0.202525\n",
            "[117]\tvalidation_0-merror:0.161027\tvalidation_1-merror:0.20303\n",
            "[118]\tvalidation_0-merror:0.160354\tvalidation_1-merror:0.203283\n",
            "[119]\tvalidation_0-merror:0.159891\tvalidation_1-merror:0.202946\n",
            "[120]\tvalidation_0-merror:0.159638\tvalidation_1-merror:0.202946\n",
            "[121]\tvalidation_0-merror:0.159322\tvalidation_1-merror:0.202778\n",
            "[122]\tvalidation_0-merror:0.159049\tvalidation_1-merror:0.202946\n",
            "[123]\tvalidation_0-merror:0.158228\tvalidation_1-merror:0.20202\n",
            "[124]\tvalidation_0-merror:0.158228\tvalidation_1-merror:0.201852\n",
            "[125]\tvalidation_0-merror:0.157639\tvalidation_1-merror:0.20202\n",
            "[126]\tvalidation_0-merror:0.157302\tvalidation_1-merror:0.20202\n",
            "[127]\tvalidation_0-merror:0.156692\tvalidation_1-merror:0.201431\n",
            "[128]\tvalidation_0-merror:0.156629\tvalidation_1-merror:0.201178\n",
            "[129]\tvalidation_0-merror:0.156313\tvalidation_1-merror:0.201347\n",
            "[130]\tvalidation_0-merror:0.156124\tvalidation_1-merror:0.200926\n",
            "[131]\tvalidation_0-merror:0.155997\tvalidation_1-merror:0.201263\n",
            "[132]\tvalidation_0-merror:0.155829\tvalidation_1-merror:0.201094\n",
            "[133]\tvalidation_0-merror:0.155513\tvalidation_1-merror:0.200589\n",
            "[134]\tvalidation_0-merror:0.154651\tvalidation_1-merror:0.200673\n",
            "[135]\tvalidation_0-merror:0.154461\tvalidation_1-merror:0.200673\n",
            "[136]\tvalidation_0-merror:0.154209\tvalidation_1-merror:0.200589\n",
            "[137]\tvalidation_0-merror:0.153746\tvalidation_1-merror:0.200337\n",
            "[138]\tvalidation_0-merror:0.153367\tvalidation_1-merror:0.2\n",
            "[139]\tvalidation_0-merror:0.152883\tvalidation_1-merror:0.199832\n",
            "[140]\tvalidation_0-merror:0.152462\tvalidation_1-merror:0.2\n",
            "[141]\tvalidation_0-merror:0.152189\tvalidation_1-merror:0.200168\n",
            "[142]\tvalidation_0-merror:0.151915\tvalidation_1-merror:0.200337\n",
            "[143]\tvalidation_0-merror:0.15162\tvalidation_1-merror:0.200168\n",
            "[144]\tvalidation_0-merror:0.151494\tvalidation_1-merror:0.199916\n",
            "[145]\tvalidation_0-merror:0.151115\tvalidation_1-merror:0.2\n",
            "[146]\tvalidation_0-merror:0.150758\tvalidation_1-merror:0.199663\n",
            "[147]\tvalidation_0-merror:0.15061\tvalidation_1-merror:0.199411\n",
            "[148]\tvalidation_0-merror:0.149874\tvalidation_1-merror:0.199579\n",
            "[149]\tvalidation_0-merror:0.149369\tvalidation_1-merror:0.199327\n",
            "[150]\tvalidation_0-merror:0.149158\tvalidation_1-merror:0.199158\n",
            "[151]\tvalidation_0-merror:0.148843\tvalidation_1-merror:0.199663\n",
            "[152]\tvalidation_0-merror:0.148506\tvalidation_1-merror:0.199832\n",
            "[153]\tvalidation_0-merror:0.14838\tvalidation_1-merror:0.2\n",
            "[154]\tvalidation_0-merror:0.148001\tvalidation_1-merror:0.199242\n",
            "[155]\tvalidation_0-merror:0.14779\tvalidation_1-merror:0.199327\n",
            "[156]\tvalidation_0-merror:0.147517\tvalidation_1-merror:0.199579\n",
            "[157]\tvalidation_0-merror:0.147559\tvalidation_1-merror:0.199747\n",
            "[158]\tvalidation_0-merror:0.147054\tvalidation_1-merror:0.199663\n",
            "[159]\tvalidation_0-merror:0.146949\tvalidation_1-merror:0.199832\n",
            "[160]\tvalidation_0-merror:0.146591\tvalidation_1-merror:0.199411\n",
            "[161]\tvalidation_0-merror:0.146444\tvalidation_1-merror:0.199579\n",
            "[162]\tvalidation_0-merror:0.146233\tvalidation_1-merror:0.199411\n",
            "[163]\tvalidation_0-merror:0.146065\tvalidation_1-merror:0.198906\n",
            "[164]\tvalidation_0-merror:0.145644\tvalidation_1-merror:0.198569\n",
            "[165]\tvalidation_0-merror:0.145118\tvalidation_1-merror:0.198148\n",
            "[166]\tvalidation_0-merror:0.144592\tvalidation_1-merror:0.198401\n",
            "[167]\tvalidation_0-merror:0.144129\tvalidation_1-merror:0.198316\n",
            "[168]\tvalidation_0-merror:0.143813\tvalidation_1-merror:0.198232\n",
            "[169]\tvalidation_0-merror:0.14354\tvalidation_1-merror:0.197896\n",
            "[170]\tvalidation_0-merror:0.143119\tvalidation_1-merror:0.197727\n",
            "[171]\tvalidation_0-merror:0.142761\tvalidation_1-merror:0.19798\n",
            "[172]\tvalidation_0-merror:0.142635\tvalidation_1-merror:0.198232\n",
            "[173]\tvalidation_0-merror:0.142277\tvalidation_1-merror:0.198401\n",
            "[174]\tvalidation_0-merror:0.142045\tvalidation_1-merror:0.198148\n",
            "[175]\tvalidation_0-merror:0.141582\tvalidation_1-merror:0.198148\n",
            "[176]\tvalidation_0-merror:0.141246\tvalidation_1-merror:0.198064\n",
            "[177]\tvalidation_0-merror:0.140783\tvalidation_1-merror:0.198401\n",
            "[178]\tvalidation_0-merror:0.14053\tvalidation_1-merror:0.198148\n",
            "[179]\tvalidation_0-merror:0.140109\tvalidation_1-merror:0.198064\n",
            "[180]\tvalidation_0-merror:0.139752\tvalidation_1-merror:0.198064\n",
            "[181]\tvalidation_0-merror:0.139773\tvalidation_1-merror:0.197811\n",
            "[182]\tvalidation_0-merror:0.139436\tvalidation_1-merror:0.197559\n",
            "[183]\tvalidation_0-merror:0.139247\tvalidation_1-merror:0.197475\n",
            "[184]\tvalidation_0-merror:0.138889\tvalidation_1-merror:0.197306\n",
            "[185]\tvalidation_0-merror:0.138636\tvalidation_1-merror:0.197222\n",
            "[186]\tvalidation_0-merror:0.138173\tvalidation_1-merror:0.196886\n",
            "[187]\tvalidation_0-merror:0.137921\tvalidation_1-merror:0.196886\n",
            "[188]\tvalidation_0-merror:0.137858\tvalidation_1-merror:0.19697\n",
            "[189]\tvalidation_0-merror:0.137521\tvalidation_1-merror:0.197054\n",
            "[190]\tvalidation_0-merror:0.137395\tvalidation_1-merror:0.19697\n",
            "[191]\tvalidation_0-merror:0.137205\tvalidation_1-merror:0.197138\n",
            "[192]\tvalidation_0-merror:0.136953\tvalidation_1-merror:0.197054\n",
            "[193]\tvalidation_0-merror:0.136532\tvalidation_1-merror:0.19697\n",
            "[194]\tvalidation_0-merror:0.136574\tvalidation_1-merror:0.197138\n",
            "[195]\tvalidation_0-merror:0.136322\tvalidation_1-merror:0.197138\n",
            "[196]\tvalidation_0-merror:0.136153\tvalidation_1-merror:0.19697\n",
            "[197]\tvalidation_0-merror:0.135795\tvalidation_1-merror:0.196717\n",
            "[198]\tvalidation_0-merror:0.135396\tvalidation_1-merror:0.196465\n",
            "[199]\tvalidation_0-merror:0.13529\tvalidation_1-merror:0.196801\n",
            "[200]\tvalidation_0-merror:0.13508\tvalidation_1-merror:0.196801\n",
            "[201]\tvalidation_0-merror:0.13487\tvalidation_1-merror:0.195875\n",
            "[202]\tvalidation_0-merror:0.134301\tvalidation_1-merror:0.195623\n",
            "[203]\tvalidation_0-merror:0.134133\tvalidation_1-merror:0.195791\n",
            "[204]\tvalidation_0-merror:0.133965\tvalidation_1-merror:0.195875\n",
            "[205]\tvalidation_0-merror:0.133691\tvalidation_1-merror:0.19596\n",
            "[206]\tvalidation_0-merror:0.133333\tvalidation_1-merror:0.195875\n",
            "[207]\tvalidation_0-merror:0.132849\tvalidation_1-merror:0.196296\n",
            "[208]\tvalidation_0-merror:0.132723\tvalidation_1-merror:0.196128\n",
            "[209]\tvalidation_0-merror:0.132555\tvalidation_1-merror:0.195875\n",
            "[210]\tvalidation_0-merror:0.132323\tvalidation_1-merror:0.195875\n",
            "[211]\tvalidation_0-merror:0.132176\tvalidation_1-merror:0.195875\n",
            "[212]\tvalidation_0-merror:0.13205\tvalidation_1-merror:0.195791\n",
            "[213]\tvalidation_0-merror:0.131797\tvalidation_1-merror:0.19596\n",
            "[214]\tvalidation_0-merror:0.131503\tvalidation_1-merror:0.196212\n",
            "[215]\tvalidation_0-merror:0.131418\tvalidation_1-merror:0.19596\n",
            "[216]\tvalidation_0-merror:0.131082\tvalidation_1-merror:0.195707\n",
            "[217]\tvalidation_0-merror:0.130598\tvalidation_1-merror:0.195455\n",
            "[218]\tvalidation_0-merror:0.130282\tvalidation_1-merror:0.19537\n",
            "[219]\tvalidation_0-merror:0.130261\tvalidation_1-merror:0.195455\n",
            "[220]\tvalidation_0-merror:0.129798\tvalidation_1-merror:0.196128\n",
            "[221]\tvalidation_0-merror:0.129672\tvalidation_1-merror:0.196296\n",
            "[222]\tvalidation_0-merror:0.129545\tvalidation_1-merror:0.196128\n",
            "[223]\tvalidation_0-merror:0.129188\tvalidation_1-merror:0.196212\n",
            "[224]\tvalidation_0-merror:0.128809\tvalidation_1-merror:0.19596\n",
            "[225]\tvalidation_0-merror:0.128598\tvalidation_1-merror:0.195623\n",
            "[226]\tvalidation_0-merror:0.128598\tvalidation_1-merror:0.19596\n",
            "[227]\tvalidation_0-merror:0.128346\tvalidation_1-merror:0.195539\n",
            "[228]\tvalidation_0-merror:0.12782\tvalidation_1-merror:0.195539\n",
            "[229]\tvalidation_0-merror:0.12742\tvalidation_1-merror:0.195286\n",
            "[230]\tvalidation_0-merror:0.127273\tvalidation_1-merror:0.195286\n",
            "[231]\tvalidation_0-merror:0.127104\tvalidation_1-merror:0.194865\n",
            "[232]\tvalidation_0-merror:0.126747\tvalidation_1-merror:0.195118\n",
            "[233]\tvalidation_0-merror:0.126515\tvalidation_1-merror:0.194949\n",
            "[234]\tvalidation_0-merror:0.125884\tvalidation_1-merror:0.195202\n",
            "[235]\tvalidation_0-merror:0.125274\tvalidation_1-merror:0.195455\n",
            "[236]\tvalidation_0-merror:0.125253\tvalidation_1-merror:0.195539\n",
            "[237]\tvalidation_0-merror:0.124979\tvalidation_1-merror:0.195118\n",
            "[238]\tvalidation_0-merror:0.1246\tvalidation_1-merror:0.195202\n",
            "[239]\tvalidation_0-merror:0.124474\tvalidation_1-merror:0.19537\n",
            "[240]\tvalidation_0-merror:0.124116\tvalidation_1-merror:0.195118\n",
            "[241]\tvalidation_0-merror:0.123927\tvalidation_1-merror:0.195202\n",
            "[242]\tvalidation_0-merror:0.123569\tvalidation_1-merror:0.195455\n",
            "[243]\tvalidation_0-merror:0.123274\tvalidation_1-merror:0.195286\n",
            "[244]\tvalidation_0-merror:0.123106\tvalidation_1-merror:0.195118\n",
            "[245]\tvalidation_0-merror:0.122875\tvalidation_1-merror:0.195286\n",
            "[246]\tvalidation_0-merror:0.122559\tvalidation_1-merror:0.195202\n",
            "[247]\tvalidation_0-merror:0.122201\tvalidation_1-merror:0.195455\n",
            "[248]\tvalidation_0-merror:0.121949\tvalidation_1-merror:0.195539\n",
            "[249]\tvalidation_0-merror:0.121886\tvalidation_1-merror:0.195455\n",
            "[250]\tvalidation_0-merror:0.121549\tvalidation_1-merror:0.195539\n",
            "[251]\tvalidation_0-merror:0.121149\tvalidation_1-merror:0.194865\n",
            "[252]\tvalidation_0-merror:0.121002\tvalidation_1-merror:0.194697\n",
            "[253]\tvalidation_0-merror:0.120749\tvalidation_1-merror:0.194781\n",
            "[254]\tvalidation_0-merror:0.120518\tvalidation_1-merror:0.194697\n",
            "[255]\tvalidation_0-merror:0.120118\tvalidation_1-merror:0.194865\n",
            "[256]\tvalidation_0-merror:0.119844\tvalidation_1-merror:0.194781\n",
            "[257]\tvalidation_0-merror:0.119802\tvalidation_1-merror:0.194865\n",
            "[258]\tvalidation_0-merror:0.119423\tvalidation_1-merror:0.194781\n",
            "[259]\tvalidation_0-merror:0.119297\tvalidation_1-merror:0.194865\n",
            "[260]\tvalidation_0-merror:0.119108\tvalidation_1-merror:0.195202\n",
            "[261]\tvalidation_0-merror:0.118708\tvalidation_1-merror:0.194949\n",
            "[262]\tvalidation_0-merror:0.118519\tvalidation_1-merror:0.194276\n",
            "[263]\tvalidation_0-merror:0.118434\tvalidation_1-merror:0.194529\n",
            "[264]\tvalidation_0-merror:0.117971\tvalidation_1-merror:0.194192\n",
            "[265]\tvalidation_0-merror:0.117551\tvalidation_1-merror:0.194529\n",
            "[266]\tvalidation_0-merror:0.117424\tvalidation_1-merror:0.194697\n",
            "[267]\tvalidation_0-merror:0.117151\tvalidation_1-merror:0.194865\n",
            "[268]\tvalidation_0-merror:0.116793\tvalidation_1-merror:0.194529\n",
            "[269]\tvalidation_0-merror:0.116625\tvalidation_1-merror:0.194276\n",
            "[270]\tvalidation_0-merror:0.116309\tvalidation_1-merror:0.194276\n",
            "[271]\tvalidation_0-merror:0.11612\tvalidation_1-merror:0.19436\n",
            "[272]\tvalidation_0-merror:0.115825\tvalidation_1-merror:0.193855\n",
            "[273]\tvalidation_0-merror:0.115741\tvalidation_1-merror:0.193855\n",
            "[274]\tvalidation_0-merror:0.115067\tvalidation_1-merror:0.193939\n",
            "[275]\tvalidation_0-merror:0.114625\tvalidation_1-merror:0.193771\n",
            "[276]\tvalidation_0-merror:0.114457\tvalidation_1-merror:0.194108\n",
            "[277]\tvalidation_0-merror:0.114226\tvalidation_1-merror:0.194276\n",
            "[278]\tvalidation_0-merror:0.113973\tvalidation_1-merror:0.194024\n",
            "[279]\tvalidation_0-merror:0.113763\tvalidation_1-merror:0.193434\n",
            "[280]\tvalidation_0-merror:0.11351\tvalidation_1-merror:0.193687\n",
            "[281]\tvalidation_0-merror:0.113363\tvalidation_1-merror:0.193687\n",
            "[282]\tvalidation_0-merror:0.113152\tvalidation_1-merror:0.193855\n",
            "[283]\tvalidation_0-merror:0.112837\tvalidation_1-merror:0.194276\n",
            "[284]\tvalidation_0-merror:0.112374\tvalidation_1-merror:0.194276\n",
            "[285]\tvalidation_0-merror:0.112247\tvalidation_1-merror:0.19436\n",
            "[286]\tvalidation_0-merror:0.112079\tvalidation_1-merror:0.194192\n",
            "[287]\tvalidation_0-merror:0.111679\tvalidation_1-merror:0.194024\n",
            "[288]\tvalidation_0-merror:0.111448\tvalidation_1-merror:0.194276\n",
            "[289]\tvalidation_0-merror:0.111364\tvalidation_1-merror:0.193434\n",
            "[290]\tvalidation_0-merror:0.111069\tvalidation_1-merror:0.19335\n",
            "[291]\tvalidation_0-merror:0.111069\tvalidation_1-merror:0.192929\n",
            "[292]\tvalidation_0-merror:0.110817\tvalidation_1-merror:0.193098\n",
            "[293]\tvalidation_0-merror:0.110543\tvalidation_1-merror:0.193013\n",
            "[294]\tvalidation_0-merror:0.11048\tvalidation_1-merror:0.193182\n",
            "[295]\tvalidation_0-merror:0.110438\tvalidation_1-merror:0.193434\n",
            "[296]\tvalidation_0-merror:0.110143\tvalidation_1-merror:0.193182\n",
            "[297]\tvalidation_0-merror:0.109743\tvalidation_1-merror:0.193182\n",
            "[298]\tvalidation_0-merror:0.109449\tvalidation_1-merror:0.193266\n",
            "[299]\tvalidation_0-merror:0.108986\tvalidation_1-merror:0.193013\n",
            "[300]\tvalidation_0-merror:0.108586\tvalidation_1-merror:0.193098\n",
            "[301]\tvalidation_0-merror:0.108333\tvalidation_1-merror:0.193098\n",
            "[302]\tvalidation_0-merror:0.10806\tvalidation_1-merror:0.193098\n",
            "[303]\tvalidation_0-merror:0.107807\tvalidation_1-merror:0.193182\n",
            "[304]\tvalidation_0-merror:0.107723\tvalidation_1-merror:0.193519\n",
            "[305]\tvalidation_0-merror:0.107449\tvalidation_1-merror:0.193434\n",
            "[306]\tvalidation_0-merror:0.107134\tvalidation_1-merror:0.193266\n",
            "[307]\tvalidation_0-merror:0.106923\tvalidation_1-merror:0.193434\n",
            "[308]\tvalidation_0-merror:0.106566\tvalidation_1-merror:0.193266\n",
            "[309]\tvalidation_0-merror:0.106334\tvalidation_1-merror:0.193434\n",
            "[310]\tvalidation_0-merror:0.106166\tvalidation_1-merror:0.193603\n",
            "[311]\tvalidation_0-merror:0.105892\tvalidation_1-merror:0.193434\n",
            "[312]\tvalidation_0-merror:0.105766\tvalidation_1-merror:0.193519\n",
            "[313]\tvalidation_0-merror:0.105682\tvalidation_1-merror:0.193603\n",
            "[314]\tvalidation_0-merror:0.105556\tvalidation_1-merror:0.193434\n",
            "[315]\tvalidation_0-merror:0.105324\tvalidation_1-merror:0.193434\n",
            "[316]\tvalidation_0-merror:0.105198\tvalidation_1-merror:0.193687\n",
            "Stopping. Best iteration:\n",
            "[291]\tvalidation_0-merror:0.111069\tvalidation_1-merror:0.192929\n",
            "\n"
          ],
          "name": "stdout"
        },
        {
          "output_type": "execute_result",
          "data": {
            "text/plain": [
              "XGBClassifier(base_score=0.5, booster='gbtree', colsample_bylevel=1,\n",
              "              colsample_bynode=1, colsample_bytree=1, gamma=0,\n",
              "              learning_rate=0.1, max_delta_step=0, max_depth=7,\n",
              "              min_child_weight=1, missing=None, n_estimators=1000, n_jobs=-1,\n",
              "              nthread=None, objective='multi:softprob', random_state=42,\n",
              "              reg_alpha=0, reg_lambda=1, scale_pos_weight=1, seed=None,\n",
              "              silent=None, subsample=1, verbosity=1)"
            ]
          },
          "metadata": {
            "tags": []
          },
          "execution_count": 40
        }
      ]
    },
    {
      "cell_type": "code",
      "metadata": {
        "id": "UePpG5EznuX-",
        "colab_type": "code",
        "outputId": "5a0fae49-85f6-467a-e49c-cd2caa24009a",
        "colab": {
          "base_uri": "https://localhost:8080/",
          "height": 459
        }
      },
      "source": [
        "results = model.evals_result()\n",
        "train_error = results['validation_0']['merror']\n",
        "val_error = results['validation_1']['merror']\n",
        "\n",
        "iterations = range(1, len(train_error) + 1)\n",
        "\n",
        "plt.figure(figsize=(10,7))\n",
        "plt.plot(iterations, train_error, label='Train')\n",
        "plt.plot(iterations, val_error, label='Validation')\n",
        "plt.title('XGBoost Validation Curve')\n",
        "plt.ylabel('Classification Error')\n",
        "plt.xlabel('Model Complexity (n_estimators)')\n",
        "plt.legend();"
      ],
      "execution_count": 0,
      "outputs": [
        {
          "output_type": "display_data",
          "data": {
            "image/png": "[encoded data removed]",
            "text/plain": [
              "<Figure size 720x504 with 1 Axes>"
            ]
          },
          "metadata": {
            "tags": []
          }
        }
      ]
    },
    {
      "cell_type": "markdown",
      "metadata": {
        "colab_type": "text",
        "id": "ZF7-ml6BhRRf"
      },
      "source": [
        "## Try adjusting these hyperparameters\n",
        "\n",
        "#### Random Forest\n",
        "- class_weight (for imbalanced classes)\n",
        "- max_depth (usually high, can try decreasing)\n",
        "- n_estimators (too low underfits, too high wastes time)\n",
        "- min_samples_leaf (increase if overfitting)\n",
        "- max_features (decrease for more diverse trees)\n",
        "\n",
        "#### Xgboost\n",
        "- scale_pos_weight (for imbalanced classes)\n",
        "- max_depth (usually low, can try increasing)\n",
        "- n_estimators (too low underfits, too high wastes time/overfits) — Use Early Stopping!\n",
        "- learning_rate (too low underfits, too high overfits)\n",
        "\n",
        "For more ideas, see [Notes on Parameter Tuning](https://xgboost.readthedocs.io/en/latest/tutorials/param_tuning.html) and [DART booster](https://xgboost.readthedocs.io/en/latest/tutorials/dart.html)."
      ]
    }
  ]
}