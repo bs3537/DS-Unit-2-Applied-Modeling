{
  "nbformat": 4,
  "nbformat_minor": 0,
  "metadata": {
    "colab": {
      "name": "RFRegresser_n_estimators=100, no scaling_ Bhav_DengueAI_Project.ipynb",
      "provenance": [],
      "collapsed_sections": [],
      "include_colab_link": true
    },
    "kernelspec": {
      "name": "python3",
      "display_name": "Python 3"
    },
    "accelerator": "GPU"
  },
  "cells": [
    {
      "cell_type": "markdown",
      "metadata": {
        "id": "view-in-github",
        "colab_type": "text"
      },
      "source": [
        "<a href=\"https://colab.research.google.com/github/bs3537/DS-Unit-2-Applied-Modeling/blob/master/RFRegresser_n_estimators%3D100%2C_no_scaling__Bhav_DengueAI_Project.ipynb\" target=\"_parent\"><img src=\"https://colab.research.google.com/assets/colab-badge.svg\" alt=\"Open In Colab\"/></a>"
      ]
    },
    {
      "cell_type": "code",
      "metadata": {
        "id": "5Ukh8Map-36v",
        "colab_type": "code",
        "colab": {}
      },
      "source": [
        "import numpy as np\n",
        "import matplotlib.pyplot as plt\n",
        "import pandas as pd"
      ],
      "execution_count": 0,
      "outputs": []
    },
    {
      "cell_type": "code",
      "metadata": {
        "id": "bNfkOBCy_Jou",
        "colab_type": "code",
        "colab": {}
      },
      "source": [
        "#https://www.drivendata.org/competitions/44/dengai-predicting-disease-spread/page/80/"
      ],
      "execution_count": 0,
      "outputs": []
    },
    {
      "cell_type": "code",
      "metadata": {
        "id": "ffADrian_pCI",
        "colab_type": "code",
        "colab": {}
      },
      "source": [
        "#Your goal is to predict the total_cases label for each (city, year, weekofyear) in the test set. "
      ],
      "execution_count": 0,
      "outputs": []
    },
    {
      "cell_type": "code",
      "metadata": {
        "id": "NwxEGb6g_wbd",
        "colab_type": "code",
        "colab": {}
      },
      "source": [
        "#Performance metric = mean absolute error"
      ],
      "execution_count": 0,
      "outputs": []
    },
    {
      "cell_type": "markdown",
      "metadata": {
        "id": "-C1DncwC_72L",
        "colab_type": "text"
      },
      "source": [
        "##LIST OF FEATURES:\n",
        "You are provided the following set of information on a (year, weekofyear) timescale:\n",
        "\n",
        "(Where appropriate, units are provided as a _unit suffix on the feature name.)\n",
        "\n",
        "###City and date indicators\n",
        "1. city – City abbreviations: sj for San Juan and iq for Iquitos\n",
        "2. week_start_date – Date given in yyyy-mm-dd format\n",
        "###NOAA's GHCN daily climate data weather station measurements\n",
        "1. station_max_temp_c – Maximum temperature\n",
        "2. station_min_temp_c – Minimum temperature\n",
        "3. station_avg_temp_c – Average temperature\n",
        "4. station_precip_mm – Total precipitation\n",
        "5. station_diur_temp_rng_c – Diurnal temperature range\n",
        "\n",
        "###PERSIANN satellite precipitation measurements (0.25x0.25 degree scale)\n",
        "\n",
        "6. precipitation_amt_mm – Total precipitation\n",
        "\n",
        "###NOAA's NCEP Climate Forecast System Reanalysis measurements (0.5x0.5 degree scale)\n",
        "\n",
        "7. reanalysis_sat_precip_amt_mm – Total precipitation\n",
        "8. reanalysis_dew_point_temp_k – Mean dew point temperature\n",
        "9. reanalysis_air_temp_k – Mean air temperature\n",
        "10. reanalysis_relative_humidity_percent – Mean relative humidity\n",
        "11. reanalysis_specific_humidity_g_per_kg – Mean specific humidity\n",
        "12. reanalysis_precip_amt_kg_per_m2 – Total precipitation\n",
        "13. reanalysis_max_air_temp_k – Maximum air temperature\n",
        "14. reanalysis_min_air_temp_k – Minimum air temperature\n",
        "15. reanalysis_avg_temp_k – Average air temperature\n",
        "16. reanalysis_tdtr_k – Diurnal temperature range\n",
        "\n",
        "###Satellite vegetation - Normalized difference vegetation index (NDVI) - NOAA's CDR Normalized Difference Vegetation Index (0.5x0.5 degree scale) measurements\n",
        "17. ndvi_se – Pixel southeast of city centroid\n",
        "18. ndvi_sw – Pixel southwest of city centroid\n",
        "19. ndvi_ne – Pixel northeast of city centroid\n",
        "20. ndvi_nw – Pixel northwest of city centroid"
      ]
    },
    {
      "cell_type": "markdown",
      "metadata": {
        "id": "kcOv7N-DB8IY",
        "colab_type": "text"
      },
      "source": [
        "####TARGET VARIABLE = total_cases label for each (city, year, weekofyear)"
      ]
    },
    {
      "cell_type": "code",
      "metadata": {
        "id": "R812MHU9CGnV",
        "colab_type": "code",
        "colab": {}
      },
      "source": [
        "import sys"
      ],
      "execution_count": 0,
      "outputs": []
    },
    {
      "cell_type": "code",
      "metadata": {
        "id": "lbD6Iui1C4nV",
        "colab_type": "code",
        "colab": {}
      },
      "source": [
        "#Load train features and labels datasets\n",
        "train_features = pd.read_csv('https://s3.amazonaws.com/drivendata/data/44/public/dengue_features_train.csv')"
      ],
      "execution_count": 0,
      "outputs": []
    },
    {
      "cell_type": "code",
      "metadata": {
        "id": "s-_yx5mWDiXj",
        "colab_type": "code",
        "outputId": "6fd98e93-11bb-4cfc-843f-fda1edb7baf1",
        "colab": {
          "base_uri": "https://localhost:8080/",
          "height": 215
        }
      },
      "source": [
        "train_features.head()"
      ],
      "execution_count": 0,
      "outputs": [
        {
          "output_type": "execute_result",
          "data": {
            "text/html": [
              "<div>\n",
              "<style scoped>\n",
              "    .dataframe tbody tr th:only-of-type {\n",
              "        vertical-align: middle;\n",
              "    }\n",
              "\n",
              "    .dataframe tbody tr th {\n",
              "        vertical-align: top;\n",
              "    }\n",
              "\n",
              "    .dataframe thead th {\n",
              "        text-align: right;\n",
              "    }\n",
              "</style>\n",
              "<table border=\"1\" class=\"dataframe\">\n",
              "  <thead>\n",
              "    <tr style=\"text-align: right;\">\n",
              "      <th></th>\n",
              "      <th>city</th>\n",
              "      <th>year</th>\n",
              "      <th>weekofyear</th>\n",
              "      <th>week_start_date</th>\n",
              "      <th>ndvi_ne</th>\n",
              "      <th>ndvi_nw</th>\n",
              "      <th>ndvi_se</th>\n",
              "      <th>ndvi_sw</th>\n",
              "      <th>precipitation_amt_mm</th>\n",
              "      <th>reanalysis_air_temp_k</th>\n",
              "      <th>reanalysis_avg_temp_k</th>\n",
              "      <th>reanalysis_dew_point_temp_k</th>\n",
              "      <th>reanalysis_max_air_temp_k</th>\n",
              "      <th>reanalysis_min_air_temp_k</th>\n",
              "      <th>reanalysis_precip_amt_kg_per_m2</th>\n",
              "      <th>reanalysis_relative_humidity_percent</th>\n",
              "      <th>reanalysis_sat_precip_amt_mm</th>\n",
              "      <th>reanalysis_specific_humidity_g_per_kg</th>\n",
              "      <th>reanalysis_tdtr_k</th>\n",
              "      <th>station_avg_temp_c</th>\n",
              "      <th>station_diur_temp_rng_c</th>\n",
              "      <th>station_max_temp_c</th>\n",
              "      <th>station_min_temp_c</th>\n",
              "      <th>station_precip_mm</th>\n",
              "    </tr>\n",
              "  </thead>\n",
              "  <tbody>\n",
              "    <tr>\n",
              "      <th>0</th>\n",
              "      <td>sj</td>\n",
              "      <td>1990</td>\n",
              "      <td>18</td>\n",
              "      <td>1990-04-30</td>\n",
              "      <td>0.122600</td>\n",
              "      <td>0.103725</td>\n",
              "      <td>0.198483</td>\n",
              "      <td>0.177617</td>\n",
              "      <td>12.42</td>\n",
              "      <td>297.572857</td>\n",
              "      <td>297.742857</td>\n",
              "      <td>292.414286</td>\n",
              "      <td>299.8</td>\n",
              "      <td>295.9</td>\n",
              "      <td>32.00</td>\n",
              "      <td>73.365714</td>\n",
              "      <td>12.42</td>\n",
              "      <td>14.012857</td>\n",
              "      <td>2.628571</td>\n",
              "      <td>25.442857</td>\n",
              "      <td>6.900000</td>\n",
              "      <td>29.4</td>\n",
              "      <td>20.0</td>\n",
              "      <td>16.0</td>\n",
              "    </tr>\n",
              "    <tr>\n",
              "      <th>1</th>\n",
              "      <td>sj</td>\n",
              "      <td>1990</td>\n",
              "      <td>19</td>\n",
              "      <td>1990-05-07</td>\n",
              "      <td>0.169900</td>\n",
              "      <td>0.142175</td>\n",
              "      <td>0.162357</td>\n",
              "      <td>0.155486</td>\n",
              "      <td>22.82</td>\n",
              "      <td>298.211429</td>\n",
              "      <td>298.442857</td>\n",
              "      <td>293.951429</td>\n",
              "      <td>300.9</td>\n",
              "      <td>296.4</td>\n",
              "      <td>17.94</td>\n",
              "      <td>77.368571</td>\n",
              "      <td>22.82</td>\n",
              "      <td>15.372857</td>\n",
              "      <td>2.371429</td>\n",
              "      <td>26.714286</td>\n",
              "      <td>6.371429</td>\n",
              "      <td>31.7</td>\n",
              "      <td>22.2</td>\n",
              "      <td>8.6</td>\n",
              "    </tr>\n",
              "    <tr>\n",
              "      <th>2</th>\n",
              "      <td>sj</td>\n",
              "      <td>1990</td>\n",
              "      <td>20</td>\n",
              "      <td>1990-05-14</td>\n",
              "      <td>0.032250</td>\n",
              "      <td>0.172967</td>\n",
              "      <td>0.157200</td>\n",
              "      <td>0.170843</td>\n",
              "      <td>34.54</td>\n",
              "      <td>298.781429</td>\n",
              "      <td>298.878571</td>\n",
              "      <td>295.434286</td>\n",
              "      <td>300.5</td>\n",
              "      <td>297.3</td>\n",
              "      <td>26.10</td>\n",
              "      <td>82.052857</td>\n",
              "      <td>34.54</td>\n",
              "      <td>16.848571</td>\n",
              "      <td>2.300000</td>\n",
              "      <td>26.714286</td>\n",
              "      <td>6.485714</td>\n",
              "      <td>32.2</td>\n",
              "      <td>22.8</td>\n",
              "      <td>41.4</td>\n",
              "    </tr>\n",
              "    <tr>\n",
              "      <th>3</th>\n",
              "      <td>sj</td>\n",
              "      <td>1990</td>\n",
              "      <td>21</td>\n",
              "      <td>1990-05-21</td>\n",
              "      <td>0.128633</td>\n",
              "      <td>0.245067</td>\n",
              "      <td>0.227557</td>\n",
              "      <td>0.235886</td>\n",
              "      <td>15.36</td>\n",
              "      <td>298.987143</td>\n",
              "      <td>299.228571</td>\n",
              "      <td>295.310000</td>\n",
              "      <td>301.4</td>\n",
              "      <td>297.0</td>\n",
              "      <td>13.90</td>\n",
              "      <td>80.337143</td>\n",
              "      <td>15.36</td>\n",
              "      <td>16.672857</td>\n",
              "      <td>2.428571</td>\n",
              "      <td>27.471429</td>\n",
              "      <td>6.771429</td>\n",
              "      <td>33.3</td>\n",
              "      <td>23.3</td>\n",
              "      <td>4.0</td>\n",
              "    </tr>\n",
              "    <tr>\n",
              "      <th>4</th>\n",
              "      <td>sj</td>\n",
              "      <td>1990</td>\n",
              "      <td>22</td>\n",
              "      <td>1990-05-28</td>\n",
              "      <td>0.196200</td>\n",
              "      <td>0.262200</td>\n",
              "      <td>0.251200</td>\n",
              "      <td>0.247340</td>\n",
              "      <td>7.52</td>\n",
              "      <td>299.518571</td>\n",
              "      <td>299.664286</td>\n",
              "      <td>295.821429</td>\n",
              "      <td>301.9</td>\n",
              "      <td>297.5</td>\n",
              "      <td>12.20</td>\n",
              "      <td>80.460000</td>\n",
              "      <td>7.52</td>\n",
              "      <td>17.210000</td>\n",
              "      <td>3.014286</td>\n",
              "      <td>28.942857</td>\n",
              "      <td>9.371429</td>\n",
              "      <td>35.0</td>\n",
              "      <td>23.9</td>\n",
              "      <td>5.8</td>\n",
              "    </tr>\n",
              "  </tbody>\n",
              "</table>\n",
              "</div>"
            ],
            "text/plain": [
              "  city  year  ...  station_min_temp_c station_precip_mm\n",
              "0   sj  1990  ...                20.0              16.0\n",
              "1   sj  1990  ...                22.2               8.6\n",
              "2   sj  1990  ...                22.8              41.4\n",
              "3   sj  1990  ...                23.3               4.0\n",
              "4   sj  1990  ...                23.9               5.8\n",
              "\n",
              "[5 rows x 24 columns]"
            ]
          },
          "metadata": {
            "tags": []
          },
          "execution_count": 7
        }
      ]
    },
    {
      "cell_type": "code",
      "metadata": {
        "id": "Xdpbz7WuDm8b",
        "colab_type": "code",
        "outputId": "06ca8b52-3dfd-4b04-f795-ee44ed433182",
        "colab": {
          "base_uri": "https://localhost:8080/",
          "height": 34
        }
      },
      "source": [
        "train_features.shape"
      ],
      "execution_count": 0,
      "outputs": [
        {
          "output_type": "execute_result",
          "data": {
            "text/plain": [
              "(1456, 24)"
            ]
          },
          "metadata": {
            "tags": []
          },
          "execution_count": 8
        }
      ]
    },
    {
      "cell_type": "code",
      "metadata": {
        "id": "rpDm9LmxDrY-",
        "colab_type": "code",
        "colab": {}
      },
      "source": [
        "train_labels = pd.read_csv('https://s3.amazonaws.com/drivendata/data/44/public/dengue_labels_train.csv')"
      ],
      "execution_count": 0,
      "outputs": []
    },
    {
      "cell_type": "code",
      "metadata": {
        "id": "KZ9UDAwsD1jJ",
        "colab_type": "code",
        "outputId": "41870ca4-d61b-4075-e292-3e4f11a54947",
        "colab": {
          "base_uri": "https://localhost:8080/",
          "height": 195
        }
      },
      "source": [
        "train_labels.head()"
      ],
      "execution_count": 0,
      "outputs": [
        {
          "output_type": "execute_result",
          "data": {
            "text/html": [
              "<div>\n",
              "<style scoped>\n",
              "    .dataframe tbody tr th:only-of-type {\n",
              "        vertical-align: middle;\n",
              "    }\n",
              "\n",
              "    .dataframe tbody tr th {\n",
              "        vertical-align: top;\n",
              "    }\n",
              "\n",
              "    .dataframe thead th {\n",
              "        text-align: right;\n",
              "    }\n",
              "</style>\n",
              "<table border=\"1\" class=\"dataframe\">\n",
              "  <thead>\n",
              "    <tr style=\"text-align: right;\">\n",
              "      <th></th>\n",
              "      <th>city</th>\n",
              "      <th>year</th>\n",
              "      <th>weekofyear</th>\n",
              "      <th>total_cases</th>\n",
              "    </tr>\n",
              "  </thead>\n",
              "  <tbody>\n",
              "    <tr>\n",
              "      <th>0</th>\n",
              "      <td>sj</td>\n",
              "      <td>1990</td>\n",
              "      <td>18</td>\n",
              "      <td>4</td>\n",
              "    </tr>\n",
              "    <tr>\n",
              "      <th>1</th>\n",
              "      <td>sj</td>\n",
              "      <td>1990</td>\n",
              "      <td>19</td>\n",
              "      <td>5</td>\n",
              "    </tr>\n",
              "    <tr>\n",
              "      <th>2</th>\n",
              "      <td>sj</td>\n",
              "      <td>1990</td>\n",
              "      <td>20</td>\n",
              "      <td>4</td>\n",
              "    </tr>\n",
              "    <tr>\n",
              "      <th>3</th>\n",
              "      <td>sj</td>\n",
              "      <td>1990</td>\n",
              "      <td>21</td>\n",
              "      <td>3</td>\n",
              "    </tr>\n",
              "    <tr>\n",
              "      <th>4</th>\n",
              "      <td>sj</td>\n",
              "      <td>1990</td>\n",
              "      <td>22</td>\n",
              "      <td>6</td>\n",
              "    </tr>\n",
              "  </tbody>\n",
              "</table>\n",
              "</div>"
            ],
            "text/plain": [
              "  city  year  weekofyear  total_cases\n",
              "0   sj  1990          18            4\n",
              "1   sj  1990          19            5\n",
              "2   sj  1990          20            4\n",
              "3   sj  1990          21            3\n",
              "4   sj  1990          22            6"
            ]
          },
          "metadata": {
            "tags": []
          },
          "execution_count": 10
        }
      ]
    },
    {
      "cell_type": "code",
      "metadata": {
        "id": "_2nI1SQjD6pQ",
        "colab_type": "code",
        "outputId": "40942dda-ab42-4eac-8163-82db847bb653",
        "colab": {
          "base_uri": "https://localhost:8080/",
          "height": 34
        }
      },
      "source": [
        "train_labels.shape"
      ],
      "execution_count": 0,
      "outputs": [
        {
          "output_type": "execute_result",
          "data": {
            "text/plain": [
              "(1456, 4)"
            ]
          },
          "metadata": {
            "tags": []
          },
          "execution_count": 11
        }
      ]
    },
    {
      "cell_type": "code",
      "metadata": {
        "id": "FAYWnm4ID-W0",
        "colab_type": "code",
        "colab": {}
      },
      "source": [
        "#Merge train features and labels datasets"
      ],
      "execution_count": 0,
      "outputs": []
    },
    {
      "cell_type": "code",
      "metadata": {
        "id": "P_5iKLG0EVm4",
        "colab_type": "code",
        "colab": {}
      },
      "source": [
        "train = pd.merge(train_features, train_labels)"
      ],
      "execution_count": 0,
      "outputs": []
    },
    {
      "cell_type": "code",
      "metadata": {
        "id": "HLbpdKOvEjH7",
        "colab_type": "code",
        "outputId": "3b6738e4-e431-485b-c688-b3c6ee12c3bb",
        "colab": {
          "base_uri": "https://localhost:8080/",
          "height": 215
        }
      },
      "source": [
        "train.head()"
      ],
      "execution_count": 0,
      "outputs": [
        {
          "output_type": "execute_result",
          "data": {
            "text/html": [
              "<div>\n",
              "<style scoped>\n",
              "    .dataframe tbody tr th:only-of-type {\n",
              "        vertical-align: middle;\n",
              "    }\n",
              "\n",
              "    .dataframe tbody tr th {\n",
              "        vertical-align: top;\n",
              "    }\n",
              "\n",
              "    .dataframe thead th {\n",
              "        text-align: right;\n",
              "    }\n",
              "</style>\n",
              "<table border=\"1\" class=\"dataframe\">\n",
              "  <thead>\n",
              "    <tr style=\"text-align: right;\">\n",
              "      <th></th>\n",
              "      <th>city</th>\n",
              "      <th>year</th>\n",
              "      <th>weekofyear</th>\n",
              "      <th>week_start_date</th>\n",
              "      <th>ndvi_ne</th>\n",
              "      <th>ndvi_nw</th>\n",
              "      <th>ndvi_se</th>\n",
              "      <th>ndvi_sw</th>\n",
              "      <th>precipitation_amt_mm</th>\n",
              "      <th>reanalysis_air_temp_k</th>\n",
              "      <th>reanalysis_avg_temp_k</th>\n",
              "      <th>reanalysis_dew_point_temp_k</th>\n",
              "      <th>reanalysis_max_air_temp_k</th>\n",
              "      <th>reanalysis_min_air_temp_k</th>\n",
              "      <th>reanalysis_precip_amt_kg_per_m2</th>\n",
              "      <th>reanalysis_relative_humidity_percent</th>\n",
              "      <th>reanalysis_sat_precip_amt_mm</th>\n",
              "      <th>reanalysis_specific_humidity_g_per_kg</th>\n",
              "      <th>reanalysis_tdtr_k</th>\n",
              "      <th>station_avg_temp_c</th>\n",
              "      <th>station_diur_temp_rng_c</th>\n",
              "      <th>station_max_temp_c</th>\n",
              "      <th>station_min_temp_c</th>\n",
              "      <th>station_precip_mm</th>\n",
              "      <th>total_cases</th>\n",
              "    </tr>\n",
              "  </thead>\n",
              "  <tbody>\n",
              "    <tr>\n",
              "      <th>0</th>\n",
              "      <td>sj</td>\n",
              "      <td>1990</td>\n",
              "      <td>18</td>\n",
              "      <td>1990-04-30</td>\n",
              "      <td>0.122600</td>\n",
              "      <td>0.103725</td>\n",
              "      <td>0.198483</td>\n",
              "      <td>0.177617</td>\n",
              "      <td>12.42</td>\n",
              "      <td>297.572857</td>\n",
              "      <td>297.742857</td>\n",
              "      <td>292.414286</td>\n",
              "      <td>299.8</td>\n",
              "      <td>295.9</td>\n",
              "      <td>32.00</td>\n",
              "      <td>73.365714</td>\n",
              "      <td>12.42</td>\n",
              "      <td>14.012857</td>\n",
              "      <td>2.628571</td>\n",
              "      <td>25.442857</td>\n",
              "      <td>6.900000</td>\n",
              "      <td>29.4</td>\n",
              "      <td>20.0</td>\n",
              "      <td>16.0</td>\n",
              "      <td>4</td>\n",
              "    </tr>\n",
              "    <tr>\n",
              "      <th>1</th>\n",
              "      <td>sj</td>\n",
              "      <td>1990</td>\n",
              "      <td>19</td>\n",
              "      <td>1990-05-07</td>\n",
              "      <td>0.169900</td>\n",
              "      <td>0.142175</td>\n",
              "      <td>0.162357</td>\n",
              "      <td>0.155486</td>\n",
              "      <td>22.82</td>\n",
              "      <td>298.211429</td>\n",
              "      <td>298.442857</td>\n",
              "      <td>293.951429</td>\n",
              "      <td>300.9</td>\n",
              "      <td>296.4</td>\n",
              "      <td>17.94</td>\n",
              "      <td>77.368571</td>\n",
              "      <td>22.82</td>\n",
              "      <td>15.372857</td>\n",
              "      <td>2.371429</td>\n",
              "      <td>26.714286</td>\n",
              "      <td>6.371429</td>\n",
              "      <td>31.7</td>\n",
              "      <td>22.2</td>\n",
              "      <td>8.6</td>\n",
              "      <td>5</td>\n",
              "    </tr>\n",
              "    <tr>\n",
              "      <th>2</th>\n",
              "      <td>sj</td>\n",
              "      <td>1990</td>\n",
              "      <td>20</td>\n",
              "      <td>1990-05-14</td>\n",
              "      <td>0.032250</td>\n",
              "      <td>0.172967</td>\n",
              "      <td>0.157200</td>\n",
              "      <td>0.170843</td>\n",
              "      <td>34.54</td>\n",
              "      <td>298.781429</td>\n",
              "      <td>298.878571</td>\n",
              "      <td>295.434286</td>\n",
              "      <td>300.5</td>\n",
              "      <td>297.3</td>\n",
              "      <td>26.10</td>\n",
              "      <td>82.052857</td>\n",
              "      <td>34.54</td>\n",
              "      <td>16.848571</td>\n",
              "      <td>2.300000</td>\n",
              "      <td>26.714286</td>\n",
              "      <td>6.485714</td>\n",
              "      <td>32.2</td>\n",
              "      <td>22.8</td>\n",
              "      <td>41.4</td>\n",
              "      <td>4</td>\n",
              "    </tr>\n",
              "    <tr>\n",
              "      <th>3</th>\n",
              "      <td>sj</td>\n",
              "      <td>1990</td>\n",
              "      <td>21</td>\n",
              "      <td>1990-05-21</td>\n",
              "      <td>0.128633</td>\n",
              "      <td>0.245067</td>\n",
              "      <td>0.227557</td>\n",
              "      <td>0.235886</td>\n",
              "      <td>15.36</td>\n",
              "      <td>298.987143</td>\n",
              "      <td>299.228571</td>\n",
              "      <td>295.310000</td>\n",
              "      <td>301.4</td>\n",
              "      <td>297.0</td>\n",
              "      <td>13.90</td>\n",
              "      <td>80.337143</td>\n",
              "      <td>15.36</td>\n",
              "      <td>16.672857</td>\n",
              "      <td>2.428571</td>\n",
              "      <td>27.471429</td>\n",
              "      <td>6.771429</td>\n",
              "      <td>33.3</td>\n",
              "      <td>23.3</td>\n",
              "      <td>4.0</td>\n",
              "      <td>3</td>\n",
              "    </tr>\n",
              "    <tr>\n",
              "      <th>4</th>\n",
              "      <td>sj</td>\n",
              "      <td>1990</td>\n",
              "      <td>22</td>\n",
              "      <td>1990-05-28</td>\n",
              "      <td>0.196200</td>\n",
              "      <td>0.262200</td>\n",
              "      <td>0.251200</td>\n",
              "      <td>0.247340</td>\n",
              "      <td>7.52</td>\n",
              "      <td>299.518571</td>\n",
              "      <td>299.664286</td>\n",
              "      <td>295.821429</td>\n",
              "      <td>301.9</td>\n",
              "      <td>297.5</td>\n",
              "      <td>12.20</td>\n",
              "      <td>80.460000</td>\n",
              "      <td>7.52</td>\n",
              "      <td>17.210000</td>\n",
              "      <td>3.014286</td>\n",
              "      <td>28.942857</td>\n",
              "      <td>9.371429</td>\n",
              "      <td>35.0</td>\n",
              "      <td>23.9</td>\n",
              "      <td>5.8</td>\n",
              "      <td>6</td>\n",
              "    </tr>\n",
              "  </tbody>\n",
              "</table>\n",
              "</div>"
            ],
            "text/plain": [
              "  city  year  weekofyear  ... station_min_temp_c  station_precip_mm  total_cases\n",
              "0   sj  1990          18  ...               20.0               16.0            4\n",
              "1   sj  1990          19  ...               22.2                8.6            5\n",
              "2   sj  1990          20  ...               22.8               41.4            4\n",
              "3   sj  1990          21  ...               23.3                4.0            3\n",
              "4   sj  1990          22  ...               23.9                5.8            6\n",
              "\n",
              "[5 rows x 25 columns]"
            ]
          },
          "metadata": {
            "tags": []
          },
          "execution_count": 14
        }
      ]
    },
    {
      "cell_type": "code",
      "metadata": {
        "id": "QqBQWX8TEnV2",
        "colab_type": "code",
        "outputId": "542f148a-8ae2-4a54-86dc-353804c427b3",
        "colab": {
          "base_uri": "https://localhost:8080/",
          "height": 34
        }
      },
      "source": [
        "train.shape\n",
        "#city, year and week of year columns are duplicate in train_features and train_labels datasets so the total_cases column is added to the features dataset"
      ],
      "execution_count": 0,
      "outputs": [
        {
          "output_type": "execute_result",
          "data": {
            "text/plain": [
              "(1456, 25)"
            ]
          },
          "metadata": {
            "tags": []
          },
          "execution_count": 15
        }
      ]
    },
    {
      "cell_type": "code",
      "metadata": {
        "id": "Y4noS_AIFUPN",
        "colab_type": "code",
        "outputId": "b10c61d2-0786-4c33-bba0-e6b4e8f464f5",
        "colab": {
          "base_uri": "https://localhost:8080/",
          "height": 454
        }
      },
      "source": [
        "train.dtypes"
      ],
      "execution_count": 0,
      "outputs": [
        {
          "output_type": "execute_result",
          "data": {
            "text/plain": [
              "city                                      object\n",
              "year                                       int64\n",
              "weekofyear                                 int64\n",
              "week_start_date                           object\n",
              "ndvi_ne                                  float64\n",
              "ndvi_nw                                  float64\n",
              "ndvi_se                                  float64\n",
              "ndvi_sw                                  float64\n",
              "precipitation_amt_mm                     float64\n",
              "reanalysis_air_temp_k                    float64\n",
              "reanalysis_avg_temp_k                    float64\n",
              "reanalysis_dew_point_temp_k              float64\n",
              "reanalysis_max_air_temp_k                float64\n",
              "reanalysis_min_air_temp_k                float64\n",
              "reanalysis_precip_amt_kg_per_m2          float64\n",
              "reanalysis_relative_humidity_percent     float64\n",
              "reanalysis_sat_precip_amt_mm             float64\n",
              "reanalysis_specific_humidity_g_per_kg    float64\n",
              "reanalysis_tdtr_k                        float64\n",
              "station_avg_temp_c                       float64\n",
              "station_diur_temp_rng_c                  float64\n",
              "station_max_temp_c                       float64\n",
              "station_min_temp_c                       float64\n",
              "station_precip_mm                        float64\n",
              "total_cases                                int64\n",
              "dtype: object"
            ]
          },
          "metadata": {
            "tags": []
          },
          "execution_count": 16
        }
      ]
    },
    {
      "cell_type": "code",
      "metadata": {
        "id": "VHnbGRmIFuu7",
        "colab_type": "code",
        "outputId": "e9187b84-6c72-4d19-c913-3699f914996c",
        "colab": {
          "base_uri": "https://localhost:8080/",
          "height": 34
        }
      },
      "source": [
        "#Do train, val split\n",
        "from sklearn.model_selection import train_test_split\n",
        "train, val = train_test_split(train, train_size=0.80, test_size=0.20, \n",
        "                              random_state=42)\n",
        "train.shape, val.shape"
      ],
      "execution_count": 0,
      "outputs": [
        {
          "output_type": "execute_result",
          "data": {
            "text/plain": [
              "((1164, 25), (292, 25))"
            ]
          },
          "metadata": {
            "tags": []
          },
          "execution_count": 17
        }
      ]
    },
    {
      "cell_type": "code",
      "metadata": {
        "id": "q3sjydJnG9j5",
        "colab_type": "code",
        "colab": {}
      },
      "source": [
        "#Load test features dataset\n",
        "test = pd.read_csv('https://s3.amazonaws.com/drivendata/data/44/public/dengue_features_test.csv')"
      ],
      "execution_count": 0,
      "outputs": []
    },
    {
      "cell_type": "code",
      "metadata": {
        "id": "29350dwEHHPn",
        "colab_type": "code",
        "outputId": "62b970df-b162-4096-8d19-67374191f74c",
        "colab": {
          "base_uri": "https://localhost:8080/",
          "height": 215
        }
      },
      "source": [
        "test.head()"
      ],
      "execution_count": 0,
      "outputs": [
        {
          "output_type": "execute_result",
          "data": {
            "text/html": [
              "<div>\n",
              "<style scoped>\n",
              "    .dataframe tbody tr th:only-of-type {\n",
              "        vertical-align: middle;\n",
              "    }\n",
              "\n",
              "    .dataframe tbody tr th {\n",
              "        vertical-align: top;\n",
              "    }\n",
              "\n",
              "    .dataframe thead th {\n",
              "        text-align: right;\n",
              "    }\n",
              "</style>\n",
              "<table border=\"1\" class=\"dataframe\">\n",
              "  <thead>\n",
              "    <tr style=\"text-align: right;\">\n",
              "      <th></th>\n",
              "      <th>city</th>\n",
              "      <th>year</th>\n",
              "      <th>weekofyear</th>\n",
              "      <th>week_start_date</th>\n",
              "      <th>ndvi_ne</th>\n",
              "      <th>ndvi_nw</th>\n",
              "      <th>ndvi_se</th>\n",
              "      <th>ndvi_sw</th>\n",
              "      <th>precipitation_amt_mm</th>\n",
              "      <th>reanalysis_air_temp_k</th>\n",
              "      <th>reanalysis_avg_temp_k</th>\n",
              "      <th>reanalysis_dew_point_temp_k</th>\n",
              "      <th>reanalysis_max_air_temp_k</th>\n",
              "      <th>reanalysis_min_air_temp_k</th>\n",
              "      <th>reanalysis_precip_amt_kg_per_m2</th>\n",
              "      <th>reanalysis_relative_humidity_percent</th>\n",
              "      <th>reanalysis_sat_precip_amt_mm</th>\n",
              "      <th>reanalysis_specific_humidity_g_per_kg</th>\n",
              "      <th>reanalysis_tdtr_k</th>\n",
              "      <th>station_avg_temp_c</th>\n",
              "      <th>station_diur_temp_rng_c</th>\n",
              "      <th>station_max_temp_c</th>\n",
              "      <th>station_min_temp_c</th>\n",
              "      <th>station_precip_mm</th>\n",
              "    </tr>\n",
              "  </thead>\n",
              "  <tbody>\n",
              "    <tr>\n",
              "      <th>0</th>\n",
              "      <td>sj</td>\n",
              "      <td>2008</td>\n",
              "      <td>18</td>\n",
              "      <td>2008-04-29</td>\n",
              "      <td>-0.0189</td>\n",
              "      <td>-0.018900</td>\n",
              "      <td>0.102729</td>\n",
              "      <td>0.091200</td>\n",
              "      <td>78.60</td>\n",
              "      <td>298.492857</td>\n",
              "      <td>298.550000</td>\n",
              "      <td>294.527143</td>\n",
              "      <td>301.1</td>\n",
              "      <td>296.4</td>\n",
              "      <td>25.37</td>\n",
              "      <td>78.781429</td>\n",
              "      <td>78.60</td>\n",
              "      <td>15.918571</td>\n",
              "      <td>3.128571</td>\n",
              "      <td>26.528571</td>\n",
              "      <td>7.057143</td>\n",
              "      <td>33.3</td>\n",
              "      <td>21.7</td>\n",
              "      <td>75.2</td>\n",
              "    </tr>\n",
              "    <tr>\n",
              "      <th>1</th>\n",
              "      <td>sj</td>\n",
              "      <td>2008</td>\n",
              "      <td>19</td>\n",
              "      <td>2008-05-06</td>\n",
              "      <td>-0.0180</td>\n",
              "      <td>-0.012400</td>\n",
              "      <td>0.082043</td>\n",
              "      <td>0.072314</td>\n",
              "      <td>12.56</td>\n",
              "      <td>298.475714</td>\n",
              "      <td>298.557143</td>\n",
              "      <td>294.395714</td>\n",
              "      <td>300.8</td>\n",
              "      <td>296.7</td>\n",
              "      <td>21.83</td>\n",
              "      <td>78.230000</td>\n",
              "      <td>12.56</td>\n",
              "      <td>15.791429</td>\n",
              "      <td>2.571429</td>\n",
              "      <td>26.071429</td>\n",
              "      <td>5.557143</td>\n",
              "      <td>30.0</td>\n",
              "      <td>22.2</td>\n",
              "      <td>34.3</td>\n",
              "    </tr>\n",
              "    <tr>\n",
              "      <th>2</th>\n",
              "      <td>sj</td>\n",
              "      <td>2008</td>\n",
              "      <td>20</td>\n",
              "      <td>2008-05-13</td>\n",
              "      <td>-0.0015</td>\n",
              "      <td>NaN</td>\n",
              "      <td>0.151083</td>\n",
              "      <td>0.091529</td>\n",
              "      <td>3.66</td>\n",
              "      <td>299.455714</td>\n",
              "      <td>299.357143</td>\n",
              "      <td>295.308571</td>\n",
              "      <td>302.2</td>\n",
              "      <td>296.4</td>\n",
              "      <td>4.12</td>\n",
              "      <td>78.270000</td>\n",
              "      <td>3.66</td>\n",
              "      <td>16.674286</td>\n",
              "      <td>4.428571</td>\n",
              "      <td>27.928571</td>\n",
              "      <td>7.785714</td>\n",
              "      <td>32.8</td>\n",
              "      <td>22.8</td>\n",
              "      <td>3.0</td>\n",
              "    </tr>\n",
              "    <tr>\n",
              "      <th>3</th>\n",
              "      <td>sj</td>\n",
              "      <td>2008</td>\n",
              "      <td>21</td>\n",
              "      <td>2008-05-20</td>\n",
              "      <td>NaN</td>\n",
              "      <td>-0.019867</td>\n",
              "      <td>0.124329</td>\n",
              "      <td>0.125686</td>\n",
              "      <td>0.00</td>\n",
              "      <td>299.690000</td>\n",
              "      <td>299.728571</td>\n",
              "      <td>294.402857</td>\n",
              "      <td>303.0</td>\n",
              "      <td>296.9</td>\n",
              "      <td>2.20</td>\n",
              "      <td>73.015714</td>\n",
              "      <td>0.00</td>\n",
              "      <td>15.775714</td>\n",
              "      <td>4.342857</td>\n",
              "      <td>28.057143</td>\n",
              "      <td>6.271429</td>\n",
              "      <td>33.3</td>\n",
              "      <td>24.4</td>\n",
              "      <td>0.3</td>\n",
              "    </tr>\n",
              "    <tr>\n",
              "      <th>4</th>\n",
              "      <td>sj</td>\n",
              "      <td>2008</td>\n",
              "      <td>22</td>\n",
              "      <td>2008-05-27</td>\n",
              "      <td>0.0568</td>\n",
              "      <td>0.039833</td>\n",
              "      <td>0.062267</td>\n",
              "      <td>0.075914</td>\n",
              "      <td>0.76</td>\n",
              "      <td>299.780000</td>\n",
              "      <td>299.671429</td>\n",
              "      <td>294.760000</td>\n",
              "      <td>302.3</td>\n",
              "      <td>297.3</td>\n",
              "      <td>4.36</td>\n",
              "      <td>74.084286</td>\n",
              "      <td>0.76</td>\n",
              "      <td>16.137143</td>\n",
              "      <td>3.542857</td>\n",
              "      <td>27.614286</td>\n",
              "      <td>7.085714</td>\n",
              "      <td>33.3</td>\n",
              "      <td>23.3</td>\n",
              "      <td>84.1</td>\n",
              "    </tr>\n",
              "  </tbody>\n",
              "</table>\n",
              "</div>"
            ],
            "text/plain": [
              "  city  year  ...  station_min_temp_c station_precip_mm\n",
              "0   sj  2008  ...                21.7              75.2\n",
              "1   sj  2008  ...                22.2              34.3\n",
              "2   sj  2008  ...                22.8               3.0\n",
              "3   sj  2008  ...                24.4               0.3\n",
              "4   sj  2008  ...                23.3              84.1\n",
              "\n",
              "[5 rows x 24 columns]"
            ]
          },
          "metadata": {
            "tags": []
          },
          "execution_count": 19
        }
      ]
    },
    {
      "cell_type": "code",
      "metadata": {
        "id": "RErf8G87HK8n",
        "colab_type": "code",
        "outputId": "f57bf0c6-a410-4efb-a2ce-5298838e0096",
        "colab": {
          "base_uri": "https://localhost:8080/",
          "height": 34
        }
      },
      "source": [
        "test.shape"
      ],
      "execution_count": 0,
      "outputs": [
        {
          "output_type": "execute_result",
          "data": {
            "text/plain": [
              "(416, 24)"
            ]
          },
          "metadata": {
            "tags": []
          },
          "execution_count": 20
        }
      ]
    },
    {
      "cell_type": "code",
      "metadata": {
        "id": "RN8eYzOwHRDw",
        "colab_type": "code",
        "colab": {}
      },
      "source": [
        "#Pandas Profiling\n",
        "#!pip install pandas-profiling==2.*"
      ],
      "execution_count": 0,
      "outputs": []
    },
    {
      "cell_type": "code",
      "metadata": {
        "id": "DDGhRpygHpFl",
        "colab_type": "code",
        "colab": {}
      },
      "source": [
        "#import pandas_profiling"
      ],
      "execution_count": 0,
      "outputs": []
    },
    {
      "cell_type": "code",
      "metadata": {
        "id": "v4fBuQ6wHvd8",
        "colab_type": "code",
        "colab": {}
      },
      "source": [
        "#profile_report = train.profile_report(\n",
        "    #check_correlation_pearson=False,\n",
        "    #correlations={\n",
        "        #'pearson': True,\n",
        "        #'spearman': False,\n",
        "        #'kendall': False,\n",
        "        #'phi_k': False,\n",
        "        #'cramers': False,\n",
        "        #'recoded': False,\n",
        "    #},\n",
        "    #plot={'histogram': {'bayesian_blocks_bins': False}},\n",
        "#)\n",
        "\n",
        "#profile_report"
      ],
      "execution_count": 0,
      "outputs": []
    },
    {
      "cell_type": "markdown",
      "metadata": {
        "id": "a1tUXFtyJPtH",
        "colab_type": "text"
      },
      "source": [
        "#Exploring pairwise relationships \n"
      ]
    },
    {
      "cell_type": "code",
      "metadata": {
        "id": "eNEHMBL5ephJ",
        "colab_type": "code",
        "colab": {}
      },
      "source": [
        "#import seaborn as sns\n",
        "#sns.pairplot(train)"
      ],
      "execution_count": 0,
      "outputs": []
    },
    {
      "cell_type": "markdown",
      "metadata": {
        "id": "HZ95qvEfa91D",
        "colab_type": "text"
      },
      "source": [
        "###Baseline statistics for the target variable total_cases in train dataset"
      ]
    },
    {
      "cell_type": "code",
      "metadata": {
        "id": "7A-XYkerJjjQ",
        "colab_type": "code",
        "outputId": "b5c7b452-e2ff-47bd-82d1-e66661c794c1",
        "colab": {
          "base_uri": "https://localhost:8080/",
          "height": 168
        }
      },
      "source": [
        "train['total_cases']. describe()"
      ],
      "execution_count": 0,
      "outputs": [
        {
          "output_type": "execute_result",
          "data": {
            "text/plain": [
              "count    1164.000000\n",
              "mean       23.116838\n",
              "std        39.493135\n",
              "min         0.000000\n",
              "25%         4.000000\n",
              "50%        12.000000\n",
              "75%        27.000000\n",
              "max       461.000000\n",
              "Name: total_cases, dtype: float64"
            ]
          },
          "metadata": {
            "tags": []
          },
          "execution_count": 25
        }
      ]
    },
    {
      "cell_type": "markdown",
      "metadata": {
        "id": "xogXApkkl3uq",
        "colab_type": "text"
      },
      "source": [
        "####Baseline mean and mean absolute error"
      ]
    },
    {
      "cell_type": "code",
      "metadata": {
        "id": "WLnzDoy8lUc-",
        "colab_type": "code",
        "outputId": "b3d30c32-a6f9-4af4-da41-eef8f465d401",
        "colab": {
          "base_uri": "https://localhost:8080/",
          "height": 34
        }
      },
      "source": [
        "guess = train['total_cases'].mean()\n",
        "print('At the baseline, the mean total number of dengue cases is=', guess)"
      ],
      "execution_count": 0,
      "outputs": [
        {
          "output_type": "stream",
          "text": [
            "At the baseline, the mean total number of dengue cases is= 23.116838487972508\n"
          ],
          "name": "stdout"
        }
      ]
    },
    {
      "cell_type": "code",
      "metadata": {
        "id": "I87_FCk6bHrd",
        "colab_type": "code",
        "colab": {}
      },
      "source": [
        "#If we had just guessed that the total number of dengue cases was 23.11 for a city in a particular year, we would be off by how much?"
      ],
      "execution_count": 0,
      "outputs": []
    },
    {
      "cell_type": "code",
      "metadata": {
        "id": "7fgbMfSkmF8C",
        "colab_type": "code",
        "outputId": "55329ba7-eec8-4722-b305-d14c0a782ca6",
        "colab": {
          "base_uri": "https://localhost:8080/",
          "height": 67
        }
      },
      "source": [
        "from sklearn.metrics import mean_absolute_error\n",
        "\n",
        "# Arrange y target vectors\n",
        "target = 'total_cases'\n",
        "y_train = train[target]\n",
        "y_val = val[target]\n",
        "\n",
        "# Get mean baseline\n",
        "print('Mean Baseline (using 0 features)')\n",
        "guess = y_train.mean()\n",
        "\n",
        "# Train Error\n",
        "y_pred = [guess] * len(y_train)\n",
        "mae = mean_absolute_error(y_train, y_pred)\n",
        "print(f'Train mean absolute error: {mae:.2f} dengue cases per year')\n",
        "\n",
        "# Test Error\n",
        "y_pred = [guess] * len(y_val)\n",
        "mae = mean_absolute_error(y_val, y_pred)\n",
        "print(f'Validation mean absolute error: {mae:.2f} dengue cases per year')"
      ],
      "execution_count": 0,
      "outputs": [
        {
          "output_type": "stream",
          "text": [
            "Mean Baseline (using 0 features)\n",
            "Train mean absolute error: 20.99 dengue cases per year\n",
            "Validation mean absolute error: 27.79 dengue cases per year\n"
          ],
          "name": "stdout"
        }
      ]
    },
    {
      "cell_type": "code",
      "metadata": {
        "id": "BAWtSoZ-iSHM",
        "colab_type": "code",
        "outputId": "aa2e9293-0f2d-4520-8bb1-0f01106724d4",
        "colab": {
          "base_uri": "https://localhost:8080/",
          "height": 296
        }
      },
      "source": [
        "#Box Plot for total number of dengue cases in a city for a year\n",
        "import seaborn as sns\n",
        "sns.boxplot(train.total_cases)\n",
        "plt.title('Box Plot for total number of dengue cases in a city for a year')\n",
        "plt.show()"
      ],
      "execution_count": 0,
      "outputs": [
        {
          "output_type": "display_data",
          "data": {
            "image/png": "[encoded data removed]",
            "text/plain": [
              "<Figure size 432x288 with 1 Axes>"
            ]
          },
          "metadata": {
            "tags": []
          }
        }
      ]
    },
    {
      "cell_type": "code",
      "metadata": {
        "id": "g9osWUJLcVto",
        "colab_type": "code",
        "outputId": "9dbd4831-8052-4977-8d3d-dd6d8cfdd947",
        "colab": {
          "base_uri": "https://localhost:8080/",
          "height": 453
        }
      },
      "source": [
        "\n",
        "sns.pairplot(train, x_vars='reanalysis_tdtr_k', y_vars='total_cases', kind='scatter', height=6)\n",
        "plt.title('Inverse relationship between total dengue cases in a city in a year and diurnal temperature range')\n",
        "plt.show()"
      ],
      "execution_count": 0,
      "outputs": [
        {
          "output_type": "display_data",
          "data": {
            "image/png": "[encoded data removed]",
            "text/plain": [
              "<Figure size 432x432 with 1 Axes>"
            ]
          },
          "metadata": {
            "tags": []
          }
        }
      ]
    },
    {
      "cell_type": "markdown",
      "metadata": {
        "id": "SMZMZFFCcUQL",
        "colab_type": "text"
      },
      "source": [
        "#####From the above plot, there seems to be an inverse relationship between total dengue cases in a city in a year and Diurnal temperature range by NOAA's NCEP Climate Forecast System Reanalysis measurements "
      ]
    },
    {
      "cell_type": "code",
      "metadata": {
        "id": "ZD_wVY6UgLgi",
        "colab_type": "code",
        "outputId": "e6c18759-78cb-4c75-e657-074239b10e93",
        "colab": {
          "base_uri": "https://localhost:8080/",
          "height": 453
        }
      },
      "source": [
        "sns.pairplot(train, x_vars='station_precip_mm', y_vars='total_cases', kind='scatter', height=6)\n",
        "plt.title('Inverse relationship between total dengue cases in a city in a year and total precipitation in mm for the year')\n",
        "plt.show()"
      ],
      "execution_count": 0,
      "outputs": [
        {
          "output_type": "display_data",
          "data": {
            "image/png": "[encoded data removed]",
            "text/plain": [
              "<Figure size 432x432 with 1 Axes>"
            ]
          },
          "metadata": {
            "tags": []
          }
        }
      ]
    },
    {
      "cell_type": "markdown",
      "metadata": {
        "id": "kIQ2Fc98n_33",
        "colab_type": "text"
      },
      "source": [
        "###Using Ridge Regression "
      ]
    },
    {
      "cell_type": "code",
      "metadata": {
        "id": "e4fcfNKPojcD",
        "colab_type": "code",
        "outputId": "022e20d4-97d6-4a5c-bde4-e93998db7c17",
        "colab": {
          "base_uri": "https://localhost:8080/",
          "height": 728
        }
      },
      "source": [
        "#numeric features in train dataset\n",
        "train.select_dtypes(include='number').describe().T"
      ],
      "execution_count": 0,
      "outputs": [
        {
          "output_type": "execute_result",
          "data": {
            "text/html": [
              "<div>\n",
              "<style scoped>\n",
              "    .dataframe tbody tr th:only-of-type {\n",
              "        vertical-align: middle;\n",
              "    }\n",
              "\n",
              "    .dataframe tbody tr th {\n",
              "        vertical-align: top;\n",
              "    }\n",
              "\n",
              "    .dataframe thead th {\n",
              "        text-align: right;\n",
              "    }\n",
              "</style>\n",
              "<table border=\"1\" class=\"dataframe\">\n",
              "  <thead>\n",
              "    <tr style=\"text-align: right;\">\n",
              "      <th></th>\n",
              "      <th>count</th>\n",
              "      <th>mean</th>\n",
              "      <th>std</th>\n",
              "      <th>min</th>\n",
              "      <th>25%</th>\n",
              "      <th>50%</th>\n",
              "      <th>75%</th>\n",
              "      <th>max</th>\n",
              "    </tr>\n",
              "  </thead>\n",
              "  <tbody>\n",
              "    <tr>\n",
              "      <th>year</th>\n",
              "      <td>1164.0</td>\n",
              "      <td>2001.026632</td>\n",
              "      <td>5.459314</td>\n",
              "      <td>1990.000000</td>\n",
              "      <td>1997.000000</td>\n",
              "      <td>2002.000000</td>\n",
              "      <td>2006.000000</td>\n",
              "      <td>2010.000000</td>\n",
              "    </tr>\n",
              "    <tr>\n",
              "      <th>weekofyear</th>\n",
              "      <td>1164.0</td>\n",
              "      <td>26.399485</td>\n",
              "      <td>15.194617</td>\n",
              "      <td>1.000000</td>\n",
              "      <td>13.000000</td>\n",
              "      <td>26.000000</td>\n",
              "      <td>40.000000</td>\n",
              "      <td>53.000000</td>\n",
              "    </tr>\n",
              "    <tr>\n",
              "      <th>ndvi_ne</th>\n",
              "      <td>1008.0</td>\n",
              "      <td>0.143563</td>\n",
              "      <td>0.138596</td>\n",
              "      <td>-0.406250</td>\n",
              "      <td>0.045912</td>\n",
              "      <td>0.130200</td>\n",
              "      <td>0.249071</td>\n",
              "      <td>0.508357</td>\n",
              "    </tr>\n",
              "    <tr>\n",
              "      <th>ndvi_nw</th>\n",
              "      <td>1127.0</td>\n",
              "      <td>0.129350</td>\n",
              "      <td>0.118388</td>\n",
              "      <td>-0.309600</td>\n",
              "      <td>0.047733</td>\n",
              "      <td>0.120500</td>\n",
              "      <td>0.214664</td>\n",
              "      <td>0.454429</td>\n",
              "    </tr>\n",
              "    <tr>\n",
              "      <th>ndvi_se</th>\n",
              "      <td>1149.0</td>\n",
              "      <td>0.202600</td>\n",
              "      <td>0.073291</td>\n",
              "      <td>0.006183</td>\n",
              "      <td>0.152729</td>\n",
              "      <td>0.195657</td>\n",
              "      <td>0.248500</td>\n",
              "      <td>0.538314</td>\n",
              "    </tr>\n",
              "    <tr>\n",
              "      <th>ndvi_sw</th>\n",
              "      <td>1149.0</td>\n",
              "      <td>0.200406</td>\n",
              "      <td>0.084038</td>\n",
              "      <td>-0.063457</td>\n",
              "      <td>0.140714</td>\n",
              "      <td>0.186900</td>\n",
              "      <td>0.246729</td>\n",
              "      <td>0.546017</td>\n",
              "    </tr>\n",
              "    <tr>\n",
              "      <th>precipitation_amt_mm</th>\n",
              "      <td>1152.0</td>\n",
              "      <td>46.153264</td>\n",
              "      <td>43.691925</td>\n",
              "      <td>0.000000</td>\n",
              "      <td>9.535000</td>\n",
              "      <td>38.680000</td>\n",
              "      <td>70.615000</td>\n",
              "      <td>389.600000</td>\n",
              "    </tr>\n",
              "    <tr>\n",
              "      <th>reanalysis_air_temp_k</th>\n",
              "      <td>1155.0</td>\n",
              "      <td>298.676894</td>\n",
              "      <td>1.371270</td>\n",
              "      <td>294.635714</td>\n",
              "      <td>297.641429</td>\n",
              "      <td>298.600000</td>\n",
              "      <td>299.804286</td>\n",
              "      <td>302.200000</td>\n",
              "    </tr>\n",
              "    <tr>\n",
              "      <th>reanalysis_avg_temp_k</th>\n",
              "      <td>1155.0</td>\n",
              "      <td>299.196469</td>\n",
              "      <td>1.279814</td>\n",
              "      <td>294.892857</td>\n",
              "      <td>298.232143</td>\n",
              "      <td>299.228571</td>\n",
              "      <td>300.200000</td>\n",
              "      <td>302.928571</td>\n",
              "    </tr>\n",
              "    <tr>\n",
              "      <th>reanalysis_dew_point_temp_k</th>\n",
              "      <td>1155.0</td>\n",
              "      <td>295.211953</td>\n",
              "      <td>1.547203</td>\n",
              "      <td>289.642857</td>\n",
              "      <td>294.060000</td>\n",
              "      <td>295.555714</td>\n",
              "      <td>296.454286</td>\n",
              "      <td>298.450000</td>\n",
              "    </tr>\n",
              "    <tr>\n",
              "      <th>reanalysis_max_air_temp_k</th>\n",
              "      <td>1155.0</td>\n",
              "      <td>303.394719</td>\n",
              "      <td>3.267181</td>\n",
              "      <td>297.800000</td>\n",
              "      <td>300.900000</td>\n",
              "      <td>302.400000</td>\n",
              "      <td>305.500000</td>\n",
              "      <td>314.000000</td>\n",
              "    </tr>\n",
              "    <tr>\n",
              "      <th>reanalysis_min_air_temp_k</th>\n",
              "      <td>1155.0</td>\n",
              "      <td>295.696104</td>\n",
              "      <td>2.569099</td>\n",
              "      <td>287.200000</td>\n",
              "      <td>293.900000</td>\n",
              "      <td>296.200000</td>\n",
              "      <td>297.900000</td>\n",
              "      <td>299.900000</td>\n",
              "    </tr>\n",
              "    <tr>\n",
              "      <th>reanalysis_precip_amt_kg_per_m2</th>\n",
              "      <td>1155.0</td>\n",
              "      <td>39.426052</td>\n",
              "      <td>40.811735</td>\n",
              "      <td>0.000000</td>\n",
              "      <td>12.730000</td>\n",
              "      <td>26.900000</td>\n",
              "      <td>53.150000</td>\n",
              "      <td>362.030000</td>\n",
              "    </tr>\n",
              "    <tr>\n",
              "      <th>reanalysis_relative_humidity_percent</th>\n",
              "      <td>1155.0</td>\n",
              "      <td>82.109300</td>\n",
              "      <td>7.162488</td>\n",
              "      <td>57.787143</td>\n",
              "      <td>77.162857</td>\n",
              "      <td>80.255714</td>\n",
              "      <td>85.869286</td>\n",
              "      <td>98.610000</td>\n",
              "    </tr>\n",
              "    <tr>\n",
              "      <th>reanalysis_sat_precip_amt_mm</th>\n",
              "      <td>1152.0</td>\n",
              "      <td>46.153264</td>\n",
              "      <td>43.691925</td>\n",
              "      <td>0.000000</td>\n",
              "      <td>9.535000</td>\n",
              "      <td>38.680000</td>\n",
              "      <td>70.615000</td>\n",
              "      <td>389.600000</td>\n",
              "    </tr>\n",
              "    <tr>\n",
              "      <th>reanalysis_specific_humidity_g_per_kg</th>\n",
              "      <td>1155.0</td>\n",
              "      <td>16.712782</td>\n",
              "      <td>1.561037</td>\n",
              "      <td>11.715714</td>\n",
              "      <td>15.511429</td>\n",
              "      <td>17.001429</td>\n",
              "      <td>17.975000</td>\n",
              "      <td>20.461429</td>\n",
              "    </tr>\n",
              "    <tr>\n",
              "      <th>reanalysis_tdtr_k</th>\n",
              "      <td>1155.0</td>\n",
              "      <td>4.892059</td>\n",
              "      <td>3.550197</td>\n",
              "      <td>1.357143</td>\n",
              "      <td>2.314286</td>\n",
              "      <td>2.828571</td>\n",
              "      <td>7.535714</td>\n",
              "      <td>16.028571</td>\n",
              "    </tr>\n",
              "    <tr>\n",
              "      <th>station_avg_temp_c</th>\n",
              "      <td>1125.0</td>\n",
              "      <td>27.147834</td>\n",
              "      <td>1.311734</td>\n",
              "      <td>21.400000</td>\n",
              "      <td>26.242857</td>\n",
              "      <td>27.400000</td>\n",
              "      <td>28.157143</td>\n",
              "      <td>30.071429</td>\n",
              "    </tr>\n",
              "    <tr>\n",
              "      <th>station_diur_temp_rng_c</th>\n",
              "      <td>1125.0</td>\n",
              "      <td>8.037556</td>\n",
              "      <td>2.136226</td>\n",
              "      <td>4.528571</td>\n",
              "      <td>6.485714</td>\n",
              "      <td>7.285714</td>\n",
              "      <td>9.500000</td>\n",
              "      <td>14.900000</td>\n",
              "    </tr>\n",
              "    <tr>\n",
              "      <th>station_max_temp_c</th>\n",
              "      <td>1146.0</td>\n",
              "      <td>32.406021</td>\n",
              "      <td>1.970713</td>\n",
              "      <td>26.700000</td>\n",
              "      <td>31.100000</td>\n",
              "      <td>32.800000</td>\n",
              "      <td>33.800000</td>\n",
              "      <td>38.600000</td>\n",
              "    </tr>\n",
              "    <tr>\n",
              "      <th>station_min_temp_c</th>\n",
              "      <td>1151.0</td>\n",
              "      <td>22.072198</td>\n",
              "      <td>1.579568</td>\n",
              "      <td>14.700000</td>\n",
              "      <td>21.100000</td>\n",
              "      <td>22.100000</td>\n",
              "      <td>23.300000</td>\n",
              "      <td>25.600000</td>\n",
              "    </tr>\n",
              "    <tr>\n",
              "      <th>station_precip_mm</th>\n",
              "      <td>1145.0</td>\n",
              "      <td>38.501310</td>\n",
              "      <td>45.240836</td>\n",
              "      <td>0.000000</td>\n",
              "      <td>8.300000</td>\n",
              "      <td>23.700000</td>\n",
              "      <td>53.600000</td>\n",
              "      <td>350.900000</td>\n",
              "    </tr>\n",
              "    <tr>\n",
              "      <th>total_cases</th>\n",
              "      <td>1164.0</td>\n",
              "      <td>23.116838</td>\n",
              "      <td>39.493135</td>\n",
              "      <td>0.000000</td>\n",
              "      <td>4.000000</td>\n",
              "      <td>12.000000</td>\n",
              "      <td>27.000000</td>\n",
              "      <td>461.000000</td>\n",
              "    </tr>\n",
              "  </tbody>\n",
              "</table>\n",
              "</div>"
            ],
            "text/plain": [
              "                                        count  ...          max\n",
              "year                                   1164.0  ...  2010.000000\n",
              "weekofyear                             1164.0  ...    53.000000\n",
              "ndvi_ne                                1008.0  ...     0.508357\n",
              "ndvi_nw                                1127.0  ...     0.454429\n",
              "ndvi_se                                1149.0  ...     0.538314\n",
              "ndvi_sw                                1149.0  ...     0.546017\n",
              "precipitation_amt_mm                   1152.0  ...   389.600000\n",
              "reanalysis_air_temp_k                  1155.0  ...   302.200000\n",
              "reanalysis_avg_temp_k                  1155.0  ...   302.928571\n",
              "reanalysis_dew_point_temp_k            1155.0  ...   298.450000\n",
              "reanalysis_max_air_temp_k              1155.0  ...   314.000000\n",
              "reanalysis_min_air_temp_k              1155.0  ...   299.900000\n",
              "reanalysis_precip_amt_kg_per_m2        1155.0  ...   362.030000\n",
              "reanalysis_relative_humidity_percent   1155.0  ...    98.610000\n",
              "reanalysis_sat_precip_amt_mm           1152.0  ...   389.600000\n",
              "reanalysis_specific_humidity_g_per_kg  1155.0  ...    20.461429\n",
              "reanalysis_tdtr_k                      1155.0  ...    16.028571\n",
              "station_avg_temp_c                     1125.0  ...    30.071429\n",
              "station_diur_temp_rng_c                1125.0  ...    14.900000\n",
              "station_max_temp_c                     1146.0  ...    38.600000\n",
              "station_min_temp_c                     1151.0  ...    25.600000\n",
              "station_precip_mm                      1145.0  ...   350.900000\n",
              "total_cases                            1164.0  ...   461.000000\n",
              "\n",
              "[23 rows x 8 columns]"
            ]
          },
          "metadata": {
            "tags": []
          },
          "execution_count": 32
        }
      ]
    },
    {
      "cell_type": "code",
      "metadata": {
        "id": "C8Cwwzovs5Tr",
        "colab_type": "code",
        "outputId": "42bab1d9-21b3-417c-b463-caf0bfaa32d8",
        "colab": {
          "base_uri": "https://localhost:8080/",
          "height": 106
        }
      },
      "source": [
        "#non-numeric features in train dataset\n",
        "train.select_dtypes(exclude='number').describe().T"
      ],
      "execution_count": 0,
      "outputs": [
        {
          "output_type": "execute_result",
          "data": {
            "text/html": [
              "<div>\n",
              "<style scoped>\n",
              "    .dataframe tbody tr th:only-of-type {\n",
              "        vertical-align: middle;\n",
              "    }\n",
              "\n",
              "    .dataframe tbody tr th {\n",
              "        vertical-align: top;\n",
              "    }\n",
              "\n",
              "    .dataframe thead th {\n",
              "        text-align: right;\n",
              "    }\n",
              "</style>\n",
              "<table border=\"1\" class=\"dataframe\">\n",
              "  <thead>\n",
              "    <tr style=\"text-align: right;\">\n",
              "      <th></th>\n",
              "      <th>count</th>\n",
              "      <th>unique</th>\n",
              "      <th>top</th>\n",
              "      <th>freq</th>\n",
              "    </tr>\n",
              "  </thead>\n",
              "  <tbody>\n",
              "    <tr>\n",
              "      <th>city</th>\n",
              "      <td>1164</td>\n",
              "      <td>2</td>\n",
              "      <td>sj</td>\n",
              "      <td>750</td>\n",
              "    </tr>\n",
              "    <tr>\n",
              "      <th>week_start_date</th>\n",
              "      <td>1164</td>\n",
              "      <td>903</td>\n",
              "      <td>2000-10-07</td>\n",
              "      <td>2</td>\n",
              "    </tr>\n",
              "  </tbody>\n",
              "</table>\n",
              "</div>"
            ],
            "text/plain": [
              "                count unique         top freq\n",
              "city             1164      2          sj  750\n",
              "week_start_date  1164    903  2000-10-07    2"
            ]
          },
          "metadata": {
            "tags": []
          },
          "execution_count": 33
        }
      ]
    },
    {
      "cell_type": "code",
      "metadata": {
        "id": "vyP7josIxith",
        "colab_type": "code",
        "colab": {}
      },
      "source": [
        "#we need to convert week_start_date to numeric form uisng pd.to_dateime function\n",
        "#wrangle function \n",
        "\n",
        "def wrangle(X):\n",
        "  X = X.copy()\n",
        "       \n",
        "    # Convert week_start_date to numeric form\n",
        "  X['week_start_date'] = pd.to_datetime(X['week_start_date'], infer_datetime_format=True)\n",
        "    \n",
        "    # Extract components from date_recorded, then drop the original column\n",
        "  X['year_recorded'] = X['week_start_date'].dt.year\n",
        "  X['month_recorded'] = X['week_start_date'].dt.month\n",
        "  X['day_recorded'] = X['week_start_date'].dt.day\n",
        "  X = X.drop(columns='week_start_date')\n",
        "  X = X.drop(columns='year')\n",
        "    #any feature engineering, write here below\n",
        "    \n",
        "    # return the wrangled dataframe\n",
        "  return X\n",
        "\n",
        "train = wrangle(train)\n",
        "val = wrangle(val)\n",
        "test = wrangle(test)\n"
      ],
      "execution_count": 0,
      "outputs": []
    },
    {
      "cell_type": "code",
      "metadata": {
        "id": "ryXvv6qWzT4q",
        "colab_type": "code",
        "outputId": "9d3218f4-1750-489f-e2f6-c02aedd2a3db",
        "colab": {
          "base_uri": "https://localhost:8080/",
          "height": 817
        }
      },
      "source": [
        "train.head().T"
      ],
      "execution_count": 0,
      "outputs": [
        {
          "output_type": "execute_result",
          "data": {
            "text/html": [
              "<div>\n",
              "<style scoped>\n",
              "    .dataframe tbody tr th:only-of-type {\n",
              "        vertical-align: middle;\n",
              "    }\n",
              "\n",
              "    .dataframe tbody tr th {\n",
              "        vertical-align: top;\n",
              "    }\n",
              "\n",
              "    .dataframe thead th {\n",
              "        text-align: right;\n",
              "    }\n",
              "</style>\n",
              "<table border=\"1\" class=\"dataframe\">\n",
              "  <thead>\n",
              "    <tr style=\"text-align: right;\">\n",
              "      <th></th>\n",
              "      <th>254</th>\n",
              "      <th>1063</th>\n",
              "      <th>636</th>\n",
              "      <th>1289</th>\n",
              "      <th>514</th>\n",
              "    </tr>\n",
              "  </thead>\n",
              "  <tbody>\n",
              "    <tr>\n",
              "      <th>city</th>\n",
              "      <td>sj</td>\n",
              "      <td>iq</td>\n",
              "      <td>sj</td>\n",
              "      <td>iq</td>\n",
              "      <td>sj</td>\n",
              "    </tr>\n",
              "    <tr>\n",
              "      <th>weekofyear</th>\n",
              "      <td>11</td>\n",
              "      <td>50</td>\n",
              "      <td>30</td>\n",
              "      <td>16</td>\n",
              "      <td>11</td>\n",
              "    </tr>\n",
              "    <tr>\n",
              "      <th>ndvi_ne</th>\n",
              "      <td>0.0739</td>\n",
              "      <td>0.268029</td>\n",
              "      <td>-0.07045</td>\n",
              "      <td>0.143086</td>\n",
              "      <td>0.2311</td>\n",
              "    </tr>\n",
              "    <tr>\n",
              "      <th>ndvi_nw</th>\n",
              "      <td>0.115067</td>\n",
              "      <td>0.142429</td>\n",
              "      <td>-0.0213333</td>\n",
              "      <td>0.207157</td>\n",
              "      <td>0.230875</td>\n",
              "    </tr>\n",
              "    <tr>\n",
              "      <th>ndvi_se</th>\n",
              "      <td>0.1452</td>\n",
              "      <td>0.288671</td>\n",
              "      <td>0.219286</td>\n",
              "      <td>0.168457</td>\n",
              "      <td>0.1591</td>\n",
              "    </tr>\n",
              "    <tr>\n",
              "      <th>ndvi_sw</th>\n",
              "      <td>0.154743</td>\n",
              "      <td>0.185071</td>\n",
              "      <td>0.224543</td>\n",
              "      <td>0.274314</td>\n",
              "      <td>0.0873</td>\n",
              "    </tr>\n",
              "    <tr>\n",
              "      <th>precipitation_amt_mm</th>\n",
              "      <td>19.43</td>\n",
              "      <td>35.02</td>\n",
              "      <td>1.07</td>\n",
              "      <td>93.62</td>\n",
              "      <td>25.96</td>\n",
              "    </tr>\n",
              "    <tr>\n",
              "      <th>reanalysis_air_temp_k</th>\n",
              "      <td>297.11</td>\n",
              "      <td>297.884</td>\n",
              "      <td>300.547</td>\n",
              "      <td>297.031</td>\n",
              "      <td>296.316</td>\n",
              "    </tr>\n",
              "    <tr>\n",
              "      <th>reanalysis_avg_temp_k</th>\n",
              "      <td>297.086</td>\n",
              "      <td>298.95</td>\n",
              "      <td>300.679</td>\n",
              "      <td>298.093</td>\n",
              "      <td>296.45</td>\n",
              "    </tr>\n",
              "    <tr>\n",
              "      <th>reanalysis_dew_point_temp_k</th>\n",
              "      <td>292.821</td>\n",
              "      <td>296.39</td>\n",
              "      <td>295.913</td>\n",
              "      <td>296.014</td>\n",
              "      <td>290.999</td>\n",
              "    </tr>\n",
              "    <tr>\n",
              "      <th>reanalysis_max_air_temp_k</th>\n",
              "      <td>299.6</td>\n",
              "      <td>307.4</td>\n",
              "      <td>302.5</td>\n",
              "      <td>304.8</td>\n",
              "      <td>298.4</td>\n",
              "    </tr>\n",
              "    <tr>\n",
              "      <th>reanalysis_min_air_temp_k</th>\n",
              "      <td>294.6</td>\n",
              "      <td>294.2</td>\n",
              "      <td>298.8</td>\n",
              "      <td>292</td>\n",
              "      <td>294</td>\n",
              "    </tr>\n",
              "    <tr>\n",
              "      <th>reanalysis_precip_amt_kg_per_m2</th>\n",
              "      <td>18.6</td>\n",
              "      <td>30.89</td>\n",
              "      <td>7.09</td>\n",
              "      <td>46.45</td>\n",
              "      <td>3.29</td>\n",
              "    </tr>\n",
              "    <tr>\n",
              "      <th>reanalysis_relative_humidity_percent</th>\n",
              "      <td>77.02</td>\n",
              "      <td>92.6143</td>\n",
              "      <td>75.8671</td>\n",
              "      <td>94.7214</td>\n",
              "      <td>72.1429</td>\n",
              "    </tr>\n",
              "    <tr>\n",
              "      <th>reanalysis_sat_precip_amt_mm</th>\n",
              "      <td>19.43</td>\n",
              "      <td>35.02</td>\n",
              "      <td>1.07</td>\n",
              "      <td>93.62</td>\n",
              "      <td>25.96</td>\n",
              "    </tr>\n",
              "    <tr>\n",
              "      <th>reanalysis_specific_humidity_g_per_kg</th>\n",
              "      <td>14.3043</td>\n",
              "      <td>18.0043</td>\n",
              "      <td>17.26</td>\n",
              "      <td>17.5514</td>\n",
              "      <td>12.7386</td>\n",
              "    </tr>\n",
              "    <tr>\n",
              "      <th>reanalysis_tdtr_k</th>\n",
              "      <td>2.05714</td>\n",
              "      <td>7.92857</td>\n",
              "      <td>2.61429</td>\n",
              "      <td>7.52857</td>\n",
              "      <td>2.35714</td>\n",
              "    </tr>\n",
              "    <tr>\n",
              "      <th>station_avg_temp_c</th>\n",
              "      <td>25.2571</td>\n",
              "      <td>27.65</td>\n",
              "      <td>28.2286</td>\n",
              "      <td>27.4</td>\n",
              "      <td>25.0714</td>\n",
              "    </tr>\n",
              "    <tr>\n",
              "      <th>station_diur_temp_rng_c</th>\n",
              "      <td>6.75714</td>\n",
              "      <td>9.45</td>\n",
              "      <td>6.9</td>\n",
              "      <td>9.5</td>\n",
              "      <td>5.55714</td>\n",
              "    </tr>\n",
              "    <tr>\n",
              "      <th>station_max_temp_c</th>\n",
              "      <td>31.7</td>\n",
              "      <td>34</td>\n",
              "      <td>32.8</td>\n",
              "      <td>33.5</td>\n",
              "      <td>28.9</td>\n",
              "    </tr>\n",
              "    <tr>\n",
              "      <th>station_min_temp_c</th>\n",
              "      <td>21.1</td>\n",
              "      <td>22.9</td>\n",
              "      <td>23.3</td>\n",
              "      <td>22.1</td>\n",
              "      <td>21.1</td>\n",
              "    </tr>\n",
              "    <tr>\n",
              "      <th>station_precip_mm</th>\n",
              "      <td>16.5</td>\n",
              "      <td>57.2</td>\n",
              "      <td>16.3</td>\n",
              "      <td>97.1</td>\n",
              "      <td>0.8</td>\n",
              "    </tr>\n",
              "    <tr>\n",
              "      <th>total_cases</th>\n",
              "      <td>7</td>\n",
              "      <td>29</td>\n",
              "      <td>3</td>\n",
              "      <td>5</td>\n",
              "      <td>8</td>\n",
              "    </tr>\n",
              "    <tr>\n",
              "      <th>year_recorded</th>\n",
              "      <td>1995</td>\n",
              "      <td>2002</td>\n",
              "      <td>2002</td>\n",
              "      <td>2007</td>\n",
              "      <td>2000</td>\n",
              "    </tr>\n",
              "    <tr>\n",
              "      <th>month_recorded</th>\n",
              "      <td>3</td>\n",
              "      <td>12</td>\n",
              "      <td>7</td>\n",
              "      <td>4</td>\n",
              "      <td>3</td>\n",
              "    </tr>\n",
              "    <tr>\n",
              "      <th>day_recorded</th>\n",
              "      <td>19</td>\n",
              "      <td>10</td>\n",
              "      <td>23</td>\n",
              "      <td>16</td>\n",
              "      <td>18</td>\n",
              "    </tr>\n",
              "  </tbody>\n",
              "</table>\n",
              "</div>"
            ],
            "text/plain": [
              "                                           254       1063  ...      1289      514 \n",
              "city                                         sj        iq  ...        iq        sj\n",
              "weekofyear                                   11        50  ...        16        11\n",
              "ndvi_ne                                  0.0739  0.268029  ...  0.143086    0.2311\n",
              "ndvi_nw                                0.115067  0.142429  ...  0.207157  0.230875\n",
              "ndvi_se                                  0.1452  0.288671  ...  0.168457    0.1591\n",
              "ndvi_sw                                0.154743  0.185071  ...  0.274314    0.0873\n",
              "precipitation_amt_mm                      19.43     35.02  ...     93.62     25.96\n",
              "reanalysis_air_temp_k                    297.11   297.884  ...   297.031   296.316\n",
              "reanalysis_avg_temp_k                   297.086    298.95  ...   298.093    296.45\n",
              "reanalysis_dew_point_temp_k             292.821    296.39  ...   296.014   290.999\n",
              "reanalysis_max_air_temp_k                 299.6     307.4  ...     304.8     298.4\n",
              "reanalysis_min_air_temp_k                 294.6     294.2  ...       292       294\n",
              "reanalysis_precip_amt_kg_per_m2            18.6     30.89  ...     46.45      3.29\n",
              "reanalysis_relative_humidity_percent      77.02   92.6143  ...   94.7214   72.1429\n",
              "reanalysis_sat_precip_amt_mm              19.43     35.02  ...     93.62     25.96\n",
              "reanalysis_specific_humidity_g_per_kg   14.3043   18.0043  ...   17.5514   12.7386\n",
              "reanalysis_tdtr_k                       2.05714   7.92857  ...   7.52857   2.35714\n",
              "station_avg_temp_c                      25.2571     27.65  ...      27.4   25.0714\n",
              "station_diur_temp_rng_c                 6.75714      9.45  ...       9.5   5.55714\n",
              "station_max_temp_c                         31.7        34  ...      33.5      28.9\n",
              "station_min_temp_c                         21.1      22.9  ...      22.1      21.1\n",
              "station_precip_mm                          16.5      57.2  ...      97.1       0.8\n",
              "total_cases                                   7        29  ...         5         8\n",
              "year_recorded                              1995      2002  ...      2007      2000\n",
              "month_recorded                                3        12  ...         4         3\n",
              "day_recorded                                 19        10  ...        16        18\n",
              "\n",
              "[26 rows x 5 columns]"
            ]
          },
          "metadata": {
            "tags": []
          },
          "execution_count": 35
        }
      ]
    },
    {
      "cell_type": "code",
      "metadata": {
        "id": "OxXgtCPH-oUD",
        "colab_type": "code",
        "colab": {}
      },
      "source": [
        "# The status_group column is the target\n",
        "target = 'total_cases'\n",
        "\n",
        "# Get a dataframe with all train columns except the target\n",
        "train_features = train.drop(columns=[target])\n",
        "\n",
        "# Get a list of the numeric features\n",
        "numeric_features = train_features.select_dtypes(include='number').columns.tolist()\n",
        "\n",
        "# Get a series with the cardinality of the nonnumeric features\n",
        "cardinality = train_features.select_dtypes(exclude='number').nunique()\n",
        "\n",
        "# Get a list of all categorical features with cardinality <= 50\n",
        "categorical_features = cardinality[cardinality <= 50].index.tolist()\n",
        "\n",
        "# Combine the lists \n",
        "features = numeric_features + categorical_features"
      ],
      "execution_count": 0,
      "outputs": []
    },
    {
      "cell_type": "code",
      "metadata": {
        "id": "hYrFsR9k-0jI",
        "colab_type": "code",
        "colab": {}
      },
      "source": [
        "# Arrange data into X features matrix and y target vector \n",
        "X_train = train[features]\n",
        "y_train = train[target]\n",
        "X_val = val[features]\n",
        "y_val = val[target]\n",
        "X_test = test[features]"
      ],
      "execution_count": 0,
      "outputs": []
    },
    {
      "cell_type": "markdown",
      "metadata": {
        "id": "bQr0sdvK-ItO",
        "colab_type": "text"
      },
      "source": [
        "####Ridge Regression"
      ]
    },
    {
      "cell_type": "code",
      "metadata": {
        "id": "UMcJ_KafJ50R",
        "colab_type": "code",
        "outputId": "5174aabc-99b5-44ea-f666-db1d2fe203c9",
        "colab": {
          "base_uri": "https://localhost:8080/",
          "height": 269
        }
      },
      "source": [
        "pip install category_encoders"
      ],
      "execution_count": 0,
      "outputs": [
        {
          "output_type": "stream",
          "text": [
            "Collecting category_encoders\n",
            "\u001b[?25l  Downloading https://files.pythonhosted.org/packages/a0/52/c54191ad3782de633ea3d6ee3bb2837bda0cf3bc97644bb6375cf14150a0/category_encoders-2.1.0-py2.py3-none-any.whl (100kB)\n",
            "\r\u001b[K     |███▎                            | 10kB 21.4MB/s eta 0:00:01\r\u001b[K     |██████▌                         | 20kB 1.7MB/s eta 0:00:01\r\u001b[K     |█████████▉                      | 30kB 2.5MB/s eta 0:00:01\r\u001b[K     |█████████████                   | 40kB 1.6MB/s eta 0:00:01\r\u001b[K     |████████████████▍               | 51kB 2.0MB/s eta 0:00:01\r\u001b[K     |███████████████████▋            | 61kB 2.4MB/s eta 0:00:01\r\u001b[K     |██████████████████████▉         | 71kB 2.8MB/s eta 0:00:01\r\u001b[K     |██████████████████████████▏     | 81kB 3.2MB/s eta 0:00:01\r\u001b[K     |█████████████████████████████▍  | 92kB 3.5MB/s eta 0:00:01\r\u001b[K     |████████████████████████████████| 102kB 2.3MB/s \n",
            "\u001b[?25hRequirement already satisfied: numpy>=1.11.3 in /usr/local/lib/python3.6/dist-packages (from category_encoders) (1.17.4)\n",
            "Requirement already satisfied: statsmodels>=0.6.1 in /usr/local/lib/python3.6/dist-packages (from category_encoders) (0.10.2)\n",
            "Requirement already satisfied: scipy>=0.19.0 in /usr/local/lib/python3.6/dist-packages (from category_encoders) (1.3.3)\n",
            "Requirement already satisfied: pandas>=0.21.1 in /usr/local/lib/python3.6/dist-packages (from category_encoders) (0.25.3)\n",
            "Requirement already satisfied: patsy>=0.4.1 in /usr/local/lib/python3.6/dist-packages (from category_encoders) (0.5.1)\n",
            "Requirement already satisfied: scikit-learn>=0.20.0 in /usr/local/lib/python3.6/dist-packages (from category_encoders) (0.21.3)\n",
            "Requirement already satisfied: pytz>=2017.2 in /usr/local/lib/python3.6/dist-packages (from pandas>=0.21.1->category_encoders) (2018.9)\n",
            "Requirement already satisfied: python-dateutil>=2.6.1 in /usr/local/lib/python3.6/dist-packages (from pandas>=0.21.1->category_encoders) (2.6.1)\n",
            "Requirement already satisfied: six in /usr/local/lib/python3.6/dist-packages (from patsy>=0.4.1->category_encoders) (1.12.0)\n",
            "Requirement already satisfied: joblib>=0.11 in /usr/local/lib/python3.6/dist-packages (from scikit-learn>=0.20.0->category_encoders) (0.14.0)\n",
            "Installing collected packages: category-encoders\n",
            "Successfully installed category-encoders-2.1.0\n"
          ],
          "name": "stdout"
        }
      ]
    },
    {
      "cell_type": "code",
      "metadata": {
        "id": "bMdd8MDOI6Qp",
        "colab_type": "code",
        "colab": {}
      },
      "source": [
        "from sklearn.pipeline import make_pipeline\n",
        "import category_encoders as ce\n",
        "from sklearn.impute import SimpleImputer\n",
        "from sklearn.preprocessing import StandardScaler\n",
        "from sklearn.preprocessing import OneHotEncoder\n",
        "from sklearn.ensemble import RandomForestRegressor\n"
      ],
      "execution_count": 0,
      "outputs": []
    },
    {
      "cell_type": "code",
      "metadata": {
        "id": "VrTXd_rrKcsn",
        "colab_type": "code",
        "colab": {}
      },
      "source": [
        "pipeline = make_pipeline(\n",
        "    ce.OneHotEncoder(use_cat_names=True), \n",
        "    SimpleImputer(strategy='mean'), \n",
        "    RandomForestRegressor(n_estimators=100, max_depth=10, \n",
        "                          max_features='auto', random_state=42, n_jobs=-1)\n",
        ")"
      ],
      "execution_count": 0,
      "outputs": []
    },
    {
      "cell_type": "code",
      "metadata": {
        "id": "TKZwWHcdMDxN",
        "colab_type": "code",
        "outputId": "eca835a5-0705-4589-dae6-4e2c93d3c15e",
        "colab": {
          "base_uri": "https://localhost:8080/",
          "height": 370
        }
      },
      "source": [
        "#fit on X_train, y_train\n",
        "pipeline.fit(X_train, y_train)"
      ],
      "execution_count": 0,
      "outputs": [
        {
          "output_type": "execute_result",
          "data": {
            "text/plain": [
              "Pipeline(memory=None,\n",
              "         steps=[('onehotencoder',\n",
              "                 OneHotEncoder(cols=['city'], drop_invariant=False,\n",
              "                               handle_missing='value', handle_unknown='value',\n",
              "                               return_df=True, use_cat_names=True, verbose=0)),\n",
              "                ('simpleimputer',\n",
              "                 SimpleImputer(add_indicator=False, copy=True, fill_value=None,\n",
              "                               missing_values=nan, strategy='mean',\n",
              "                               verbose=0)),\n",
              "                ('randomforestregressor',\n",
              "                 RandomForestRegressor(bootstrap=True, criterion='mse',\n",
              "                                       max_depth=10, max_features='auto',\n",
              "                                       max_leaf_nodes=None,\n",
              "                                       min_impurity_decrease=0.0,\n",
              "                                       min_impurity_split=None,\n",
              "                                       min_samples_leaf=1, min_samples_split=2,\n",
              "                                       min_weight_fraction_leaf=0.0,\n",
              "                                       n_estimators=100, n_jobs=-1,\n",
              "                                       oob_score=False, random_state=42,\n",
              "                                       verbose=0, warm_start=False))],\n",
              "         verbose=False)"
            ]
          },
          "metadata": {
            "tags": []
          },
          "execution_count": 41
        }
      ]
    },
    {
      "cell_type": "code",
      "metadata": {
        "id": "_71PHHcLOX0S",
        "colab_type": "code",
        "colab": {}
      },
      "source": [
        "#predict on X_val\n",
        "y_pred = pipeline.predict(X_val)"
      ],
      "execution_count": 0,
      "outputs": []
    },
    {
      "cell_type": "code",
      "metadata": {
        "id": "vrcsjW6tO6HV",
        "colab_type": "code",
        "outputId": "521aaabd-f40a-4bdb-ac5d-be06fba1484d",
        "colab": {
          "base_uri": "https://localhost:8080/",
          "height": 34
        }
      },
      "source": [
        "from IPython.display import display, HTML\n",
        "# Get Test MAE\n",
        "mae = mean_absolute_error(y_val, y_pred)\n",
        "display(HTML(f'Val. Mean Absolute Error: {mae:,.0f} dengue cases per year'))"
      ],
      "execution_count": 0,
      "outputs": [
        {
          "output_type": "display_data",
          "data": {
            "text/html": [
              "Val. Mean Absolute Error: 15 dengue cases per year"
            ],
            "text/plain": [
              "<IPython.core.display.HTML object>"
            ]
          },
          "metadata": {
            "tags": []
          }
        }
      ]
    },
    {
      "cell_type": "markdown",
      "metadata": {
        "id": "38hMrTO-b9UG",
        "colab_type": "text"
      },
      "source": [
        "Val. MAE of 15 is much lower than that achieved by Ridge regression (24)"
      ]
    },
    {
      "cell_type": "code",
      "metadata": {
        "id": "KX8vRdzeUSJS",
        "colab_type": "code",
        "outputId": "a9a2df40-0dcf-495b-d3b3-533888786a31",
        "colab": {
          "base_uri": "https://localhost:8080/",
          "height": 34
        }
      },
      "source": [
        "encoder = pipeline.named_steps['onehotencoder']\n",
        "encoded = encoder.transform(X_train)\n",
        "\n",
        "encoded.shape"
      ],
      "execution_count": 0,
      "outputs": [
        {
          "output_type": "execute_result",
          "data": {
            "text/plain": [
              "(1164, 26)"
            ]
          },
          "metadata": {
            "tags": []
          },
          "execution_count": 44
        }
      ]
    },
    {
      "cell_type": "code",
      "metadata": {
        "id": "98GUobj6T3Ta",
        "colab_type": "code",
        "outputId": "cfbc494b-2541-4738-d24d-48f7c0d80e5c",
        "colab": {
          "base_uri": "https://localhost:8080/",
          "height": 879
        }
      },
      "source": [
        "%matplotlib inline\n",
        "import matplotlib.pyplot as plt\n",
        "\n",
        "# Get feature importances\n",
        "rf = pipeline.named_steps['randomforestregressor']\n",
        "importances = pd.Series(rf.feature_importances_, encoded.columns)\n",
        "\n",
        "# Plot feature importances\n",
        "n = 30\n",
        "plt.figure(figsize=(10, n/2))\n",
        "plt.title(f'Top {n} features')\n",
        "importances.sort_values()[-n:].plot.barh(color='blue');"
      ],
      "execution_count": 0,
      "outputs": [
        {
          "output_type": "display_data",
          "data": {
            "image/png": "[encoded data removed]",
            "text/plain": [
              "<Figure size 720x1080 with 1 Axes>"
            ]
          },
          "metadata": {
            "tags": []
          }
        }
      ]
    }
  ]
}