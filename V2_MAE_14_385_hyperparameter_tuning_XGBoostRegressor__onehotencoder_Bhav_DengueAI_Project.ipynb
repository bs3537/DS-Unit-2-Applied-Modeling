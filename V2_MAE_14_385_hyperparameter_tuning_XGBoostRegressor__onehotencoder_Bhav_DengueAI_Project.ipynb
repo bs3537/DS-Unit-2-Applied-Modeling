{
  "nbformat": 4,
  "nbformat_minor": 0,
  "metadata": {
    "colab": {
      "name": "V2_MAE 14.385_hyperparameter tuning-XGBoostRegressor_ onehotencoder_Bhav_DengueAI_Project.ipynb",
      "provenance": [],
      "collapsed_sections": [],
      "include_colab_link": true
    },
    "kernelspec": {
      "name": "python3",
      "display_name": "Python 3"
    },
    "accelerator": "GPU"
  },
  "cells": [
    {
      "cell_type": "markdown",
      "metadata": {
        "id": "view-in-github",
        "colab_type": "text"
      },
      "source": [
        "<a href=\"https://colab.research.google.com/github/bs3537/DS-Unit-2-Applied-Modeling/blob/master/V2_MAE_14_385_hyperparameter_tuning_XGBoostRegressor__onehotencoder_Bhav_DengueAI_Project.ipynb\" target=\"_parent\"><img src=\"https://colab.research.google.com/assets/colab-badge.svg\" alt=\"Open In Colab\"/></a>"
      ]
    },
    {
      "cell_type": "code",
      "metadata": {
        "id": "5Ukh8Map-36v",
        "colab_type": "code",
        "colab": {}
      },
      "source": [
        "import numpy as np\n",
        "import matplotlib.pyplot as plt\n",
        "import pandas as pd"
      ],
      "execution_count": 0,
      "outputs": []
    },
    {
      "cell_type": "code",
      "metadata": {
        "id": "bNfkOBCy_Jou",
        "colab_type": "code",
        "colab": {}
      },
      "source": [
        "#https://www.drivendata.org/competitions/44/dengai-predicting-disease-spread/page/80/"
      ],
      "execution_count": 0,
      "outputs": []
    },
    {
      "cell_type": "code",
      "metadata": {
        "id": "ffADrian_pCI",
        "colab_type": "code",
        "colab": {}
      },
      "source": [
        "#Your goal is to predict the total_cases label for each (city, year, weekofyear) in the test set. "
      ],
      "execution_count": 0,
      "outputs": []
    },
    {
      "cell_type": "code",
      "metadata": {
        "id": "NwxEGb6g_wbd",
        "colab_type": "code",
        "colab": {}
      },
      "source": [
        "#Performance metric = mean absolute error"
      ],
      "execution_count": 0,
      "outputs": []
    },
    {
      "cell_type": "markdown",
      "metadata": {
        "id": "-C1DncwC_72L",
        "colab_type": "text"
      },
      "source": [
        "##LIST OF FEATURES:\n",
        "You are provided the following set of information on a (year, weekofyear) timescale:\n",
        "\n",
        "(Where appropriate, units are provided as a _unit suffix on the feature name.)\n",
        "\n",
        "###City and date indicators\n",
        "1. city – City abbreviations: sj for San Juan and iq for Iquitos\n",
        "2. week_start_date – Date given in yyyy-mm-dd format\n",
        "###NOAA's GHCN daily climate data weather station measurements\n",
        "1. station_max_temp_c – Maximum temperature\n",
        "2. station_min_temp_c – Minimum temperature\n",
        "3. station_avg_temp_c – Average temperature\n",
        "4. station_precip_mm – Total precipitation\n",
        "5. station_diur_temp_rng_c – Diurnal temperature range\n",
        "\n",
        "###PERSIANN satellite precipitation measurements (0.25x0.25 degree scale)\n",
        "\n",
        "6. precipitation_amt_mm – Total precipitation\n",
        "\n",
        "###NOAA's NCEP Climate Forecast System Reanalysis measurements (0.5x0.5 degree scale)\n",
        "\n",
        "7. reanalysis_sat_precip_amt_mm – Total precipitation\n",
        "8. reanalysis_dew_point_temp_k – Mean dew point temperature\n",
        "9. reanalysis_air_temp_k – Mean air temperature\n",
        "10. reanalysis_relative_humidity_percent – Mean relative humidity\n",
        "11. reanalysis_specific_humidity_g_per_kg – Mean specific humidity\n",
        "12. reanalysis_precip_amt_kg_per_m2 – Total precipitation\n",
        "13. reanalysis_max_air_temp_k – Maximum air temperature\n",
        "14. reanalysis_min_air_temp_k – Minimum air temperature\n",
        "15. reanalysis_avg_temp_k – Average air temperature\n",
        "16. reanalysis_tdtr_k – Diurnal temperature range\n",
        "\n",
        "###Satellite vegetation - Normalized difference vegetation index (NDVI) - NOAA's CDR Normalized Difference Vegetation Index (0.5x0.5 degree scale) measurements\n",
        "17. ndvi_se – Pixel southeast of city centroid\n",
        "18. ndvi_sw – Pixel southwest of city centroid\n",
        "19. ndvi_ne – Pixel northeast of city centroid\n",
        "20. ndvi_nw – Pixel northwest of city centroid"
      ]
    },
    {
      "cell_type": "markdown",
      "metadata": {
        "id": "kcOv7N-DB8IY",
        "colab_type": "text"
      },
      "source": [
        "####TARGET VARIABLE = total_cases label for each (city, year, weekofyear)"
      ]
    },
    {
      "cell_type": "code",
      "metadata": {
        "id": "R812MHU9CGnV",
        "colab_type": "code",
        "colab": {}
      },
      "source": [
        "import sys"
      ],
      "execution_count": 0,
      "outputs": []
    },
    {
      "cell_type": "code",
      "metadata": {
        "id": "lbD6Iui1C4nV",
        "colab_type": "code",
        "colab": {}
      },
      "source": [
        "#Load train features and labels datasets\n",
        "train_features = pd.read_csv('https://s3.amazonaws.com/drivendata/data/44/public/dengue_features_train.csv')"
      ],
      "execution_count": 0,
      "outputs": []
    },
    {
      "cell_type": "code",
      "metadata": {
        "id": "s-_yx5mWDiXj",
        "colab_type": "code",
        "outputId": "c38cd5ce-212f-49fd-d23f-753ab989095c",
        "colab": {
          "base_uri": "https://localhost:8080/",
          "height": 215
        }
      },
      "source": [
        "train_features.head()"
      ],
      "execution_count": 7,
      "outputs": [
        {
          "output_type": "execute_result",
          "data": {
            "text/html": [
              "<div>\n",
              "<style scoped>\n",
              "    .dataframe tbody tr th:only-of-type {\n",
              "        vertical-align: middle;\n",
              "    }\n",
              "\n",
              "    .dataframe tbody tr th {\n",
              "        vertical-align: top;\n",
              "    }\n",
              "\n",
              "    .dataframe thead th {\n",
              "        text-align: right;\n",
              "    }\n",
              "</style>\n",
              "<table border=\"1\" class=\"dataframe\">\n",
              "  <thead>\n",
              "    <tr style=\"text-align: right;\">\n",
              "      <th></th>\n",
              "      <th>city</th>\n",
              "      <th>year</th>\n",
              "      <th>weekofyear</th>\n",
              "      <th>week_start_date</th>\n",
              "      <th>ndvi_ne</th>\n",
              "      <th>ndvi_nw</th>\n",
              "      <th>ndvi_se</th>\n",
              "      <th>ndvi_sw</th>\n",
              "      <th>precipitation_amt_mm</th>\n",
              "      <th>reanalysis_air_temp_k</th>\n",
              "      <th>reanalysis_avg_temp_k</th>\n",
              "      <th>reanalysis_dew_point_temp_k</th>\n",
              "      <th>reanalysis_max_air_temp_k</th>\n",
              "      <th>reanalysis_min_air_temp_k</th>\n",
              "      <th>reanalysis_precip_amt_kg_per_m2</th>\n",
              "      <th>reanalysis_relative_humidity_percent</th>\n",
              "      <th>reanalysis_sat_precip_amt_mm</th>\n",
              "      <th>reanalysis_specific_humidity_g_per_kg</th>\n",
              "      <th>reanalysis_tdtr_k</th>\n",
              "      <th>station_avg_temp_c</th>\n",
              "      <th>station_diur_temp_rng_c</th>\n",
              "      <th>station_max_temp_c</th>\n",
              "      <th>station_min_temp_c</th>\n",
              "      <th>station_precip_mm</th>\n",
              "    </tr>\n",
              "  </thead>\n",
              "  <tbody>\n",
              "    <tr>\n",
              "      <th>0</th>\n",
              "      <td>sj</td>\n",
              "      <td>1990</td>\n",
              "      <td>18</td>\n",
              "      <td>1990-04-30</td>\n",
              "      <td>0.122600</td>\n",
              "      <td>0.103725</td>\n",
              "      <td>0.198483</td>\n",
              "      <td>0.177617</td>\n",
              "      <td>12.42</td>\n",
              "      <td>297.572857</td>\n",
              "      <td>297.742857</td>\n",
              "      <td>292.414286</td>\n",
              "      <td>299.8</td>\n",
              "      <td>295.9</td>\n",
              "      <td>32.00</td>\n",
              "      <td>73.365714</td>\n",
              "      <td>12.42</td>\n",
              "      <td>14.012857</td>\n",
              "      <td>2.628571</td>\n",
              "      <td>25.442857</td>\n",
              "      <td>6.900000</td>\n",
              "      <td>29.4</td>\n",
              "      <td>20.0</td>\n",
              "      <td>16.0</td>\n",
              "    </tr>\n",
              "    <tr>\n",
              "      <th>1</th>\n",
              "      <td>sj</td>\n",
              "      <td>1990</td>\n",
              "      <td>19</td>\n",
              "      <td>1990-05-07</td>\n",
              "      <td>0.169900</td>\n",
              "      <td>0.142175</td>\n",
              "      <td>0.162357</td>\n",
              "      <td>0.155486</td>\n",
              "      <td>22.82</td>\n",
              "      <td>298.211429</td>\n",
              "      <td>298.442857</td>\n",
              "      <td>293.951429</td>\n",
              "      <td>300.9</td>\n",
              "      <td>296.4</td>\n",
              "      <td>17.94</td>\n",
              "      <td>77.368571</td>\n",
              "      <td>22.82</td>\n",
              "      <td>15.372857</td>\n",
              "      <td>2.371429</td>\n",
              "      <td>26.714286</td>\n",
              "      <td>6.371429</td>\n",
              "      <td>31.7</td>\n",
              "      <td>22.2</td>\n",
              "      <td>8.6</td>\n",
              "    </tr>\n",
              "    <tr>\n",
              "      <th>2</th>\n",
              "      <td>sj</td>\n",
              "      <td>1990</td>\n",
              "      <td>20</td>\n",
              "      <td>1990-05-14</td>\n",
              "      <td>0.032250</td>\n",
              "      <td>0.172967</td>\n",
              "      <td>0.157200</td>\n",
              "      <td>0.170843</td>\n",
              "      <td>34.54</td>\n",
              "      <td>298.781429</td>\n",
              "      <td>298.878571</td>\n",
              "      <td>295.434286</td>\n",
              "      <td>300.5</td>\n",
              "      <td>297.3</td>\n",
              "      <td>26.10</td>\n",
              "      <td>82.052857</td>\n",
              "      <td>34.54</td>\n",
              "      <td>16.848571</td>\n",
              "      <td>2.300000</td>\n",
              "      <td>26.714286</td>\n",
              "      <td>6.485714</td>\n",
              "      <td>32.2</td>\n",
              "      <td>22.8</td>\n",
              "      <td>41.4</td>\n",
              "    </tr>\n",
              "    <tr>\n",
              "      <th>3</th>\n",
              "      <td>sj</td>\n",
              "      <td>1990</td>\n",
              "      <td>21</td>\n",
              "      <td>1990-05-21</td>\n",
              "      <td>0.128633</td>\n",
              "      <td>0.245067</td>\n",
              "      <td>0.227557</td>\n",
              "      <td>0.235886</td>\n",
              "      <td>15.36</td>\n",
              "      <td>298.987143</td>\n",
              "      <td>299.228571</td>\n",
              "      <td>295.310000</td>\n",
              "      <td>301.4</td>\n",
              "      <td>297.0</td>\n",
              "      <td>13.90</td>\n",
              "      <td>80.337143</td>\n",
              "      <td>15.36</td>\n",
              "      <td>16.672857</td>\n",
              "      <td>2.428571</td>\n",
              "      <td>27.471429</td>\n",
              "      <td>6.771429</td>\n",
              "      <td>33.3</td>\n",
              "      <td>23.3</td>\n",
              "      <td>4.0</td>\n",
              "    </tr>\n",
              "    <tr>\n",
              "      <th>4</th>\n",
              "      <td>sj</td>\n",
              "      <td>1990</td>\n",
              "      <td>22</td>\n",
              "      <td>1990-05-28</td>\n",
              "      <td>0.196200</td>\n",
              "      <td>0.262200</td>\n",
              "      <td>0.251200</td>\n",
              "      <td>0.247340</td>\n",
              "      <td>7.52</td>\n",
              "      <td>299.518571</td>\n",
              "      <td>299.664286</td>\n",
              "      <td>295.821429</td>\n",
              "      <td>301.9</td>\n",
              "      <td>297.5</td>\n",
              "      <td>12.20</td>\n",
              "      <td>80.460000</td>\n",
              "      <td>7.52</td>\n",
              "      <td>17.210000</td>\n",
              "      <td>3.014286</td>\n",
              "      <td>28.942857</td>\n",
              "      <td>9.371429</td>\n",
              "      <td>35.0</td>\n",
              "      <td>23.9</td>\n",
              "      <td>5.8</td>\n",
              "    </tr>\n",
              "  </tbody>\n",
              "</table>\n",
              "</div>"
            ],
            "text/plain": [
              "  city  year  ...  station_min_temp_c station_precip_mm\n",
              "0   sj  1990  ...                20.0              16.0\n",
              "1   sj  1990  ...                22.2               8.6\n",
              "2   sj  1990  ...                22.8              41.4\n",
              "3   sj  1990  ...                23.3               4.0\n",
              "4   sj  1990  ...                23.9               5.8\n",
              "\n",
              "[5 rows x 24 columns]"
            ]
          },
          "metadata": {
            "tags": []
          },
          "execution_count": 7
        }
      ]
    },
    {
      "cell_type": "code",
      "metadata": {
        "id": "Xdpbz7WuDm8b",
        "colab_type": "code",
        "outputId": "54f066e1-2b86-4d5e-973d-e9513f73dc85",
        "colab": {
          "base_uri": "https://localhost:8080/",
          "height": 34
        }
      },
      "source": [
        "train_features.shape"
      ],
      "execution_count": 8,
      "outputs": [
        {
          "output_type": "execute_result",
          "data": {
            "text/plain": [
              "(1456, 24)"
            ]
          },
          "metadata": {
            "tags": []
          },
          "execution_count": 8
        }
      ]
    },
    {
      "cell_type": "code",
      "metadata": {
        "id": "rpDm9LmxDrY-",
        "colab_type": "code",
        "colab": {}
      },
      "source": [
        "train_labels = pd.read_csv('https://s3.amazonaws.com/drivendata/data/44/public/dengue_labels_train.csv')"
      ],
      "execution_count": 0,
      "outputs": []
    },
    {
      "cell_type": "code",
      "metadata": {
        "id": "KZ9UDAwsD1jJ",
        "colab_type": "code",
        "outputId": "dbf17a5c-d0a3-46c3-ad5b-f21343d4966a",
        "colab": {
          "base_uri": "https://localhost:8080/",
          "height": 195
        }
      },
      "source": [
        "train_labels.head()"
      ],
      "execution_count": 10,
      "outputs": [
        {
          "output_type": "execute_result",
          "data": {
            "text/html": [
              "<div>\n",
              "<style scoped>\n",
              "    .dataframe tbody tr th:only-of-type {\n",
              "        vertical-align: middle;\n",
              "    }\n",
              "\n",
              "    .dataframe tbody tr th {\n",
              "        vertical-align: top;\n",
              "    }\n",
              "\n",
              "    .dataframe thead th {\n",
              "        text-align: right;\n",
              "    }\n",
              "</style>\n",
              "<table border=\"1\" class=\"dataframe\">\n",
              "  <thead>\n",
              "    <tr style=\"text-align: right;\">\n",
              "      <th></th>\n",
              "      <th>city</th>\n",
              "      <th>year</th>\n",
              "      <th>weekofyear</th>\n",
              "      <th>total_cases</th>\n",
              "    </tr>\n",
              "  </thead>\n",
              "  <tbody>\n",
              "    <tr>\n",
              "      <th>0</th>\n",
              "      <td>sj</td>\n",
              "      <td>1990</td>\n",
              "      <td>18</td>\n",
              "      <td>4</td>\n",
              "    </tr>\n",
              "    <tr>\n",
              "      <th>1</th>\n",
              "      <td>sj</td>\n",
              "      <td>1990</td>\n",
              "      <td>19</td>\n",
              "      <td>5</td>\n",
              "    </tr>\n",
              "    <tr>\n",
              "      <th>2</th>\n",
              "      <td>sj</td>\n",
              "      <td>1990</td>\n",
              "      <td>20</td>\n",
              "      <td>4</td>\n",
              "    </tr>\n",
              "    <tr>\n",
              "      <th>3</th>\n",
              "      <td>sj</td>\n",
              "      <td>1990</td>\n",
              "      <td>21</td>\n",
              "      <td>3</td>\n",
              "    </tr>\n",
              "    <tr>\n",
              "      <th>4</th>\n",
              "      <td>sj</td>\n",
              "      <td>1990</td>\n",
              "      <td>22</td>\n",
              "      <td>6</td>\n",
              "    </tr>\n",
              "  </tbody>\n",
              "</table>\n",
              "</div>"
            ],
            "text/plain": [
              "  city  year  weekofyear  total_cases\n",
              "0   sj  1990          18            4\n",
              "1   sj  1990          19            5\n",
              "2   sj  1990          20            4\n",
              "3   sj  1990          21            3\n",
              "4   sj  1990          22            6"
            ]
          },
          "metadata": {
            "tags": []
          },
          "execution_count": 10
        }
      ]
    },
    {
      "cell_type": "code",
      "metadata": {
        "id": "_2nI1SQjD6pQ",
        "colab_type": "code",
        "outputId": "dc8d85c9-3dd4-4909-8f1f-bcde09d01d90",
        "colab": {
          "base_uri": "https://localhost:8080/",
          "height": 34
        }
      },
      "source": [
        "train_labels.shape"
      ],
      "execution_count": 11,
      "outputs": [
        {
          "output_type": "execute_result",
          "data": {
            "text/plain": [
              "(1456, 4)"
            ]
          },
          "metadata": {
            "tags": []
          },
          "execution_count": 11
        }
      ]
    },
    {
      "cell_type": "code",
      "metadata": {
        "id": "FAYWnm4ID-W0",
        "colab_type": "code",
        "colab": {}
      },
      "source": [
        "#Merge train features and labels datasets"
      ],
      "execution_count": 0,
      "outputs": []
    },
    {
      "cell_type": "code",
      "metadata": {
        "id": "P_5iKLG0EVm4",
        "colab_type": "code",
        "colab": {}
      },
      "source": [
        "train = pd.merge(train_features, train_labels)"
      ],
      "execution_count": 0,
      "outputs": []
    },
    {
      "cell_type": "code",
      "metadata": {
        "id": "HLbpdKOvEjH7",
        "colab_type": "code",
        "outputId": "796a9586-68bd-4fe7-b959-1fc1ba7c028e",
        "colab": {
          "base_uri": "https://localhost:8080/",
          "height": 215
        }
      },
      "source": [
        "train.head()"
      ],
      "execution_count": 14,
      "outputs": [
        {
          "output_type": "execute_result",
          "data": {
            "text/html": [
              "<div>\n",
              "<style scoped>\n",
              "    .dataframe tbody tr th:only-of-type {\n",
              "        vertical-align: middle;\n",
              "    }\n",
              "\n",
              "    .dataframe tbody tr th {\n",
              "        vertical-align: top;\n",
              "    }\n",
              "\n",
              "    .dataframe thead th {\n",
              "        text-align: right;\n",
              "    }\n",
              "</style>\n",
              "<table border=\"1\" class=\"dataframe\">\n",
              "  <thead>\n",
              "    <tr style=\"text-align: right;\">\n",
              "      <th></th>\n",
              "      <th>city</th>\n",
              "      <th>year</th>\n",
              "      <th>weekofyear</th>\n",
              "      <th>week_start_date</th>\n",
              "      <th>ndvi_ne</th>\n",
              "      <th>ndvi_nw</th>\n",
              "      <th>ndvi_se</th>\n",
              "      <th>ndvi_sw</th>\n",
              "      <th>precipitation_amt_mm</th>\n",
              "      <th>reanalysis_air_temp_k</th>\n",
              "      <th>reanalysis_avg_temp_k</th>\n",
              "      <th>reanalysis_dew_point_temp_k</th>\n",
              "      <th>reanalysis_max_air_temp_k</th>\n",
              "      <th>reanalysis_min_air_temp_k</th>\n",
              "      <th>reanalysis_precip_amt_kg_per_m2</th>\n",
              "      <th>reanalysis_relative_humidity_percent</th>\n",
              "      <th>reanalysis_sat_precip_amt_mm</th>\n",
              "      <th>reanalysis_specific_humidity_g_per_kg</th>\n",
              "      <th>reanalysis_tdtr_k</th>\n",
              "      <th>station_avg_temp_c</th>\n",
              "      <th>station_diur_temp_rng_c</th>\n",
              "      <th>station_max_temp_c</th>\n",
              "      <th>station_min_temp_c</th>\n",
              "      <th>station_precip_mm</th>\n",
              "      <th>total_cases</th>\n",
              "    </tr>\n",
              "  </thead>\n",
              "  <tbody>\n",
              "    <tr>\n",
              "      <th>0</th>\n",
              "      <td>sj</td>\n",
              "      <td>1990</td>\n",
              "      <td>18</td>\n",
              "      <td>1990-04-30</td>\n",
              "      <td>0.122600</td>\n",
              "      <td>0.103725</td>\n",
              "      <td>0.198483</td>\n",
              "      <td>0.177617</td>\n",
              "      <td>12.42</td>\n",
              "      <td>297.572857</td>\n",
              "      <td>297.742857</td>\n",
              "      <td>292.414286</td>\n",
              "      <td>299.8</td>\n",
              "      <td>295.9</td>\n",
              "      <td>32.00</td>\n",
              "      <td>73.365714</td>\n",
              "      <td>12.42</td>\n",
              "      <td>14.012857</td>\n",
              "      <td>2.628571</td>\n",
              "      <td>25.442857</td>\n",
              "      <td>6.900000</td>\n",
              "      <td>29.4</td>\n",
              "      <td>20.0</td>\n",
              "      <td>16.0</td>\n",
              "      <td>4</td>\n",
              "    </tr>\n",
              "    <tr>\n",
              "      <th>1</th>\n",
              "      <td>sj</td>\n",
              "      <td>1990</td>\n",
              "      <td>19</td>\n",
              "      <td>1990-05-07</td>\n",
              "      <td>0.169900</td>\n",
              "      <td>0.142175</td>\n",
              "      <td>0.162357</td>\n",
              "      <td>0.155486</td>\n",
              "      <td>22.82</td>\n",
              "      <td>298.211429</td>\n",
              "      <td>298.442857</td>\n",
              "      <td>293.951429</td>\n",
              "      <td>300.9</td>\n",
              "      <td>296.4</td>\n",
              "      <td>17.94</td>\n",
              "      <td>77.368571</td>\n",
              "      <td>22.82</td>\n",
              "      <td>15.372857</td>\n",
              "      <td>2.371429</td>\n",
              "      <td>26.714286</td>\n",
              "      <td>6.371429</td>\n",
              "      <td>31.7</td>\n",
              "      <td>22.2</td>\n",
              "      <td>8.6</td>\n",
              "      <td>5</td>\n",
              "    </tr>\n",
              "    <tr>\n",
              "      <th>2</th>\n",
              "      <td>sj</td>\n",
              "      <td>1990</td>\n",
              "      <td>20</td>\n",
              "      <td>1990-05-14</td>\n",
              "      <td>0.032250</td>\n",
              "      <td>0.172967</td>\n",
              "      <td>0.157200</td>\n",
              "      <td>0.170843</td>\n",
              "      <td>34.54</td>\n",
              "      <td>298.781429</td>\n",
              "      <td>298.878571</td>\n",
              "      <td>295.434286</td>\n",
              "      <td>300.5</td>\n",
              "      <td>297.3</td>\n",
              "      <td>26.10</td>\n",
              "      <td>82.052857</td>\n",
              "      <td>34.54</td>\n",
              "      <td>16.848571</td>\n",
              "      <td>2.300000</td>\n",
              "      <td>26.714286</td>\n",
              "      <td>6.485714</td>\n",
              "      <td>32.2</td>\n",
              "      <td>22.8</td>\n",
              "      <td>41.4</td>\n",
              "      <td>4</td>\n",
              "    </tr>\n",
              "    <tr>\n",
              "      <th>3</th>\n",
              "      <td>sj</td>\n",
              "      <td>1990</td>\n",
              "      <td>21</td>\n",
              "      <td>1990-05-21</td>\n",
              "      <td>0.128633</td>\n",
              "      <td>0.245067</td>\n",
              "      <td>0.227557</td>\n",
              "      <td>0.235886</td>\n",
              "      <td>15.36</td>\n",
              "      <td>298.987143</td>\n",
              "      <td>299.228571</td>\n",
              "      <td>295.310000</td>\n",
              "      <td>301.4</td>\n",
              "      <td>297.0</td>\n",
              "      <td>13.90</td>\n",
              "      <td>80.337143</td>\n",
              "      <td>15.36</td>\n",
              "      <td>16.672857</td>\n",
              "      <td>2.428571</td>\n",
              "      <td>27.471429</td>\n",
              "      <td>6.771429</td>\n",
              "      <td>33.3</td>\n",
              "      <td>23.3</td>\n",
              "      <td>4.0</td>\n",
              "      <td>3</td>\n",
              "    </tr>\n",
              "    <tr>\n",
              "      <th>4</th>\n",
              "      <td>sj</td>\n",
              "      <td>1990</td>\n",
              "      <td>22</td>\n",
              "      <td>1990-05-28</td>\n",
              "      <td>0.196200</td>\n",
              "      <td>0.262200</td>\n",
              "      <td>0.251200</td>\n",
              "      <td>0.247340</td>\n",
              "      <td>7.52</td>\n",
              "      <td>299.518571</td>\n",
              "      <td>299.664286</td>\n",
              "      <td>295.821429</td>\n",
              "      <td>301.9</td>\n",
              "      <td>297.5</td>\n",
              "      <td>12.20</td>\n",
              "      <td>80.460000</td>\n",
              "      <td>7.52</td>\n",
              "      <td>17.210000</td>\n",
              "      <td>3.014286</td>\n",
              "      <td>28.942857</td>\n",
              "      <td>9.371429</td>\n",
              "      <td>35.0</td>\n",
              "      <td>23.9</td>\n",
              "      <td>5.8</td>\n",
              "      <td>6</td>\n",
              "    </tr>\n",
              "  </tbody>\n",
              "</table>\n",
              "</div>"
            ],
            "text/plain": [
              "  city  year  weekofyear  ... station_min_temp_c  station_precip_mm  total_cases\n",
              "0   sj  1990          18  ...               20.0               16.0            4\n",
              "1   sj  1990          19  ...               22.2                8.6            5\n",
              "2   sj  1990          20  ...               22.8               41.4            4\n",
              "3   sj  1990          21  ...               23.3                4.0            3\n",
              "4   sj  1990          22  ...               23.9                5.8            6\n",
              "\n",
              "[5 rows x 25 columns]"
            ]
          },
          "metadata": {
            "tags": []
          },
          "execution_count": 14
        }
      ]
    },
    {
      "cell_type": "code",
      "metadata": {
        "id": "QqBQWX8TEnV2",
        "colab_type": "code",
        "outputId": "458e42b3-e31f-4005-cc6b-2546f30ac0e1",
        "colab": {
          "base_uri": "https://localhost:8080/",
          "height": 34
        }
      },
      "source": [
        "train.shape\n",
        "#city, year and week of year columns are duplicate in train_features and train_labels datasets so the total_cases column is added to the features dataset"
      ],
      "execution_count": 15,
      "outputs": [
        {
          "output_type": "execute_result",
          "data": {
            "text/plain": [
              "(1456, 25)"
            ]
          },
          "metadata": {
            "tags": []
          },
          "execution_count": 15
        }
      ]
    },
    {
      "cell_type": "code",
      "metadata": {
        "id": "Y4noS_AIFUPN",
        "colab_type": "code",
        "outputId": "8c7ceb81-bff8-47e2-978f-e5efbb298098",
        "colab": {
          "base_uri": "https://localhost:8080/",
          "height": 454
        }
      },
      "source": [
        "train.dtypes"
      ],
      "execution_count": 16,
      "outputs": [
        {
          "output_type": "execute_result",
          "data": {
            "text/plain": [
              "city                                      object\n",
              "year                                       int64\n",
              "weekofyear                                 int64\n",
              "week_start_date                           object\n",
              "ndvi_ne                                  float64\n",
              "ndvi_nw                                  float64\n",
              "ndvi_se                                  float64\n",
              "ndvi_sw                                  float64\n",
              "precipitation_amt_mm                     float64\n",
              "reanalysis_air_temp_k                    float64\n",
              "reanalysis_avg_temp_k                    float64\n",
              "reanalysis_dew_point_temp_k              float64\n",
              "reanalysis_max_air_temp_k                float64\n",
              "reanalysis_min_air_temp_k                float64\n",
              "reanalysis_precip_amt_kg_per_m2          float64\n",
              "reanalysis_relative_humidity_percent     float64\n",
              "reanalysis_sat_precip_amt_mm             float64\n",
              "reanalysis_specific_humidity_g_per_kg    float64\n",
              "reanalysis_tdtr_k                        float64\n",
              "station_avg_temp_c                       float64\n",
              "station_diur_temp_rng_c                  float64\n",
              "station_max_temp_c                       float64\n",
              "station_min_temp_c                       float64\n",
              "station_precip_mm                        float64\n",
              "total_cases                                int64\n",
              "dtype: object"
            ]
          },
          "metadata": {
            "tags": []
          },
          "execution_count": 16
        }
      ]
    },
    {
      "cell_type": "code",
      "metadata": {
        "id": "VHnbGRmIFuu7",
        "colab_type": "code",
        "outputId": "10ca9bda-0d41-4878-fdbf-1dedcad69c08",
        "colab": {
          "base_uri": "https://localhost:8080/",
          "height": 34
        }
      },
      "source": [
        "#Do train, val split\n",
        "from sklearn.model_selection import train_test_split\n",
        "train, val = train_test_split(train, train_size=0.80, test_size=0.20, \n",
        "                              random_state=42)\n",
        "train.shape, val.shape"
      ],
      "execution_count": 17,
      "outputs": [
        {
          "output_type": "execute_result",
          "data": {
            "text/plain": [
              "((1164, 25), (292, 25))"
            ]
          },
          "metadata": {
            "tags": []
          },
          "execution_count": 17
        }
      ]
    },
    {
      "cell_type": "code",
      "metadata": {
        "id": "q3sjydJnG9j5",
        "colab_type": "code",
        "colab": {}
      },
      "source": [
        "#Load test features dataset\n",
        "test = pd.read_csv('https://s3.amazonaws.com/drivendata/data/44/public/dengue_features_test.csv')"
      ],
      "execution_count": 0,
      "outputs": []
    },
    {
      "cell_type": "code",
      "metadata": {
        "id": "29350dwEHHPn",
        "colab_type": "code",
        "outputId": "924cc8c6-7c09-41c7-e8ff-7be83084ccfa",
        "colab": {
          "base_uri": "https://localhost:8080/",
          "height": 215
        }
      },
      "source": [
        "test.head()"
      ],
      "execution_count": 19,
      "outputs": [
        {
          "output_type": "execute_result",
          "data": {
            "text/html": [
              "<div>\n",
              "<style scoped>\n",
              "    .dataframe tbody tr th:only-of-type {\n",
              "        vertical-align: middle;\n",
              "    }\n",
              "\n",
              "    .dataframe tbody tr th {\n",
              "        vertical-align: top;\n",
              "    }\n",
              "\n",
              "    .dataframe thead th {\n",
              "        text-align: right;\n",
              "    }\n",
              "</style>\n",
              "<table border=\"1\" class=\"dataframe\">\n",
              "  <thead>\n",
              "    <tr style=\"text-align: right;\">\n",
              "      <th></th>\n",
              "      <th>city</th>\n",
              "      <th>year</th>\n",
              "      <th>weekofyear</th>\n",
              "      <th>week_start_date</th>\n",
              "      <th>ndvi_ne</th>\n",
              "      <th>ndvi_nw</th>\n",
              "      <th>ndvi_se</th>\n",
              "      <th>ndvi_sw</th>\n",
              "      <th>precipitation_amt_mm</th>\n",
              "      <th>reanalysis_air_temp_k</th>\n",
              "      <th>reanalysis_avg_temp_k</th>\n",
              "      <th>reanalysis_dew_point_temp_k</th>\n",
              "      <th>reanalysis_max_air_temp_k</th>\n",
              "      <th>reanalysis_min_air_temp_k</th>\n",
              "      <th>reanalysis_precip_amt_kg_per_m2</th>\n",
              "      <th>reanalysis_relative_humidity_percent</th>\n",
              "      <th>reanalysis_sat_precip_amt_mm</th>\n",
              "      <th>reanalysis_specific_humidity_g_per_kg</th>\n",
              "      <th>reanalysis_tdtr_k</th>\n",
              "      <th>station_avg_temp_c</th>\n",
              "      <th>station_diur_temp_rng_c</th>\n",
              "      <th>station_max_temp_c</th>\n",
              "      <th>station_min_temp_c</th>\n",
              "      <th>station_precip_mm</th>\n",
              "    </tr>\n",
              "  </thead>\n",
              "  <tbody>\n",
              "    <tr>\n",
              "      <th>0</th>\n",
              "      <td>sj</td>\n",
              "      <td>2008</td>\n",
              "      <td>18</td>\n",
              "      <td>2008-04-29</td>\n",
              "      <td>-0.0189</td>\n",
              "      <td>-0.018900</td>\n",
              "      <td>0.102729</td>\n",
              "      <td>0.091200</td>\n",
              "      <td>78.60</td>\n",
              "      <td>298.492857</td>\n",
              "      <td>298.550000</td>\n",
              "      <td>294.527143</td>\n",
              "      <td>301.1</td>\n",
              "      <td>296.4</td>\n",
              "      <td>25.37</td>\n",
              "      <td>78.781429</td>\n",
              "      <td>78.60</td>\n",
              "      <td>15.918571</td>\n",
              "      <td>3.128571</td>\n",
              "      <td>26.528571</td>\n",
              "      <td>7.057143</td>\n",
              "      <td>33.3</td>\n",
              "      <td>21.7</td>\n",
              "      <td>75.2</td>\n",
              "    </tr>\n",
              "    <tr>\n",
              "      <th>1</th>\n",
              "      <td>sj</td>\n",
              "      <td>2008</td>\n",
              "      <td>19</td>\n",
              "      <td>2008-05-06</td>\n",
              "      <td>-0.0180</td>\n",
              "      <td>-0.012400</td>\n",
              "      <td>0.082043</td>\n",
              "      <td>0.072314</td>\n",
              "      <td>12.56</td>\n",
              "      <td>298.475714</td>\n",
              "      <td>298.557143</td>\n",
              "      <td>294.395714</td>\n",
              "      <td>300.8</td>\n",
              "      <td>296.7</td>\n",
              "      <td>21.83</td>\n",
              "      <td>78.230000</td>\n",
              "      <td>12.56</td>\n",
              "      <td>15.791429</td>\n",
              "      <td>2.571429</td>\n",
              "      <td>26.071429</td>\n",
              "      <td>5.557143</td>\n",
              "      <td>30.0</td>\n",
              "      <td>22.2</td>\n",
              "      <td>34.3</td>\n",
              "    </tr>\n",
              "    <tr>\n",
              "      <th>2</th>\n",
              "      <td>sj</td>\n",
              "      <td>2008</td>\n",
              "      <td>20</td>\n",
              "      <td>2008-05-13</td>\n",
              "      <td>-0.0015</td>\n",
              "      <td>NaN</td>\n",
              "      <td>0.151083</td>\n",
              "      <td>0.091529</td>\n",
              "      <td>3.66</td>\n",
              "      <td>299.455714</td>\n",
              "      <td>299.357143</td>\n",
              "      <td>295.308571</td>\n",
              "      <td>302.2</td>\n",
              "      <td>296.4</td>\n",
              "      <td>4.12</td>\n",
              "      <td>78.270000</td>\n",
              "      <td>3.66</td>\n",
              "      <td>16.674286</td>\n",
              "      <td>4.428571</td>\n",
              "      <td>27.928571</td>\n",
              "      <td>7.785714</td>\n",
              "      <td>32.8</td>\n",
              "      <td>22.8</td>\n",
              "      <td>3.0</td>\n",
              "    </tr>\n",
              "    <tr>\n",
              "      <th>3</th>\n",
              "      <td>sj</td>\n",
              "      <td>2008</td>\n",
              "      <td>21</td>\n",
              "      <td>2008-05-20</td>\n",
              "      <td>NaN</td>\n",
              "      <td>-0.019867</td>\n",
              "      <td>0.124329</td>\n",
              "      <td>0.125686</td>\n",
              "      <td>0.00</td>\n",
              "      <td>299.690000</td>\n",
              "      <td>299.728571</td>\n",
              "      <td>294.402857</td>\n",
              "      <td>303.0</td>\n",
              "      <td>296.9</td>\n",
              "      <td>2.20</td>\n",
              "      <td>73.015714</td>\n",
              "      <td>0.00</td>\n",
              "      <td>15.775714</td>\n",
              "      <td>4.342857</td>\n",
              "      <td>28.057143</td>\n",
              "      <td>6.271429</td>\n",
              "      <td>33.3</td>\n",
              "      <td>24.4</td>\n",
              "      <td>0.3</td>\n",
              "    </tr>\n",
              "    <tr>\n",
              "      <th>4</th>\n",
              "      <td>sj</td>\n",
              "      <td>2008</td>\n",
              "      <td>22</td>\n",
              "      <td>2008-05-27</td>\n",
              "      <td>0.0568</td>\n",
              "      <td>0.039833</td>\n",
              "      <td>0.062267</td>\n",
              "      <td>0.075914</td>\n",
              "      <td>0.76</td>\n",
              "      <td>299.780000</td>\n",
              "      <td>299.671429</td>\n",
              "      <td>294.760000</td>\n",
              "      <td>302.3</td>\n",
              "      <td>297.3</td>\n",
              "      <td>4.36</td>\n",
              "      <td>74.084286</td>\n",
              "      <td>0.76</td>\n",
              "      <td>16.137143</td>\n",
              "      <td>3.542857</td>\n",
              "      <td>27.614286</td>\n",
              "      <td>7.085714</td>\n",
              "      <td>33.3</td>\n",
              "      <td>23.3</td>\n",
              "      <td>84.1</td>\n",
              "    </tr>\n",
              "  </tbody>\n",
              "</table>\n",
              "</div>"
            ],
            "text/plain": [
              "  city  year  ...  station_min_temp_c station_precip_mm\n",
              "0   sj  2008  ...                21.7              75.2\n",
              "1   sj  2008  ...                22.2              34.3\n",
              "2   sj  2008  ...                22.8               3.0\n",
              "3   sj  2008  ...                24.4               0.3\n",
              "4   sj  2008  ...                23.3              84.1\n",
              "\n",
              "[5 rows x 24 columns]"
            ]
          },
          "metadata": {
            "tags": []
          },
          "execution_count": 19
        }
      ]
    },
    {
      "cell_type": "code",
      "metadata": {
        "id": "RErf8G87HK8n",
        "colab_type": "code",
        "outputId": "9b590b98-49eb-4276-c94b-30f3c94d0b1e",
        "colab": {
          "base_uri": "https://localhost:8080/",
          "height": 34
        }
      },
      "source": [
        "test.shape"
      ],
      "execution_count": 20,
      "outputs": [
        {
          "output_type": "execute_result",
          "data": {
            "text/plain": [
              "(416, 24)"
            ]
          },
          "metadata": {
            "tags": []
          },
          "execution_count": 20
        }
      ]
    },
    {
      "cell_type": "code",
      "metadata": {
        "id": "RN8eYzOwHRDw",
        "colab_type": "code",
        "colab": {}
      },
      "source": [
        "#Pandas Profiling\n",
        "#!pip install pandas-profiling==2.*"
      ],
      "execution_count": 0,
      "outputs": []
    },
    {
      "cell_type": "code",
      "metadata": {
        "id": "DDGhRpygHpFl",
        "colab_type": "code",
        "colab": {}
      },
      "source": [
        "#import pandas_profiling"
      ],
      "execution_count": 0,
      "outputs": []
    },
    {
      "cell_type": "code",
      "metadata": {
        "id": "v4fBuQ6wHvd8",
        "colab_type": "code",
        "colab": {}
      },
      "source": [
        "#profile_report = train.profile_report(\n",
        "    #check_correlation_pearson=False,\n",
        "    #correlations={\n",
        "        #'pearson': True,\n",
        "        #'spearman': False,\n",
        "        #'kendall': False,\n",
        "        #'phi_k': False,\n",
        "        #'cramers': False,\n",
        "        #'recoded': False,\n",
        "    #},\n",
        "    #plot={'histogram': {'bayesian_blocks_bins': False}},\n",
        "#)\n",
        "\n",
        "#profile_report"
      ],
      "execution_count": 0,
      "outputs": []
    },
    {
      "cell_type": "markdown",
      "metadata": {
        "id": "a1tUXFtyJPtH",
        "colab_type": "text"
      },
      "source": [
        "#Exploring pairwise relationships \n"
      ]
    },
    {
      "cell_type": "code",
      "metadata": {
        "id": "eNEHMBL5ephJ",
        "colab_type": "code",
        "colab": {}
      },
      "source": [
        "#import seaborn as sns\n",
        "#sns.pairplot(train)"
      ],
      "execution_count": 0,
      "outputs": []
    },
    {
      "cell_type": "markdown",
      "metadata": {
        "id": "HZ95qvEfa91D",
        "colab_type": "text"
      },
      "source": [
        "###Baseline statistics for the target variable total_cases in train dataset"
      ]
    },
    {
      "cell_type": "code",
      "metadata": {
        "id": "7A-XYkerJjjQ",
        "colab_type": "code",
        "outputId": "2e33e1a1-7b12-4973-fff6-2fe79099904c",
        "colab": {
          "base_uri": "https://localhost:8080/",
          "height": 168
        }
      },
      "source": [
        "train['total_cases']. describe()"
      ],
      "execution_count": 25,
      "outputs": [
        {
          "output_type": "execute_result",
          "data": {
            "text/plain": [
              "count    1164.000000\n",
              "mean       23.116838\n",
              "std        39.493135\n",
              "min         0.000000\n",
              "25%         4.000000\n",
              "50%        12.000000\n",
              "75%        27.000000\n",
              "max       461.000000\n",
              "Name: total_cases, dtype: float64"
            ]
          },
          "metadata": {
            "tags": []
          },
          "execution_count": 25
        }
      ]
    },
    {
      "cell_type": "markdown",
      "metadata": {
        "id": "xogXApkkl3uq",
        "colab_type": "text"
      },
      "source": [
        "####Baseline mean and mean absolute error"
      ]
    },
    {
      "cell_type": "code",
      "metadata": {
        "id": "WLnzDoy8lUc-",
        "colab_type": "code",
        "outputId": "01ad1912-4de4-4fc6-c8b4-86e4cdc25c12",
        "colab": {
          "base_uri": "https://localhost:8080/",
          "height": 34
        }
      },
      "source": [
        "guess = train['total_cases'].mean()\n",
        "print('At the baseline, the mean total number of dengue cases is=', guess)"
      ],
      "execution_count": 26,
      "outputs": [
        {
          "output_type": "stream",
          "text": [
            "At the baseline, the mean total number of dengue cases is= 23.116838487972508\n"
          ],
          "name": "stdout"
        }
      ]
    },
    {
      "cell_type": "code",
      "metadata": {
        "id": "I87_FCk6bHrd",
        "colab_type": "code",
        "colab": {}
      },
      "source": [
        "#If we had just guessed that the total number of dengue cases was 23.11 for a city in a particular year, we would be off by how much?"
      ],
      "execution_count": 0,
      "outputs": []
    },
    {
      "cell_type": "code",
      "metadata": {
        "id": "7fgbMfSkmF8C",
        "colab_type": "code",
        "outputId": "b3c9be66-0213-480c-9dd2-7523dc4e3a5b",
        "colab": {
          "base_uri": "https://localhost:8080/",
          "height": 67
        }
      },
      "source": [
        "from sklearn.metrics import mean_absolute_error\n",
        "\n",
        "# Arrange y target vectors\n",
        "target = 'total_cases'\n",
        "y_train = train[target]\n",
        "y_val = val[target]\n",
        "\n",
        "# Get mean baseline\n",
        "print('Mean Baseline (using 0 features)')\n",
        "guess = y_train.mean()\n",
        "\n",
        "# Train Error\n",
        "y_pred = [guess] * len(y_train)\n",
        "mae = mean_absolute_error(y_train, y_pred)\n",
        "print(f'Train mean absolute error: {mae:.2f} dengue cases per year')\n",
        "\n",
        "# Test Error\n",
        "y_pred = [guess] * len(y_val)\n",
        "mae = mean_absolute_error(y_val, y_pred)\n",
        "print(f'Validation mean absolute error: {mae:.2f} dengue cases per year')"
      ],
      "execution_count": 28,
      "outputs": [
        {
          "output_type": "stream",
          "text": [
            "Mean Baseline (using 0 features)\n",
            "Train mean absolute error: 20.99 dengue cases per year\n",
            "Validation mean absolute error: 27.79 dengue cases per year\n"
          ],
          "name": "stdout"
        }
      ]
    },
    {
      "cell_type": "code",
      "metadata": {
        "id": "BAWtSoZ-iSHM",
        "colab_type": "code",
        "outputId": "ce46a16f-08f9-4061-bcc7-651998e80c9e",
        "colab": {
          "base_uri": "https://localhost:8080/",
          "height": 296
        }
      },
      "source": [
        "#Box Plot for total number of dengue cases in a city for a year\n",
        "import seaborn as sns\n",
        "sns.boxplot(train.total_cases)\n",
        "plt.title('Box Plot for total number of dengue cases in a city for a year')\n",
        "plt.show()"
      ],
      "execution_count": 29,
      "outputs": [
        {
          "output_type": "display_data",
          "data": {
            "image/png": "[encoded data removed]",
            "text/plain": [
              "<Figure size 432x288 with 1 Axes>"
            ]
          },
          "metadata": {
            "tags": []
          }
        }
      ]
    },
    {
      "cell_type": "code",
      "metadata": {
        "id": "g9osWUJLcVto",
        "colab_type": "code",
        "outputId": "8593e55a-d989-44c2-d5e8-de68448b021a",
        "colab": {
          "base_uri": "https://localhost:8080/",
          "height": 453
        }
      },
      "source": [
        "\n",
        "sns.pairplot(train, x_vars='reanalysis_tdtr_k', y_vars='total_cases', kind='scatter', height=6)\n",
        "plt.title('Inverse relationship between total dengue cases in a city in a year and diurnal temperature range')\n",
        "plt.show()"
      ],
      "execution_count": 30,
      "outputs": [
        {
          "output_type": "display_data",
          "data": {
            "image/png": "[encoded data removed]",
            "text/plain": [
              "<Figure size 432x432 with 1 Axes>"
            ]
          },
          "metadata": {
            "tags": []
          }
        }
      ]
    },
    {
      "cell_type": "markdown",
      "metadata": {
        "id": "SMZMZFFCcUQL",
        "colab_type": "text"
      },
      "source": [
        "#####From the above plot, there seems to be an inverse relationship between total dengue cases in a city in a year and Diurnal temperature range by NOAA's NCEP Climate Forecast System Reanalysis measurements "
      ]
    },
    {
      "cell_type": "code",
      "metadata": {
        "id": "ZD_wVY6UgLgi",
        "colab_type": "code",
        "outputId": "51b6859a-b575-4b76-9231-a719791fc7f3",
        "colab": {
          "base_uri": "https://localhost:8080/",
          "height": 453
        }
      },
      "source": [
        "sns.pairplot(train, x_vars='station_precip_mm', y_vars='total_cases', kind='scatter', height=6)\n",
        "plt.title('Inverse relationship between total dengue cases in a city in a year and total precipitation in mm for the year')\n",
        "plt.show()"
      ],
      "execution_count": 31,
      "outputs": [
        {
          "output_type": "display_data",
          "data": {
            "image/png": "[encoded data removed]",
            "text/plain": [
              "<Figure size 432x432 with 1 Axes>"
            ]
          },
          "metadata": {
            "tags": []
          }
        }
      ]
    },
    {
      "cell_type": "markdown",
      "metadata": {
        "id": "kIQ2Fc98n_33",
        "colab_type": "text"
      },
      "source": [
        "###Using Ridge Regression "
      ]
    },
    {
      "cell_type": "code",
      "metadata": {
        "id": "e4fcfNKPojcD",
        "colab_type": "code",
        "outputId": "9ca40d30-2371-4dcc-85dd-6cc2b031cb24",
        "colab": {
          "base_uri": "https://localhost:8080/",
          "height": 728
        }
      },
      "source": [
        "#numeric features in train dataset\n",
        "train.select_dtypes(include='number').describe().T"
      ],
      "execution_count": 32,
      "outputs": [
        {
          "output_type": "execute_result",
          "data": {
            "text/html": [
              "<div>\n",
              "<style scoped>\n",
              "    .dataframe tbody tr th:only-of-type {\n",
              "        vertical-align: middle;\n",
              "    }\n",
              "\n",
              "    .dataframe tbody tr th {\n",
              "        vertical-align: top;\n",
              "    }\n",
              "\n",
              "    .dataframe thead th {\n",
              "        text-align: right;\n",
              "    }\n",
              "</style>\n",
              "<table border=\"1\" class=\"dataframe\">\n",
              "  <thead>\n",
              "    <tr style=\"text-align: right;\">\n",
              "      <th></th>\n",
              "      <th>count</th>\n",
              "      <th>mean</th>\n",
              "      <th>std</th>\n",
              "      <th>min</th>\n",
              "      <th>25%</th>\n",
              "      <th>50%</th>\n",
              "      <th>75%</th>\n",
              "      <th>max</th>\n",
              "    </tr>\n",
              "  </thead>\n",
              "  <tbody>\n",
              "    <tr>\n",
              "      <th>year</th>\n",
              "      <td>1164.0</td>\n",
              "      <td>2001.026632</td>\n",
              "      <td>5.459314</td>\n",
              "      <td>1990.000000</td>\n",
              "      <td>1997.000000</td>\n",
              "      <td>2002.000000</td>\n",
              "      <td>2006.000000</td>\n",
              "      <td>2010.000000</td>\n",
              "    </tr>\n",
              "    <tr>\n",
              "      <th>weekofyear</th>\n",
              "      <td>1164.0</td>\n",
              "      <td>26.399485</td>\n",
              "      <td>15.194617</td>\n",
              "      <td>1.000000</td>\n",
              "      <td>13.000000</td>\n",
              "      <td>26.000000</td>\n",
              "      <td>40.000000</td>\n",
              "      <td>53.000000</td>\n",
              "    </tr>\n",
              "    <tr>\n",
              "      <th>ndvi_ne</th>\n",
              "      <td>1008.0</td>\n",
              "      <td>0.143563</td>\n",
              "      <td>0.138596</td>\n",
              "      <td>-0.406250</td>\n",
              "      <td>0.045912</td>\n",
              "      <td>0.130200</td>\n",
              "      <td>0.249071</td>\n",
              "      <td>0.508357</td>\n",
              "    </tr>\n",
              "    <tr>\n",
              "      <th>ndvi_nw</th>\n",
              "      <td>1127.0</td>\n",
              "      <td>0.129350</td>\n",
              "      <td>0.118388</td>\n",
              "      <td>-0.309600</td>\n",
              "      <td>0.047733</td>\n",
              "      <td>0.120500</td>\n",
              "      <td>0.214664</td>\n",
              "      <td>0.454429</td>\n",
              "    </tr>\n",
              "    <tr>\n",
              "      <th>ndvi_se</th>\n",
              "      <td>1149.0</td>\n",
              "      <td>0.202600</td>\n",
              "      <td>0.073291</td>\n",
              "      <td>0.006183</td>\n",
              "      <td>0.152729</td>\n",
              "      <td>0.195657</td>\n",
              "      <td>0.248500</td>\n",
              "      <td>0.538314</td>\n",
              "    </tr>\n",
              "    <tr>\n",
              "      <th>ndvi_sw</th>\n",
              "      <td>1149.0</td>\n",
              "      <td>0.200406</td>\n",
              "      <td>0.084038</td>\n",
              "      <td>-0.063457</td>\n",
              "      <td>0.140714</td>\n",
              "      <td>0.186900</td>\n",
              "      <td>0.246729</td>\n",
              "      <td>0.546017</td>\n",
              "    </tr>\n",
              "    <tr>\n",
              "      <th>precipitation_amt_mm</th>\n",
              "      <td>1152.0</td>\n",
              "      <td>46.153264</td>\n",
              "      <td>43.691925</td>\n",
              "      <td>0.000000</td>\n",
              "      <td>9.535000</td>\n",
              "      <td>38.680000</td>\n",
              "      <td>70.615000</td>\n",
              "      <td>389.600000</td>\n",
              "    </tr>\n",
              "    <tr>\n",
              "      <th>reanalysis_air_temp_k</th>\n",
              "      <td>1155.0</td>\n",
              "      <td>298.676894</td>\n",
              "      <td>1.371270</td>\n",
              "      <td>294.635714</td>\n",
              "      <td>297.641429</td>\n",
              "      <td>298.600000</td>\n",
              "      <td>299.804286</td>\n",
              "      <td>302.200000</td>\n",
              "    </tr>\n",
              "    <tr>\n",
              "      <th>reanalysis_avg_temp_k</th>\n",
              "      <td>1155.0</td>\n",
              "      <td>299.196469</td>\n",
              "      <td>1.279814</td>\n",
              "      <td>294.892857</td>\n",
              "      <td>298.232143</td>\n",
              "      <td>299.228571</td>\n",
              "      <td>300.200000</td>\n",
              "      <td>302.928571</td>\n",
              "    </tr>\n",
              "    <tr>\n",
              "      <th>reanalysis_dew_point_temp_k</th>\n",
              "      <td>1155.0</td>\n",
              "      <td>295.211953</td>\n",
              "      <td>1.547203</td>\n",
              "      <td>289.642857</td>\n",
              "      <td>294.060000</td>\n",
              "      <td>295.555714</td>\n",
              "      <td>296.454286</td>\n",
              "      <td>298.450000</td>\n",
              "    </tr>\n",
              "    <tr>\n",
              "      <th>reanalysis_max_air_temp_k</th>\n",
              "      <td>1155.0</td>\n",
              "      <td>303.394719</td>\n",
              "      <td>3.267181</td>\n",
              "      <td>297.800000</td>\n",
              "      <td>300.900000</td>\n",
              "      <td>302.400000</td>\n",
              "      <td>305.500000</td>\n",
              "      <td>314.000000</td>\n",
              "    </tr>\n",
              "    <tr>\n",
              "      <th>reanalysis_min_air_temp_k</th>\n",
              "      <td>1155.0</td>\n",
              "      <td>295.696104</td>\n",
              "      <td>2.569099</td>\n",
              "      <td>287.200000</td>\n",
              "      <td>293.900000</td>\n",
              "      <td>296.200000</td>\n",
              "      <td>297.900000</td>\n",
              "      <td>299.900000</td>\n",
              "    </tr>\n",
              "    <tr>\n",
              "      <th>reanalysis_precip_amt_kg_per_m2</th>\n",
              "      <td>1155.0</td>\n",
              "      <td>39.426052</td>\n",
              "      <td>40.811735</td>\n",
              "      <td>0.000000</td>\n",
              "      <td>12.730000</td>\n",
              "      <td>26.900000</td>\n",
              "      <td>53.150000</td>\n",
              "      <td>362.030000</td>\n",
              "    </tr>\n",
              "    <tr>\n",
              "      <th>reanalysis_relative_humidity_percent</th>\n",
              "      <td>1155.0</td>\n",
              "      <td>82.109300</td>\n",
              "      <td>7.162488</td>\n",
              "      <td>57.787143</td>\n",
              "      <td>77.162857</td>\n",
              "      <td>80.255714</td>\n",
              "      <td>85.869286</td>\n",
              "      <td>98.610000</td>\n",
              "    </tr>\n",
              "    <tr>\n",
              "      <th>reanalysis_sat_precip_amt_mm</th>\n",
              "      <td>1152.0</td>\n",
              "      <td>46.153264</td>\n",
              "      <td>43.691925</td>\n",
              "      <td>0.000000</td>\n",
              "      <td>9.535000</td>\n",
              "      <td>38.680000</td>\n",
              "      <td>70.615000</td>\n",
              "      <td>389.600000</td>\n",
              "    </tr>\n",
              "    <tr>\n",
              "      <th>reanalysis_specific_humidity_g_per_kg</th>\n",
              "      <td>1155.0</td>\n",
              "      <td>16.712782</td>\n",
              "      <td>1.561037</td>\n",
              "      <td>11.715714</td>\n",
              "      <td>15.511429</td>\n",
              "      <td>17.001429</td>\n",
              "      <td>17.975000</td>\n",
              "      <td>20.461429</td>\n",
              "    </tr>\n",
              "    <tr>\n",
              "      <th>reanalysis_tdtr_k</th>\n",
              "      <td>1155.0</td>\n",
              "      <td>4.892059</td>\n",
              "      <td>3.550197</td>\n",
              "      <td>1.357143</td>\n",
              "      <td>2.314286</td>\n",
              "      <td>2.828571</td>\n",
              "      <td>7.535714</td>\n",
              "      <td>16.028571</td>\n",
              "    </tr>\n",
              "    <tr>\n",
              "      <th>station_avg_temp_c</th>\n",
              "      <td>1125.0</td>\n",
              "      <td>27.147834</td>\n",
              "      <td>1.311734</td>\n",
              "      <td>21.400000</td>\n",
              "      <td>26.242857</td>\n",
              "      <td>27.400000</td>\n",
              "      <td>28.157143</td>\n",
              "      <td>30.071429</td>\n",
              "    </tr>\n",
              "    <tr>\n",
              "      <th>station_diur_temp_rng_c</th>\n",
              "      <td>1125.0</td>\n",
              "      <td>8.037556</td>\n",
              "      <td>2.136226</td>\n",
              "      <td>4.528571</td>\n",
              "      <td>6.485714</td>\n",
              "      <td>7.285714</td>\n",
              "      <td>9.500000</td>\n",
              "      <td>14.900000</td>\n",
              "    </tr>\n",
              "    <tr>\n",
              "      <th>station_max_temp_c</th>\n",
              "      <td>1146.0</td>\n",
              "      <td>32.406021</td>\n",
              "      <td>1.970713</td>\n",
              "      <td>26.700000</td>\n",
              "      <td>31.100000</td>\n",
              "      <td>32.800000</td>\n",
              "      <td>33.800000</td>\n",
              "      <td>38.600000</td>\n",
              "    </tr>\n",
              "    <tr>\n",
              "      <th>station_min_temp_c</th>\n",
              "      <td>1151.0</td>\n",
              "      <td>22.072198</td>\n",
              "      <td>1.579568</td>\n",
              "      <td>14.700000</td>\n",
              "      <td>21.100000</td>\n",
              "      <td>22.100000</td>\n",
              "      <td>23.300000</td>\n",
              "      <td>25.600000</td>\n",
              "    </tr>\n",
              "    <tr>\n",
              "      <th>station_precip_mm</th>\n",
              "      <td>1145.0</td>\n",
              "      <td>38.501310</td>\n",
              "      <td>45.240836</td>\n",
              "      <td>0.000000</td>\n",
              "      <td>8.300000</td>\n",
              "      <td>23.700000</td>\n",
              "      <td>53.600000</td>\n",
              "      <td>350.900000</td>\n",
              "    </tr>\n",
              "    <tr>\n",
              "      <th>total_cases</th>\n",
              "      <td>1164.0</td>\n",
              "      <td>23.116838</td>\n",
              "      <td>39.493135</td>\n",
              "      <td>0.000000</td>\n",
              "      <td>4.000000</td>\n",
              "      <td>12.000000</td>\n",
              "      <td>27.000000</td>\n",
              "      <td>461.000000</td>\n",
              "    </tr>\n",
              "  </tbody>\n",
              "</table>\n",
              "</div>"
            ],
            "text/plain": [
              "                                        count  ...          max\n",
              "year                                   1164.0  ...  2010.000000\n",
              "weekofyear                             1164.0  ...    53.000000\n",
              "ndvi_ne                                1008.0  ...     0.508357\n",
              "ndvi_nw                                1127.0  ...     0.454429\n",
              "ndvi_se                                1149.0  ...     0.538314\n",
              "ndvi_sw                                1149.0  ...     0.546017\n",
              "precipitation_amt_mm                   1152.0  ...   389.600000\n",
              "reanalysis_air_temp_k                  1155.0  ...   302.200000\n",
              "reanalysis_avg_temp_k                  1155.0  ...   302.928571\n",
              "reanalysis_dew_point_temp_k            1155.0  ...   298.450000\n",
              "reanalysis_max_air_temp_k              1155.0  ...   314.000000\n",
              "reanalysis_min_air_temp_k              1155.0  ...   299.900000\n",
              "reanalysis_precip_amt_kg_per_m2        1155.0  ...   362.030000\n",
              "reanalysis_relative_humidity_percent   1155.0  ...    98.610000\n",
              "reanalysis_sat_precip_amt_mm           1152.0  ...   389.600000\n",
              "reanalysis_specific_humidity_g_per_kg  1155.0  ...    20.461429\n",
              "reanalysis_tdtr_k                      1155.0  ...    16.028571\n",
              "station_avg_temp_c                     1125.0  ...    30.071429\n",
              "station_diur_temp_rng_c                1125.0  ...    14.900000\n",
              "station_max_temp_c                     1146.0  ...    38.600000\n",
              "station_min_temp_c                     1151.0  ...    25.600000\n",
              "station_precip_mm                      1145.0  ...   350.900000\n",
              "total_cases                            1164.0  ...   461.000000\n",
              "\n",
              "[23 rows x 8 columns]"
            ]
          },
          "metadata": {
            "tags": []
          },
          "execution_count": 32
        }
      ]
    },
    {
      "cell_type": "code",
      "metadata": {
        "id": "C8Cwwzovs5Tr",
        "colab_type": "code",
        "outputId": "a4aa7029-3e59-4b55-f598-8910d95c2858",
        "colab": {
          "base_uri": "https://localhost:8080/",
          "height": 106
        }
      },
      "source": [
        "#non-numeric features in train dataset\n",
        "train.select_dtypes(exclude='number').describe().T"
      ],
      "execution_count": 33,
      "outputs": [
        {
          "output_type": "execute_result",
          "data": {
            "text/html": [
              "<div>\n",
              "<style scoped>\n",
              "    .dataframe tbody tr th:only-of-type {\n",
              "        vertical-align: middle;\n",
              "    }\n",
              "\n",
              "    .dataframe tbody tr th {\n",
              "        vertical-align: top;\n",
              "    }\n",
              "\n",
              "    .dataframe thead th {\n",
              "        text-align: right;\n",
              "    }\n",
              "</style>\n",
              "<table border=\"1\" class=\"dataframe\">\n",
              "  <thead>\n",
              "    <tr style=\"text-align: right;\">\n",
              "      <th></th>\n",
              "      <th>count</th>\n",
              "      <th>unique</th>\n",
              "      <th>top</th>\n",
              "      <th>freq</th>\n",
              "    </tr>\n",
              "  </thead>\n",
              "  <tbody>\n",
              "    <tr>\n",
              "      <th>city</th>\n",
              "      <td>1164</td>\n",
              "      <td>2</td>\n",
              "      <td>sj</td>\n",
              "      <td>750</td>\n",
              "    </tr>\n",
              "    <tr>\n",
              "      <th>week_start_date</th>\n",
              "      <td>1164</td>\n",
              "      <td>903</td>\n",
              "      <td>2006-12-24</td>\n",
              "      <td>2</td>\n",
              "    </tr>\n",
              "  </tbody>\n",
              "</table>\n",
              "</div>"
            ],
            "text/plain": [
              "                count unique         top freq\n",
              "city             1164      2          sj  750\n",
              "week_start_date  1164    903  2006-12-24    2"
            ]
          },
          "metadata": {
            "tags": []
          },
          "execution_count": 33
        }
      ]
    },
    {
      "cell_type": "code",
      "metadata": {
        "id": "m0DZ8or47xHq",
        "colab_type": "code",
        "colab": {}
      },
      "source": [
        ""
      ],
      "execution_count": 0,
      "outputs": []
    },
    {
      "cell_type": "code",
      "metadata": {
        "id": "vyP7josIxith",
        "colab_type": "code",
        "colab": {}
      },
      "source": [
        "#we need to convert week_start_date to numeric form uisng pd.to_dateime function\n",
        "#wrangle function \n",
        "\n",
        "def wrangle(X):\n",
        "  X = X.copy()\n",
        "       \n",
        "    # Convert week_start_date to numeric form\n",
        "  X['week_start_date'] = pd.to_datetime(X['week_start_date'], infer_datetime_format=True)\n",
        "    \n",
        "    # Extract components from date_recorded, then drop the original column\n",
        "  X['year_recorded'] = X['week_start_date'].dt.year\n",
        "  X['month_recorded'] = X['week_start_date'].dt.month\n",
        "  X['day_recorded'] = X['week_start_date'].dt.day\n",
        "  X = X.drop(columns='week_start_date')\n",
        "  X = X.drop(columns='year')\n",
        "    #any feature engineering, write here below\n",
        "    \n",
        "    # return the wrangled dataframe\n",
        "  return X\n",
        "\n",
        "train = wrangle(train)\n",
        "val = wrangle(val)\n",
        "test = wrangle(test)\n"
      ],
      "execution_count": 0,
      "outputs": []
    },
    {
      "cell_type": "code",
      "metadata": {
        "id": "R0dXjs3876OM",
        "colab_type": "code",
        "colab": {}
      },
      "source": [
        ""
      ],
      "execution_count": 0,
      "outputs": []
    },
    {
      "cell_type": "code",
      "metadata": {
        "id": "OxXgtCPH-oUD",
        "colab_type": "code",
        "colab": {}
      },
      "source": [
        "# The status_group column is the target\n",
        "target = 'total_cases'\n",
        "\n",
        "# Get a dataframe with all train columns except the target\n",
        "train_features = train.drop(columns=[target])\n",
        "\n",
        "# Get a list of the numeric features\n",
        "numeric_features = train_features.select_dtypes(include='number').columns.tolist()\n",
        "\n",
        "# Get a series with the cardinality of the nonnumeric features\n",
        "cardinality = train_features.select_dtypes(exclude='number').nunique()\n",
        "\n",
        "# Get a list of all categorical features with cardinality <= 50\n",
        "categorical_features = cardinality[cardinality <= 50].index.tolist()\n",
        "\n",
        "# Combine the lists \n",
        "features = numeric_features + categorical_features"
      ],
      "execution_count": 0,
      "outputs": []
    },
    {
      "cell_type": "code",
      "metadata": {
        "id": "hYrFsR9k-0jI",
        "colab_type": "code",
        "colab": {}
      },
      "source": [
        "# Arrange data into X features matrix and y target vector \n",
        "X_train = train[features]\n",
        "y_train = train[target]\n",
        "X_val = val[features]\n",
        "y_val = val[target]\n",
        "X_test = test[features]"
      ],
      "execution_count": 0,
      "outputs": []
    },
    {
      "cell_type": "code",
      "metadata": {
        "id": "LHT-RVHDAJNt",
        "colab_type": "code",
        "outputId": "02745202-0232-4564-ff22-4fb246085144",
        "colab": {
          "base_uri": "https://localhost:8080/",
          "height": 202
        }
      },
      "source": [
        "pip install category_encoders"
      ],
      "execution_count": 37,
      "outputs": [
        {
          "output_type": "stream",
          "text": [
            "Requirement already satisfied: category_encoders in /usr/local/lib/python3.6/dist-packages (2.1.0)\n",
            "Requirement already satisfied: statsmodels>=0.6.1 in /usr/local/lib/python3.6/dist-packages (from category_encoders) (0.10.2)\n",
            "Requirement already satisfied: pandas>=0.21.1 in /usr/local/lib/python3.6/dist-packages (from category_encoders) (0.25.3)\n",
            "Requirement already satisfied: scipy>=0.19.0 in /usr/local/lib/python3.6/dist-packages (from category_encoders) (1.3.3)\n",
            "Requirement already satisfied: numpy>=1.11.3 in /usr/local/lib/python3.6/dist-packages (from category_encoders) (1.17.4)\n",
            "Requirement already satisfied: patsy>=0.4.1 in /usr/local/lib/python3.6/dist-packages (from category_encoders) (0.5.1)\n",
            "Requirement already satisfied: scikit-learn>=0.20.0 in /usr/local/lib/python3.6/dist-packages (from category_encoders) (0.21.3)\n",
            "Requirement already satisfied: python-dateutil>=2.6.1 in /usr/local/lib/python3.6/dist-packages (from pandas>=0.21.1->category_encoders) (2.6.1)\n",
            "Requirement already satisfied: pytz>=2017.2 in /usr/local/lib/python3.6/dist-packages (from pandas>=0.21.1->category_encoders) (2018.9)\n",
            "Requirement already satisfied: six in /usr/local/lib/python3.6/dist-packages (from patsy>=0.4.1->category_encoders) (1.12.0)\n",
            "Requirement already satisfied: joblib>=0.11 in /usr/local/lib/python3.6/dist-packages (from scikit-learn>=0.20.0->category_encoders) (0.14.0)\n"
          ],
          "name": "stdout"
        }
      ]
    },
    {
      "cell_type": "code",
      "metadata": {
        "id": "Vy5cad8M-BQ8",
        "colab_type": "code",
        "colab": {}
      },
      "source": [
        "\n",
        "import category_encoders as ce\n",
        "from sklearn.impute import SimpleImputer\n",
        "from sklearn.preprocessing import OneHotEncoder\n",
        "import xgboost as xgb\n",
        "from xgboost import XGBRegressor\n",
        "from sklearn import model_selection, preprocessing"
      ],
      "execution_count": 0,
      "outputs": []
    },
    {
      "cell_type": "code",
      "metadata": {
        "id": "Y0FLling-DVP",
        "colab_type": "code",
        "colab": {}
      },
      "source": [
        "#One hotencoding\n",
        "encoder = ce.OneHotEncoder(use_cat_names=True)\n",
        "X_train_encoded = encoder.fit_transform(X_train)\n",
        "X_val_encoded = encoder.fit_transform(X_val)\n",
        "X_test_encoded = encoder.fit_transform(X_test)"
      ],
      "execution_count": 0,
      "outputs": []
    },
    {
      "cell_type": "code",
      "metadata": {
        "id": "EUCh5sknEDjk",
        "colab_type": "code",
        "colab": {
          "base_uri": "https://localhost:8080/",
          "height": 1000
        },
        "outputId": "67941093-eb5b-4494-ef14-24668b3bb09c"
      },
      "source": [
        "model = XGBRegressor(n_estimators=150,    \n",
        "                      max_depth=15,          \n",
        "                      learning_rate=0.1,    \n",
        "                      random_state=42,\n",
        "                      n_jobs=-1)\n",
        "\n",
        "eval_set = [(X_train_encoded, y_train),\n",
        "            (X_val_encoded, y_val)]\n",
        "\n",
        "# Fit on train, score on val\n",
        "model.fit(X_train_encoded, y_train,\n",
        "          eval_metric='mae',\n",
        "          eval_set=eval_set, \n",
        "          early_stopping_rounds=25)"
      ],
      "execution_count": 40,
      "outputs": [
        {
          "output_type": "stream",
          "text": [
            "[06:39:13] WARNING: /workspace/src/objective/regression_obj.cu:152: reg:linear is now deprecated in favor of reg:squarederror.\n",
            "[0]\tvalidation_0-mae:20.7057\tvalidation_1-mae:28.39\n",
            "Multiple eval metrics have been passed: 'validation_1-mae' will be used for early stopping.\n",
            "\n",
            "Will train until validation_1-mae hasn't improved in 25 rounds.\n"
          ],
          "name": "stdout"
        },
        {
          "output_type": "stream",
          "text": [
            "/usr/local/lib/python3.6/dist-packages/xgboost/core.py:587: FutureWarning: Series.base is deprecated and will be removed in a future version\n",
            "  if getattr(data, 'base', None) is not None and \\\n",
            "/usr/local/lib/python3.6/dist-packages/xgboost/core.py:588: FutureWarning: Series.base is deprecated and will be removed in a future version\n",
            "  data.base is not None and isinstance(data, np.ndarray) \\\n"
          ],
          "name": "stderr"
        },
        {
          "output_type": "stream",
          "text": [
            "[1]\tvalidation_0-mae:18.9298\tvalidation_1-mae:26.6406\n",
            "[2]\tvalidation_0-mae:17.3148\tvalidation_1-mae:25.0929\n",
            "[3]\tvalidation_0-mae:15.8551\tvalidation_1-mae:23.6249\n",
            "[4]\tvalidation_0-mae:14.5255\tvalidation_1-mae:22.3332\n",
            "[5]\tvalidation_0-mae:13.3107\tvalidation_1-mae:21.2058\n",
            "[6]\tvalidation_0-mae:12.2093\tvalidation_1-mae:20.0981\n",
            "[7]\tvalidation_0-mae:11.1982\tvalidation_1-mae:19.2679\n",
            "[8]\tvalidation_0-mae:10.2709\tvalidation_1-mae:18.5413\n",
            "[9]\tvalidation_0-mae:9.42204\tvalidation_1-mae:17.9452\n",
            "[10]\tvalidation_0-mae:8.65367\tvalidation_1-mae:17.376\n",
            "[11]\tvalidation_0-mae:7.94702\tvalidation_1-mae:16.9169\n",
            "[12]\tvalidation_0-mae:7.31702\tvalidation_1-mae:16.4256\n",
            "[13]\tvalidation_0-mae:6.73232\tvalidation_1-mae:16.0104\n",
            "[14]\tvalidation_0-mae:6.20166\tvalidation_1-mae:15.67\n",
            "[15]\tvalidation_0-mae:5.71178\tvalidation_1-mae:15.3975\n",
            "[16]\tvalidation_0-mae:5.26097\tvalidation_1-mae:15.2057\n",
            "[17]\tvalidation_0-mae:4.85025\tvalidation_1-mae:15.0523\n",
            "[18]\tvalidation_0-mae:4.47301\tvalidation_1-mae:14.8976\n",
            "[19]\tvalidation_0-mae:4.1285\tvalidation_1-mae:14.8362\n",
            "[20]\tvalidation_0-mae:3.81165\tvalidation_1-mae:14.79\n",
            "[21]\tvalidation_0-mae:3.52053\tvalidation_1-mae:14.704\n",
            "[22]\tvalidation_0-mae:3.2524\tvalidation_1-mae:14.679\n",
            "[23]\tvalidation_0-mae:3.00816\tvalidation_1-mae:14.6869\n",
            "[24]\tvalidation_0-mae:2.78145\tvalidation_1-mae:14.6487\n",
            "[25]\tvalidation_0-mae:2.57443\tvalidation_1-mae:14.6285\n",
            "[26]\tvalidation_0-mae:2.38366\tvalidation_1-mae:14.6323\n",
            "[27]\tvalidation_0-mae:2.20673\tvalidation_1-mae:14.6041\n",
            "[28]\tvalidation_0-mae:2.04325\tvalidation_1-mae:14.5648\n",
            "[29]\tvalidation_0-mae:1.89562\tvalidation_1-mae:14.5599\n",
            "[30]\tvalidation_0-mae:1.7594\tvalidation_1-mae:14.5197\n",
            "[31]\tvalidation_0-mae:1.63541\tvalidation_1-mae:14.5001\n",
            "[32]\tvalidation_0-mae:1.51848\tvalidation_1-mae:14.4912\n",
            "[33]\tvalidation_0-mae:1.40869\tvalidation_1-mae:14.4953\n",
            "[34]\tvalidation_0-mae:1.30877\tvalidation_1-mae:14.4778\n",
            "[35]\tvalidation_0-mae:1.21682\tvalidation_1-mae:14.452\n",
            "[36]\tvalidation_0-mae:1.13133\tvalidation_1-mae:14.4402\n",
            "[37]\tvalidation_0-mae:1.05326\tvalidation_1-mae:14.4239\n",
            "[38]\tvalidation_0-mae:0.980313\tvalidation_1-mae:14.4048\n",
            "[39]\tvalidation_0-mae:0.9123\tvalidation_1-mae:14.3866\n",
            "[40]\tvalidation_0-mae:0.84919\tvalidation_1-mae:14.3853\n",
            "[41]\tvalidation_0-mae:0.791946\tvalidation_1-mae:14.3853\n",
            "[42]\tvalidation_0-mae:0.738533\tvalidation_1-mae:14.3899\n",
            "[43]\tvalidation_0-mae:0.688973\tvalidation_1-mae:14.3898\n",
            "[44]\tvalidation_0-mae:0.642626\tvalidation_1-mae:14.4099\n",
            "[45]\tvalidation_0-mae:0.600066\tvalidation_1-mae:14.4268\n",
            "[46]\tvalidation_0-mae:0.560395\tvalidation_1-mae:14.4438\n",
            "[47]\tvalidation_0-mae:0.523697\tvalidation_1-mae:14.4626\n",
            "[48]\tvalidation_0-mae:0.489643\tvalidation_1-mae:14.4776\n",
            "[49]\tvalidation_0-mae:0.458379\tvalidation_1-mae:14.4889\n",
            "[50]\tvalidation_0-mae:0.427973\tvalidation_1-mae:14.495\n",
            "[51]\tvalidation_0-mae:0.399982\tvalidation_1-mae:14.5011\n",
            "[52]\tvalidation_0-mae:0.373416\tvalidation_1-mae:14.5085\n",
            "[53]\tvalidation_0-mae:0.349347\tvalidation_1-mae:14.5165\n",
            "[54]\tvalidation_0-mae:0.327491\tvalidation_1-mae:14.5284\n",
            "[55]\tvalidation_0-mae:0.3073\tvalidation_1-mae:14.5394\n",
            "[56]\tvalidation_0-mae:0.288454\tvalidation_1-mae:14.5498\n",
            "[57]\tvalidation_0-mae:0.270242\tvalidation_1-mae:14.5602\n",
            "[58]\tvalidation_0-mae:0.252624\tvalidation_1-mae:14.5722\n",
            "[59]\tvalidation_0-mae:0.235684\tvalidation_1-mae:14.5807\n",
            "[60]\tvalidation_0-mae:0.221368\tvalidation_1-mae:14.5888\n",
            "[61]\tvalidation_0-mae:0.207008\tvalidation_1-mae:14.5982\n",
            "[62]\tvalidation_0-mae:0.193748\tvalidation_1-mae:14.6098\n",
            "[63]\tvalidation_0-mae:0.181676\tvalidation_1-mae:14.6189\n",
            "[64]\tvalidation_0-mae:0.170503\tvalidation_1-mae:14.6335\n",
            "[65]\tvalidation_0-mae:0.160679\tvalidation_1-mae:14.6419\n",
            "[66]\tvalidation_0-mae:0.150918\tvalidation_1-mae:14.6487\n",
            "Stopping. Best iteration:\n",
            "[41]\tvalidation_0-mae:0.791946\tvalidation_1-mae:14.3853\n",
            "\n"
          ],
          "name": "stdout"
        },
        {
          "output_type": "execute_result",
          "data": {
            "text/plain": [
              "XGBRegressor(base_score=0.5, booster='gbtree', colsample_bylevel=1,\n",
              "             colsample_bynode=1, colsample_bytree=1, gamma=0,\n",
              "             importance_type='gain', learning_rate=0.1, max_delta_step=0,\n",
              "             max_depth=15, min_child_weight=1, missing=None, n_estimators=150,\n",
              "             n_jobs=-1, nthread=None, objective='reg:linear', random_state=42,\n",
              "             reg_alpha=0, reg_lambda=1, scale_pos_weight=1, seed=None,\n",
              "             silent=None, subsample=1, verbosity=1)"
            ]
          },
          "metadata": {
            "tags": []
          },
          "execution_count": 40
        }
      ]
    },
    {
      "cell_type": "code",
      "metadata": {
        "id": "HmU7ueuFEoa-",
        "colab_type": "code",
        "colab": {
          "base_uri": "https://localhost:8080/",
          "height": 459
        },
        "outputId": "c7096367-f5e6-47a5-e973-bb80fce5e5ab"
      },
      "source": [
        "results = model.evals_result()\n",
        "train_error = results['validation_0']['mae']\n",
        "val_error = results['validation_1']['mae']\n",
        "\n",
        "iterations = range(1, len(train_error) + 1)\n",
        "\n",
        "plt.figure(figsize=(10,7))\n",
        "plt.plot(iterations, train_error, label='Train')\n",
        "plt.plot(iterations, val_error, label='Validation')\n",
        "plt.title('XGBoost Validation Curve')\n",
        "plt.ylabel('Mean absolute error')\n",
        "plt.xlabel('Model Complexity (n_estimators)')\n",
        "plt.legend();"
      ],
      "execution_count": 41,
      "outputs": [
        {
          "output_type": "display_data",
          "data": {
            "image/png": "[encoded data removed]",
            "text/plain": [
              "<Figure size 720x504 with 1 Axes>"
            ]
          },
          "metadata": {
            "tags": []
          }
        }
      ]
    }
  ]
}